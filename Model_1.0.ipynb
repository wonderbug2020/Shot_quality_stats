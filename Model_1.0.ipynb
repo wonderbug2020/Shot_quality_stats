{
 "cells": [
  {
   "cell_type": "markdown",
   "id": "b3f9b993",
   "metadata": {},
   "source": [
    "# Overview\n",
    "This is version 1.0 of the model. It is my better effort to create a model based on the specifications of evolving hockey in the following write up.\n",
    "https://evolving-hockey.com/blog/a-new-expected-goals-model-for-predicting-goals-in-the-nhl/"
   ]
  },
  {
   "cell_type": "code",
   "execution_count": 13,
   "id": "9e12c949",
   "metadata": {},
   "outputs": [],
   "source": [
    "#Import libraries\n",
    "#used to import data\n",
    "import pandas as pd\n",
    "#XGB is the model that is used\n",
    "import xgboost as xgb\n",
    "from xgboost import cv\n",
    "#Evaluates the model\n",
    "from sklearn.metrics import log_loss\n",
    "\n",
    "import time #just used to see how long the model takes to run"
   ]
  },
  {
   "cell_type": "code",
   "execution_count": 5,
   "id": "788b18f8",
   "metadata": {},
   "outputs": [],
   "source": [
    "''' In their write up they say that for even strength, they used data from 10-11 to 16-17\n",
    "    Then they tested it on 17-18 data that the model had not seen. \n",
    "    I'm using this strategy to see if my model performs roughly the same as theirs\n",
    "'''\n",
    "df_11 = pd.read_csv('data/pbp/ready_to_model/10_11_pbp_cleaned.csv')\n",
    "df_12 = pd.read_csv('data/pbp/ready_to_model/11_12_pbp_cleaned.csv')\n",
    "df_13 = pd.read_csv('data/pbp/ready_to_model/12_13_pbp_cleaned.csv')\n",
    "df_14 = pd.read_csv('data/pbp/ready_to_model/13_14_pbp_cleaned.csv')\n",
    "df_15 = pd.read_csv('data/pbp/ready_to_model/14_15_pbp_cleaned.csv')\n",
    "df_16 = pd.read_csv('data/pbp/ready_to_model/15_16_pbp_cleaned.csv')\n",
    "df_17 = pd.read_csv('data/pbp/ready_to_model/16_17_pbp_cleaned.csv')\n",
    "df_18 = pd.read_csv('data/pbp/ready_to_model/17_18_pbp_cleaned.csv')\n",
    "df = pd.concat([df_11,df_12,df_13,df_14,df_15,df_16,df_17])"
   ]
  },
  {
   "cell_type": "code",
   "execution_count": 7,
   "id": "4dbcbbaf",
   "metadata": {},
   "outputs": [],
   "source": [
    "def get_X_y(df):\n",
    "    ''' This function takes in a dataframe and splits it into the X and y variables\n",
    "    '''\n",
    "    X = df.drop('is_goal', axis=1)\n",
    "    y = df.is_goal\n",
    "    \n",
    "    return X,y"
   ]
  },
  {
   "cell_type": "code",
   "execution_count": 12,
   "id": "092d7362",
   "metadata": {},
   "outputs": [
    {
     "name": "stdout",
     "output_type": "stream",
     "text": [
      "[19:05:38] WARNING: ..\\src\\learner.cc:541: \n",
      "Parameters: { gamme } might not be used.\n",
      "\n",
      "  This may not be accurate due to some parameters are only used in language bindings but\n",
      "  passed down to XGBoost core.  Or some parameters are not used but slip through this\n",
      "  verification. Please open an issue if you find above cases.\n",
      "\n",
      "\n",
      "-21.113216400146484\n",
      "0.19502098263440848\n"
     ]
    }
   ],
   "source": [
    "X_train, y_train = get_X_y(df)\n",
    "X_test, y_test = get_X_y(df_18)\n",
    "\n",
    "xgb_reg = xgb.XGBRegressor(objective='binary:logistic',\n",
    "                           gamme = .12, \n",
    "                           eval_metric = 'logloss',\n",
    "                           #eval_metric = 'auc', \n",
    "                           eta = .068,\n",
    "                           subsample = .78,\n",
    "                           colsample_bytree = .76,\n",
    "                           min_child_weight = 9,\n",
    "                           max_delta_step = 5,\n",
    "                           nthread = 4)\n",
    "\n",
    "start = time.time()\n",
    "xgb_reg.fit(X_train, y_train)\n",
    "print(start-time.time())\n",
    "\n",
    "y_pred = xgb_reg.predict(X_test)\n",
    "print(log_loss(y_test, y_pred))"
   ]
  },
  {
   "cell_type": "code",
   "execution_count": null,
   "id": "c3aed446",
   "metadata": {},
   "outputs": [],
   "source": [
    "#With k-fold validation"
   ]
  },
  {
   "cell_type": "code",
   "execution_count": 18,
   "id": "c5cc4642",
   "metadata": {},
   "outputs": [],
   "source": [
    "data_dmatrix = xgb.DMatrix(data=X_train,label=y_train)\n",
    "params = {'objective':'binary:logistic','eval_metric':'logloss','eta':.068,\n",
    "          'subsample':.78,'colsample_bytree':.76,'min_child_weight':9,\n",
    "          'max_delta_step':5,'nthread':4}\n",
    "xgb_cv = cv(dtrain=data_dmatrix, params=params, nfold=5, num_boost_round=20, metrics = 'logloss',seed=42)"
   ]
  },
  {
   "cell_type": "code",
   "execution_count": 19,
   "id": "6bea02ae",
   "metadata": {},
   "outputs": [
    {
     "ename": "AttributeError",
     "evalue": "'DataFrame' object has no attribute 'predict'",
     "output_type": "error",
     "traceback": [
      "\u001b[1;31m---------------------------------------------------------------------------\u001b[0m",
      "\u001b[1;31mAttributeError\u001b[0m                            Traceback (most recent call last)",
      "\u001b[1;32m<ipython-input-19-3240917033f6>\u001b[0m in \u001b[0;36m<module>\u001b[1;34m\u001b[0m\n\u001b[1;32m----> 1\u001b[1;33m \u001b[0my_pred\u001b[0m \u001b[1;33m=\u001b[0m \u001b[0mxgb_cv\u001b[0m\u001b[1;33m.\u001b[0m\u001b[0mpredict\u001b[0m\u001b[1;33m(\u001b[0m\u001b[0mX_test\u001b[0m\u001b[1;33m)\u001b[0m\u001b[1;33m\u001b[0m\u001b[1;33m\u001b[0m\u001b[0m\n\u001b[0m",
      "\u001b[1;32m~\\anaconda3\\lib\\site-packages\\pandas\\core\\generic.py\u001b[0m in \u001b[0;36m__getattr__\u001b[1;34m(self, name)\u001b[0m\n\u001b[0;32m   5463\u001b[0m             \u001b[1;32mif\u001b[0m \u001b[0mself\u001b[0m\u001b[1;33m.\u001b[0m\u001b[0m_info_axis\u001b[0m\u001b[1;33m.\u001b[0m\u001b[0m_can_hold_identifiers_and_holds_name\u001b[0m\u001b[1;33m(\u001b[0m\u001b[0mname\u001b[0m\u001b[1;33m)\u001b[0m\u001b[1;33m:\u001b[0m\u001b[1;33m\u001b[0m\u001b[1;33m\u001b[0m\u001b[0m\n\u001b[0;32m   5464\u001b[0m                 \u001b[1;32mreturn\u001b[0m \u001b[0mself\u001b[0m\u001b[1;33m[\u001b[0m\u001b[0mname\u001b[0m\u001b[1;33m]\u001b[0m\u001b[1;33m\u001b[0m\u001b[1;33m\u001b[0m\u001b[0m\n\u001b[1;32m-> 5465\u001b[1;33m             \u001b[1;32mreturn\u001b[0m \u001b[0mobject\u001b[0m\u001b[1;33m.\u001b[0m\u001b[0m__getattribute__\u001b[0m\u001b[1;33m(\u001b[0m\u001b[0mself\u001b[0m\u001b[1;33m,\u001b[0m \u001b[0mname\u001b[0m\u001b[1;33m)\u001b[0m\u001b[1;33m\u001b[0m\u001b[1;33m\u001b[0m\u001b[0m\n\u001b[0m\u001b[0;32m   5466\u001b[0m \u001b[1;33m\u001b[0m\u001b[0m\n\u001b[0;32m   5467\u001b[0m     \u001b[1;32mdef\u001b[0m \u001b[0m__setattr__\u001b[0m\u001b[1;33m(\u001b[0m\u001b[0mself\u001b[0m\u001b[1;33m,\u001b[0m \u001b[0mname\u001b[0m\u001b[1;33m:\u001b[0m \u001b[0mstr\u001b[0m\u001b[1;33m,\u001b[0m \u001b[0mvalue\u001b[0m\u001b[1;33m)\u001b[0m \u001b[1;33m->\u001b[0m \u001b[1;32mNone\u001b[0m\u001b[1;33m:\u001b[0m\u001b[1;33m\u001b[0m\u001b[1;33m\u001b[0m\u001b[0m\n",
      "\u001b[1;31mAttributeError\u001b[0m: 'DataFrame' object has no attribute 'predict'"
     ]
    }
   ],
   "source": [
    "y_pred = xgb_cv.predict(X_test)"
   ]
  },
  {
   "cell_type": "code",
   "execution_count": 20,
   "id": "0ec3ea89",
   "metadata": {},
   "outputs": [
    {
     "name": "stdout",
     "output_type": "stream",
     "text": [
      "    train-logloss-mean  train-logloss-std  test-logloss-mean  test-logloss-std\n",
      "0             0.640512           0.000029           0.640619          0.000045\n",
      "1             0.594916           0.000094           0.594883          0.000140\n",
      "2             0.554483           0.000070           0.554619          0.000166\n",
      "3             0.518974           0.000071           0.519033          0.000177\n",
      "4             0.487394           0.000136           0.487482          0.000184\n",
      "5             0.459220           0.000138           0.459335          0.000212\n",
      "6             0.433962           0.000132           0.434081          0.000252\n",
      "7             0.411311           0.000155           0.411454          0.000284\n",
      "8             0.390955           0.000167           0.391100          0.000308\n",
      "9             0.372635           0.000283           0.372804          0.000346\n",
      "10            0.356026           0.000276           0.356209          0.000361\n",
      "11            0.341027           0.000284           0.341212          0.000405\n",
      "12            0.327414           0.000292           0.327630          0.000390\n",
      "13            0.315056           0.000279           0.315287          0.000429\n",
      "14            0.303843           0.000346           0.304096          0.000435\n",
      "15            0.293695           0.000317           0.293971          0.000491\n",
      "16            0.284405           0.000306           0.284687          0.000507\n",
      "17            0.275948           0.000291           0.276255          0.000527\n",
      "18            0.268256           0.000269           0.268584          0.000544\n",
      "19            0.261224           0.000264           0.261564          0.000567\n"
     ]
    }
   ],
   "source": [
    "print(xgb_cv)"
   ]
  },
  {
   "cell_type": "code",
   "execution_count": null,
   "id": "66132d95",
   "metadata": {},
   "outputs": [],
   "source": []
  }
 ],
 "metadata": {
  "kernelspec": {
   "display_name": "Python 3",
   "language": "python",
   "name": "python3"
  },
  "language_info": {
   "codemirror_mode": {
    "name": "ipython",
    "version": 3
   },
   "file_extension": ".py",
   "mimetype": "text/x-python",
   "name": "python",
   "nbconvert_exporter": "python",
   "pygments_lexer": "ipython3",
   "version": "3.8.8"
  }
 },
 "nbformat": 4,
 "nbformat_minor": 5
}
