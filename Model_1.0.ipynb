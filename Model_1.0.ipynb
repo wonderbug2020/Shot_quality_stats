{
 "cells": [
  {
   "cell_type": "markdown",
   "id": "bc6f499a",
   "metadata": {},
   "source": [
    "# Overview\n",
    "This is version 1.0 of the model. It is my better effort to create a model based on the specifications of evolving hockey in the following write up.\n",
    "https://evolving-hockey.com/blog/a-new-expected-goals-model-for-predicting-goals-in-the-nhl/"
   ]
  },
  {
   "cell_type": "code",
   "execution_count": 2,
   "id": "68f5a30c",
   "metadata": {},
   "outputs": [],
   "source": [
    "#Import libraries\n",
    "#used to import data\n",
    "import pandas as pd\n",
    "#XGB is the model that is used\n",
    "import xgboost as xgb\n",
    "from xgboost import cv\n",
    "#Evaluates the model\n",
    "from sklearn.metrics import log_loss\n",
    "\n",
    "import time #just used to see how long the model takes to run"
   ]
  },
  {
   "cell_type": "code",
   "execution_count": 3,
   "id": "6bced6fa",
   "metadata": {},
   "outputs": [],
   "source": [
    "''' In their write up they say that for even strength, they used data from 10-11 to 16-17\n",
    "    Then they tested it on 17-18 data that the model had not seen. \n",
    "    I'm using this strategy to see if my model performs roughly the same as theirs\n",
    "'''\n",
    "df_11 = pd.read_csv('data/pbp/ready_to_model/10_11_pbp_cleaned.csv')\n",
    "df_12 = pd.read_csv('data/pbp/ready_to_model/11_12_pbp_cleaned.csv')\n",
    "df_13 = pd.read_csv('data/pbp/ready_to_model/12_13_pbp_cleaned.csv')\n",
    "df_14 = pd.read_csv('data/pbp/ready_to_model/13_14_pbp_cleaned.csv')\n",
    "df_15 = pd.read_csv('data/pbp/ready_to_model/14_15_pbp_cleaned.csv')\n",
    "df_16 = pd.read_csv('data/pbp/ready_to_model/15_16_pbp_cleaned.csv')\n",
    "df_17 = pd.read_csv('data/pbp/ready_to_model/16_17_pbp_cleaned.csv')\n",
    "df_18 = pd.read_csv('data/pbp/ready_to_model/17_18_pbp_cleaned.csv')\n",
    "df = pd.concat([df_11,df_12,df_13,df_14,df_15,df_16,df_17])"
   ]
  },
  {
   "cell_type": "code",
   "execution_count": 4,
   "id": "d9a57873",
   "metadata": {},
   "outputs": [],
   "source": [
    "def get_X_y(df):\n",
    "    ''' This function takes in a dataframe and splits it into the X and y variables\n",
    "    '''\n",
    "    X = df.drop('is_goal', axis=1)\n",
    "    y = df.is_goal\n",
    "    \n",
    "    return X,y"
   ]
  },
  {
   "cell_type": "code",
   "execution_count": 5,
   "id": "4717128c",
   "metadata": {},
   "outputs": [
    {
     "name": "stdout",
     "output_type": "stream",
     "text": [
      "[20:43:26] WARNING: ..\\src\\learner.cc:541: \n",
      "Parameters: { gamme } might not be used.\n",
      "\n",
      "  This may not be accurate due to some parameters are only used in language bindings but\n",
      "  passed down to XGBoost core.  Or some parameters are not used but slip through this\n",
      "  verification. Please open an issue if you find above cases.\n",
      "\n",
      "\n",
      "-22.802693605422974\n",
      "0.19502098263440848\n"
     ]
    }
   ],
   "source": [
    "X_train, y_train = get_X_y(df)\n",
    "X_test, y_test = get_X_y(df_18)\n",
    "\n",
    "xgb_reg = xgb.XGBRegressor(objective='binary:logistic',\n",
    "                           gamme = .12, \n",
    "                           eval_metric = 'logloss',\n",
    "                           #eval_metric = 'auc', \n",
    "                           eta = .068,\n",
    "                           subsample = .78,\n",
    "                           colsample_bytree = .76,\n",
    "                           min_child_weight = 9,\n",
    "                           max_delta_step = 5,\n",
    "                           nthread = 4)\n",
    "\n",
    "start = time.time()\n",
    "xgb_reg.fit(X_train, y_train)\n",
    "print(start-time.time())\n",
    "\n",
    "y_pred = xgb_reg.predict(X_test)\n",
    "print(log_loss(y_test, y_pred))"
   ]
  },
  {
   "cell_type": "code",
   "execution_count": null,
   "id": "12a82e23",
   "metadata": {},
   "outputs": [],
   "source": [
    "#With k-fold validation"
   ]
  },
  {
   "cell_type": "code",
   "execution_count": 10,
   "id": "091c5213",
   "metadata": {},
   "outputs": [],
   "source": [
    "def convert_to_sparse_pandas(df, exclude_columns=[]):\n",
    "    for (columnName, columnData) in df.iteritems():\n",
    "        if columnName in exclude_columns:\n",
    "            continue\n",
    "        df[columnName] = pd.arrays.SparseArray(columnData.values, dtype='uint8')\n",
    "\n",
    "    return df"
   ]
  },
  {
   "cell_type": "code",
   "execution_count": 12,
   "id": "efe4a74e",
   "metadata": {},
   "outputs": [],
   "source": [
    "ex_lst = ['coords_x', 'coords_y', 'coords_x_last', 'coords_y_last', \n",
    "          'shot_distance', 'shot_angle',]\n",
    "spar_df = convert_to_sparse_pandas(df,ex_lst)\n",
    "spar_df_18 = convert_to_sparse_pandas(df_18,ex_lst)"
   ]
  },
  {
   "cell_type": "code",
   "execution_count": 11,
   "id": "b97bfe6d",
   "metadata": {},
   "outputs": [
    {
     "name": "stdout",
     "output_type": "stream",
     "text": [
      "-21.60877513885498\n",
      "0.19510030257064714\n"
     ]
    }
   ],
   "source": [
    "X_train, y_train = get_X_y(spar_df)\n",
    "X_test, y_test = get_X_y(spar_df_18)\n",
    "\n",
    "xgb_reg = xgb.XGBRegressor(objective='binary:logistic',\n",
    "                           #gamme = .12, \n",
    "                           eval_metric = 'logloss',\n",
    "                           #eval_metric = 'auc', \n",
    "                           eta = .068,\n",
    "                           subsample = .78,\n",
    "                           colsample_bytree = .76,\n",
    "                           min_child_weight = 9,\n",
    "                           max_delta_step = 5,\n",
    "                           nthread = 4)\n",
    "\n",
    "start = time.time()\n",
    "xgb_reg.fit(X_train, y_train)\n",
    "print(start-time.time())\n",
    "\n",
    "y_pred = xgb_reg.predict(X_test)\n",
    "print(log_loss(y_test, y_pred))"
   ]
  },
  {
   "cell_type": "code",
   "execution_count": 13,
   "id": "c0e2ca45",
   "metadata": {},
   "outputs": [
    {
     "name": "stdout",
     "output_type": "stream",
     "text": [
      "0.18797379413175924\n"
     ]
    }
   ],
   "source": [
    "y_pred = xgb_reg.predict(X_train)\n",
    "print(log_loss(y_train, y_pred))"
   ]
  },
  {
   "cell_type": "code",
   "execution_count": null,
   "id": "a32cbcd2",
   "metadata": {},
   "outputs": [],
   "source": []
  }
 ],
 "metadata": {
  "kernelspec": {
   "display_name": "Python 3",
   "language": "python",
   "name": "python3"
  },
  "language_info": {
   "codemirror_mode": {
    "name": "ipython",
    "version": 3
   },
   "file_extension": ".py",
   "mimetype": "text/x-python",
   "name": "python",
   "nbconvert_exporter": "python",
   "pygments_lexer": "ipython3",
   "version": "3.8.8"
  }
 },
 "nbformat": 4,
 "nbformat_minor": 5
}
