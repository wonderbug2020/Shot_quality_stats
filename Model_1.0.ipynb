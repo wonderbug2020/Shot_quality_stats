{
 "cells": [
  {
   "cell_type": "markdown",
   "id": "bc6f499a",
   "metadata": {},
   "source": [
    "# Overview\n",
    "This is version 1.0 of the model. It is my better effort to create a model based on the specifications of evolving hockey in the following write up.\n",
    "https://evolving-hockey.com/blog/a-new-expected-goals-model-for-predicting-goals-in-the-nhl/"
   ]
  },
  {
   "cell_type": "code",
   "execution_count": 1,
   "id": "68f5a30c",
   "metadata": {},
   "outputs": [],
   "source": [
    "#Import libraries\n",
    "#used to import data\n",
    "import pandas as pd\n",
    "#XGB is the model that is used\n",
    "import xgboost as xgb\n",
    "from xgboost import cv\n",
    "#Evaluates the model\n",
    "from sklearn.metrics import log_loss\n",
    "\n",
    "import time #just used to see how long the model takes to run"
   ]
  },
  {
   "cell_type": "code",
   "execution_count": 13,
   "id": "6bced6fa",
   "metadata": {},
   "outputs": [],
   "source": [
    "''' In their write up they say that for even strength, they used data from 10-11 to 16-17\n",
    "    Then they tested it on 17-18 data that the model had not seen. \n",
    "    I'm using this strategy to see if my model performs roughly the same as theirs\n",
    "'''\n",
    "df_11 = pd.read_csv('data/pbp/ready_to_model/version_4/10_11_pbp_cleaned.csv')\n",
    "df_12 = pd.read_csv('data/pbp/ready_to_model/version_4/11_12_pbp_cleaned.csv')\n",
    "df_13 = pd.read_csv('data/pbp/ready_to_model/version_4/12_13_pbp_cleaned.csv')\n",
    "df_14 = pd.read_csv('data/pbp/ready_to_model/version_4/13_14_pbp_cleaned.csv')\n",
    "df_15 = pd.read_csv('data/pbp/ready_to_model/version_4/14_15_pbp_cleaned.csv')\n",
    "df_16 = pd.read_csv('data/pbp/ready_to_model/version_4/15_16_pbp_cleaned.csv')\n",
    "df_17 = pd.read_csv('data/pbp/ready_to_model/version_4/16_17_pbp_cleaned.csv')\n",
    "df_18 = pd.read_csv('data/pbp/ready_to_model/version_4/17_18_pbp_cleaned.csv')\n",
    "df = pd.concat([df_11,df_12,df_13,df_14,df_15,df_16,df_17])"
   ]
  },
  {
   "cell_type": "code",
   "execution_count": 8,
   "id": "d9a57873",
   "metadata": {},
   "outputs": [],
   "source": [
    "def get_X_y(df):\n",
    "    ''' This function takes in a dataframe and splits it into the X and y variables\n",
    "    '''\n",
    "    X = df.drop(['is_goal'], axis=1)\n",
    "    y = df.is_goal\n",
    "    \n",
    "    return X,y"
   ]
  },
  {
   "cell_type": "code",
   "execution_count": 9,
   "id": "4717128c",
   "metadata": {},
   "outputs": [
    {
     "name": "stdout",
     "output_type": "stream",
     "text": [
      "[20:17:56] WARNING: ..\\src\\learner.cc:541: \n",
      "Parameters: { gamme } might not be used.\n",
      "\n",
      "  This may not be accurate due to some parameters are only used in language bindings but\n",
      "  passed down to XGBoost core.  Or some parameters are not used but slip through this\n",
      "  verification. Please open an issue if you find above cases.\n",
      "\n",
      "\n",
      "-25.249342441558838\n",
      "0.19508612762239705\n"
     ]
    }
   ],
   "source": [
    "X_train, y_train = get_X_y(df)\n",
    "X_test, y_test = get_X_y(df_18)\n",
    "\n",
    "xgb_reg = xgb.XGBRegressor(objective='binary:logistic',\n",
    "                           gamme = .12, \n",
    "                           eval_metric = 'logloss',\n",
    "                           #eval_metric = 'auc', \n",
    "                           eta = .068,\n",
    "                           subsample = .78,\n",
    "                           colsample_bytree = .76,\n",
    "                           min_child_weight = 9,\n",
    "                           max_delta_step = 5,\n",
    "                           nthread = 4)\n",
    "\n",
    "start = time.time()\n",
    "xgb_reg.fit(X_train, y_train)\n",
    "print(start-time.time())\n",
    "\n",
    "y_pred = xgb_reg.predict(X_test)\n",
    "print(log_loss(y_test, y_pred))"
   ]
  },
  {
   "cell_type": "code",
   "execution_count": 14,
   "id": "e7e916a8",
   "metadata": {},
   "outputs": [
    {
     "name": "stdout",
     "output_type": "stream",
     "text": [
      "-23.02945876121521\n",
      "0.19130366376542968\n"
     ]
    }
   ],
   "source": [
    "X_train, y_train = get_X_y(df)\n",
    "X_test, y_test = get_X_y(df_18)\n",
    "\n",
    "xgb_reg = xgb.XGBRegressor(objective='binary:logistic',\n",
    "                           eval_metric = 'logloss',\n",
    "                           #eval_metric = 'auc', \n",
    "                           eta = .068,\n",
    "                           subsample = .78,\n",
    "                           colsample_bytree = .76,\n",
    "                           min_child_weight = 9,\n",
    "                           max_delta_step = 5,\n",
    "                           nthread = 4)\n",
    "\n",
    "start = time.time()\n",
    "xgb_reg.fit(X_train, y_train)\n",
    "print(start-time.time())\n",
    "\n",
    "y_pred = xgb_reg.predict(X_test)\n",
    "print(log_loss(y_test, y_pred))"
   ]
  },
  {
   "cell_type": "code",
   "execution_count": 12,
   "id": "164ed6cf",
   "metadata": {},
   "outputs": [
    {
     "data": {
      "text/plain": [
       "Index(['Unnamed: 0', 'game_period', 'game_seconds', 'is_home', 'coords_x',\n",
       "       'coords_y', 'coords_x_last', 'coords_y_last', 'shot_distance',\n",
       "       'shot_angle', 'state_5v5', 'state_5v4', 'score_down_4', 'score_down_3',\n",
       "       'score_down_2', 'score_down_1', 'score_even', 'score_up_1',\n",
       "       'score_up_2', 'score_up_3', 'wrist_shot', 'deflected_shot', 'tip_shot',\n",
       "       'slap_shot', 'backhand_shot', 'snap_shot', 'prior_shot_same',\n",
       "       'prior_miss_same', 'prior_shot_opp', 'prior_miss_opp', 'prior_give_opp',\n",
       "       'prior_take_opp', 'prior_hit_opp', 'prior_face', 'state_5v3',\n",
       "       'score_up_4', 'wrap_shot', 'prior_block_same', 'prior_block_opp',\n",
       "       'prior_give_same', 'prior_take_same', 'prior_hit_same', 'is_goal'],\n",
       "      dtype='object')"
      ]
     },
     "execution_count": 12,
     "metadata": {},
     "output_type": "execute_result"
    }
   ],
   "source": [
    "df.columns"
   ]
  },
  {
   "cell_type": "code",
   "execution_count": null,
   "id": "57303c16",
   "metadata": {},
   "outputs": [],
   "source": []
  }
 ],
 "metadata": {
  "kernelspec": {
   "display_name": "Python 3",
   "language": "python",
   "name": "python3"
  },
  "language_info": {
   "codemirror_mode": {
    "name": "ipython",
    "version": 3
   },
   "file_extension": ".py",
   "mimetype": "text/x-python",
   "name": "python",
   "nbconvert_exporter": "python",
   "pygments_lexer": "ipython3",
   "version": "3.8.8"
  }
 },
 "nbformat": 4,
 "nbformat_minor": 5
}
