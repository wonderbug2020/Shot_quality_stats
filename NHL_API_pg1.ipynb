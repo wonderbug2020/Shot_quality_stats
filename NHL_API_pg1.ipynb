{
 "cells": [
  {
   "cell_type": "code",
   "execution_count": 1,
   "id": "5c2622ef",
   "metadata": {},
   "outputs": [],
   "source": [
    "#requests is needed to connect to the API\n",
    "import requests\n",
    "import pandas as pd"
   ]
  },
  {
   "cell_type": "code",
   "execution_count": 27,
   "id": "374cd49b",
   "metadata": {},
   "outputs": [],
   "source": [
    "def get_request(game, year='2018', season_type='02'):\n",
    "    '''Input - takes 3 arguements game-integer, year-string, season_type-string. \n",
    "               game is an integer for the game number id, minus any prefixing 0's\n",
    "               year is the first year number of a season i.e 2018 = 2018/2019 season. 2018 is the default\n",
    "               season_type represents the type of season used. Default 2 represents the regular season\n",
    "       Output - Returns a josn file from the API for the game requested\n",
    "       Desc - This function takes input from the user to make a request to the API for a specified game\n",
    "              It then jsonifies the request and returns that json file\n",
    "    '''\n",
    "    r = requests.get(url='http://statsapi.web.nhl.com/api/v1/game/'\n",
    "                     +year+season_type+str(game).zfill(4)+'/feed/live')\n",
    "    data = r.json()\n",
    "    return data\n",
    "\n",
    "def get_meta_stats(data):\n",
    "    '''Input - Data from the NHL_API\n",
    "       Output - returns the name and final score of the home and away team\n",
    "       Desc - takes in thet data gotten from the api, and collects the data on the teams and score\n",
    "       it then returns this information\n",
    "    '''\n",
    "    core = data['liveData']['boxscore']['teams']\n",
    "    home_team = core['home']['team']['triCode']\n",
    "    home_score = core['home']['teamStats']['teamSkaterStats']['goals']\n",
    "    away_team = core['away']['team']['triCode']\n",
    "    away_score = core['away']['teamStats']['teamSkaterStats']['goals']\n",
    "    \n",
    "    return home_team, home_score, away_team, away_score\n",
    "    \n",
    "\n",
    "def get_corsi(data, home_team, away_team):\n",
    "    '''Input - Data from NHL_API, the home and away teams triCode id\n",
    "       Output - Returns the number of corsi events for each team\n",
    "       Description - This ffunction is what scrolls through the play by play data and counts \n",
    "       all the times there is a corsi event, which is either a shot, blocked shot, or missed shot\n",
    "       It then returns this calue for both teams\n",
    "    '''\n",
    "    event_types = ['Shot','Blocked Shot','Missed Shot']\n",
    "    home_event = 0\n",
    "    away_event = 0\n",
    "    plays = data['liveData']['plays']['allPlays'] \n",
    "    for play in plays:\n",
    "        if play['result']['event'] in event_types:\n",
    "            if play['team']['triCode'] == home_team:\n",
    "                home_event += 1\n",
    "            if play['team']['triCode'] == away_team:\n",
    "                away_event += 1\n",
    "    \n",
    "    return home_event, away_event\n",
    "\n",
    "def make_a_list(game_id, home_team, home_score, away_team, away_score, home_corsi, away_corsi):\n",
    "    row_list = []\n",
    "    row_list.append(game_id)\n",
    "    row_list.append(home_team)\n",
    "    row_list.append(home_score)\n",
    "    row_list.append(home_corsi)\n",
    "    row_list.append(away_team)\n",
    "    row_list.append(away_score)\n",
    "    row_list.append(away_corsi)\n",
    "    return row_list"
   ]
  },
  {
   "cell_type": "code",
   "execution_count": 29,
   "id": "e170c193",
   "metadata": {},
   "outputs": [
    {
     "data": {
      "text/plain": [
       "[[1, 'TOR', 3, 65, 'MTL', 2, 66],\n",
       " [2, 'WSH', 7, 60, 'BOS', 0, 50],\n",
       " [3, 'VAN', 5, 41, 'CGY', 2, 59],\n",
       " [4, 'SJS', 2, 66, 'ANA', 5, 32]]"
      ]
     },
     "execution_count": 29,
     "metadata": {},
     "output_type": "execute_result"
    }
   ],
   "source": [
    "to_df_list"
   ]
  },
  {
   "cell_type": "code",
   "execution_count": 30,
   "id": "031de6f4",
   "metadata": {},
   "outputs": [
    {
     "ename": "KeyError",
     "evalue": "'liveData'",
     "output_type": "error",
     "traceback": [
      "\u001b[1;31m---------------------------------------------------------------------------\u001b[0m",
      "\u001b[1;31mKeyError\u001b[0m                                  Traceback (most recent call last)",
      "\u001b[1;32m<ipython-input-30-21dee2493d82>\u001b[0m in \u001b[0;36m<module>\u001b[1;34m\u001b[0m\n\u001b[0;32m      2\u001b[0m \u001b[1;32mfor\u001b[0m \u001b[0mi\u001b[0m \u001b[1;32min\u001b[0m \u001b[0mrange\u001b[0m\u001b[1;33m(\u001b[0m\u001b[1;36m1\u001b[0m\u001b[1;33m,\u001b[0m\u001b[1;36m1302\u001b[0m\u001b[1;33m)\u001b[0m\u001b[1;33m:\u001b[0m\u001b[1;33m\u001b[0m\u001b[1;33m\u001b[0m\u001b[0m\n\u001b[0;32m      3\u001b[0m     \u001b[0mdata\u001b[0m \u001b[1;33m=\u001b[0m \u001b[0mget_request\u001b[0m\u001b[1;33m(\u001b[0m\u001b[0mgame\u001b[0m\u001b[1;33m=\u001b[0m\u001b[0mi\u001b[0m\u001b[1;33m)\u001b[0m\u001b[1;33m\u001b[0m\u001b[1;33m\u001b[0m\u001b[0m\n\u001b[1;32m----> 4\u001b[1;33m     \u001b[0mhome_team\u001b[0m\u001b[1;33m,\u001b[0m \u001b[0mhome_score\u001b[0m\u001b[1;33m,\u001b[0m \u001b[0maway_team\u001b[0m\u001b[1;33m,\u001b[0m \u001b[0maway_score\u001b[0m \u001b[1;33m=\u001b[0m \u001b[0mget_meta_stats\u001b[0m\u001b[1;33m(\u001b[0m\u001b[0mdata\u001b[0m\u001b[1;33m)\u001b[0m\u001b[1;33m\u001b[0m\u001b[1;33m\u001b[0m\u001b[0m\n\u001b[0m\u001b[0;32m      5\u001b[0m     \u001b[0mhome_corsi\u001b[0m\u001b[1;33m,\u001b[0m \u001b[0maway_corsi\u001b[0m \u001b[1;33m=\u001b[0m \u001b[0mget_corsi\u001b[0m\u001b[1;33m(\u001b[0m\u001b[0mdata\u001b[0m\u001b[1;33m,\u001b[0m \u001b[0mhome_team\u001b[0m\u001b[1;33m,\u001b[0m \u001b[0maway_team\u001b[0m\u001b[1;33m)\u001b[0m\u001b[1;33m\u001b[0m\u001b[1;33m\u001b[0m\u001b[0m\n\u001b[0;32m      6\u001b[0m     \u001b[0mto_df_list\u001b[0m\u001b[1;33m.\u001b[0m\u001b[0mappend\u001b[0m\u001b[1;33m(\u001b[0m\u001b[0mmake_a_list\u001b[0m\u001b[1;33m(\u001b[0m\u001b[0mi\u001b[0m\u001b[1;33m,\u001b[0m \u001b[0mhome_team\u001b[0m\u001b[1;33m,\u001b[0m \u001b[0mhome_score\u001b[0m\u001b[1;33m,\u001b[0m \u001b[0maway_team\u001b[0m\u001b[1;33m,\u001b[0m \u001b[0maway_score\u001b[0m\u001b[1;33m,\u001b[0m \u001b[0mhome_corsi\u001b[0m\u001b[1;33m,\u001b[0m \u001b[0maway_corsi\u001b[0m\u001b[1;33m)\u001b[0m\u001b[1;33m)\u001b[0m\u001b[1;33m\u001b[0m\u001b[1;33m\u001b[0m\u001b[0m\n",
      "\u001b[1;32m<ipython-input-27-1275830b0c55>\u001b[0m in \u001b[0;36mget_meta_stats\u001b[1;34m(data)\u001b[0m\n\u001b[0;32m     19\u001b[0m        \u001b[0mit\u001b[0m \u001b[0mthen\u001b[0m \u001b[0mreturns\u001b[0m \u001b[0mthis\u001b[0m \u001b[0minformation\u001b[0m\u001b[1;33m\u001b[0m\u001b[1;33m\u001b[0m\u001b[0m\n\u001b[0;32m     20\u001b[0m     '''\n\u001b[1;32m---> 21\u001b[1;33m     \u001b[0mcore\u001b[0m \u001b[1;33m=\u001b[0m \u001b[0mdata\u001b[0m\u001b[1;33m[\u001b[0m\u001b[1;34m'liveData'\u001b[0m\u001b[1;33m]\u001b[0m\u001b[1;33m[\u001b[0m\u001b[1;34m'boxscore'\u001b[0m\u001b[1;33m]\u001b[0m\u001b[1;33m[\u001b[0m\u001b[1;34m'teams'\u001b[0m\u001b[1;33m]\u001b[0m\u001b[1;33m\u001b[0m\u001b[1;33m\u001b[0m\u001b[0m\n\u001b[0m\u001b[0;32m     22\u001b[0m     \u001b[0mhome_team\u001b[0m \u001b[1;33m=\u001b[0m \u001b[0mcore\u001b[0m\u001b[1;33m[\u001b[0m\u001b[1;34m'home'\u001b[0m\u001b[1;33m]\u001b[0m\u001b[1;33m[\u001b[0m\u001b[1;34m'team'\u001b[0m\u001b[1;33m]\u001b[0m\u001b[1;33m[\u001b[0m\u001b[1;34m'triCode'\u001b[0m\u001b[1;33m]\u001b[0m\u001b[1;33m\u001b[0m\u001b[1;33m\u001b[0m\u001b[0m\n\u001b[0;32m     23\u001b[0m     \u001b[0mhome_score\u001b[0m \u001b[1;33m=\u001b[0m \u001b[0mcore\u001b[0m\u001b[1;33m[\u001b[0m\u001b[1;34m'home'\u001b[0m\u001b[1;33m]\u001b[0m\u001b[1;33m[\u001b[0m\u001b[1;34m'teamStats'\u001b[0m\u001b[1;33m]\u001b[0m\u001b[1;33m[\u001b[0m\u001b[1;34m'teamSkaterStats'\u001b[0m\u001b[1;33m]\u001b[0m\u001b[1;33m[\u001b[0m\u001b[1;34m'goals'\u001b[0m\u001b[1;33m]\u001b[0m\u001b[1;33m\u001b[0m\u001b[1;33m\u001b[0m\u001b[0m\n",
      "\u001b[1;31mKeyError\u001b[0m: 'liveData'"
     ]
    }
   ],
   "source": [
    "to_df_list = []\n",
    "for i in range(1,1302):    \n",
    "    data = get_request(game=i)\n",
    "    home_team, home_score, away_team, away_score = get_meta_stats(data)\n",
    "    home_corsi, away_corsi = get_corsi(data, home_team, away_team)\n",
    "    to_df_list.append(make_a_list(i, home_team, home_score, away_team, away_score, home_corsi, away_corsi))\n",
    "    "
   ]
  },
  {
   "cell_type": "code",
   "execution_count": null,
   "id": "b6c459e4",
   "metadata": {},
   "outputs": [],
   "source": [
    "#Get the home and away teams tricode and score\n",
    "home_team = data['liveData']['boxscore']['teams']['home']['team']['triCode']\n",
    "home_score = data['liveData']['boxscore']['teams']['home']['teamStats']['teamSkaterStats']['goals']\n",
    "away_team = data['liveData']['boxscore']['teams']['away']['team']['triCode']\n",
    "away_score = data['liveData']['boxscore']['teams']['away']['teamStats']['teamSkaterStats']['goals']\n",
    "home_event = 0\n",
    "away_event = 0\n",
    "event_types = ['Shot','Blocked Shot','Missed Shot']"
   ]
  },
  {
   "cell_type": "code",
   "execution_count": null,
   "id": "84aea701",
   "metadata": {},
   "outputs": [],
   "source": [
    "#Creates a variable for both teams of how many corsi events they created\n",
    "plays = data['liveData']['plays']['allPlays'] \n",
    "for play in plays:\n",
    "    if play['result']['event'] in event_types:\n",
    "        if play['team']['triCode'] == home_team:\n",
    "            home_event += 1\n",
    "        elif play['team']['triCode'] == away_team:\n",
    "            away_event += 1"
   ]
  },
  {
   "cell_type": "code",
   "execution_count": null,
   "id": "dcc292b2",
   "metadata": {},
   "outputs": [],
   "source": [
    "game_id = 1\n",
    "game_list = [game_id, home_team, home_score, home_event\n",
    "                    , away_team, away_score, away_event]\n",
    "to_df_list = []"
   ]
  },
  {
   "cell_type": "code",
   "execution_count": null,
   "id": "54b57204",
   "metadata": {},
   "outputs": [],
   "source": [
    "to_df_list.append(game_list)"
   ]
  },
  {
   "cell_type": "code",
   "execution_count": null,
   "id": "2ab578c0",
   "metadata": {},
   "outputs": [],
   "source": [
    "to_df_list"
   ]
  },
  {
   "cell_type": "code",
   "execution_count": null,
   "id": "2d257f25",
   "metadata": {},
   "outputs": [],
   "source": []
  }
 ],
 "metadata": {
  "kernelspec": {
   "display_name": "Python 3",
   "language": "python",
   "name": "python3"
  },
  "language_info": {
   "codemirror_mode": {
    "name": "ipython",
    "version": 3
   },
   "file_extension": ".py",
   "mimetype": "text/x-python",
   "name": "python",
   "nbconvert_exporter": "python",
   "pygments_lexer": "ipython3",
   "version": "3.8.8"
  }
 },
 "nbformat": 4,
 "nbformat_minor": 5
}
