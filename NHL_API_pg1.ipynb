{
 "cells": [
  {
   "cell_type": "code",
   "execution_count": 1,
   "id": "5c2622ef",
   "metadata": {},
   "outputs": [],
   "source": [
    "#requests is needed to connect to the API\n",
    "import requests\n",
    "import pandas as pd"
   ]
  },
  {
   "cell_type": "code",
   "execution_count": 23,
   "id": "d4dda000",
   "metadata": {},
   "outputs": [],
   "source": [
    "def get_request(game, year='2018', season_type='02'):\n",
    "    '''Input - takes 3 arguements game-integer, year-string, season_type-string. \n",
    "               game is an integer for the game number id, minus any prefixing 0's\n",
    "               year is the first year number of a season i.e 2018 = 2018/2019 season. 2018 is the default\n",
    "               season_type represents the type of season used. Default 2 represents the regular season\n",
    "       Output - Returns a josn file from the API for the game requested\n",
    "       Desc - This function takes input from the user to make a request to the API for a specified game\n",
    "              It then jsonifies the request and returns that json file\n",
    "    '''\n",
    "    r = requests.get(url='http://statsapi.web.nhl.com/api/v1/game/'\n",
    "                     +year+season_type+str(game).zfill(4)+'/feed/live')\n",
    "    data = r.json()\n",
    "    return data\n",
    "\n",
    "def get_meta_stats(data):\n",
    "    '''Input - Data from the NHL_API\n",
    "       Output - returns the name and final score of the home and away team\n",
    "       Desc - takes in thet data gotten from the api, and collects the data on the teams and score\n",
    "       it then returns this information\n",
    "    '''\n",
    "    core = data['liveData']['boxscore']['teams']\n",
    "    home_team = core['home']['team']['triCode']\n",
    "    home_score = core['home']['teamStats']['teamSkaterStats']['goals']\n",
    "    away_team = core['away']['team']['triCode']\n",
    "    away_score = core['away']['teamStats']['teamSkaterStats']['goals']\n",
    "    \n",
    "    return home_team, home_score, away_team, away_score\n",
    "    \n",
    "\n",
    "def get_corsi(data, home_team, away_team):\n",
    "    '''Input - Data from NHL_API, the home and away teams triCode id\n",
    "       Output - Returns the number of corsi events for each team\n",
    "       Description - This ffunction is what scrolls through the play by play data and counts \n",
    "       all the times there is a corsi event, which is either a shot, blocked shot, or missed shot\n",
    "       It then returns this calue for both teams\n",
    "    '''\n",
    "    event_types = ['Shot','Blocked Shot','Missed Shot']\n",
    "    home_event = 0\n",
    "    away_event = 0\n",
    "    plays = data['liveData']['plays']['allPlays'] \n",
    "    for play in plays:\n",
    "        if play['results']['event'] in event_types:\n",
    "            if play['team']['triCode'] == home_team:\n",
    "                home_event += 1\n",
    "            if play['team']['triCode'] == away_team:\n",
    "                away_event += 1"
   ]
  },
  {
   "cell_type": "code",
   "execution_count": null,
   "id": "3cded2a9",
   "metadata": {},
   "outputs": [],
   "source": []
  },
  {
   "cell_type": "code",
   "execution_count": 24,
   "id": "5fd2da4c",
   "metadata": {},
   "outputs": [],
   "source": [
    "for i in range(1,5):    \n",
    "    data = get_request(game=i)\n",
    "    home_team, home_score, away_team, away_score = get_meta_stats(data)\n",
    "    "
   ]
  },
  {
   "cell_type": "code",
   "execution_count": null,
   "id": "b6c459e4",
   "metadata": {},
   "outputs": [],
   "source": [
    "#Get the home and away teams tricode and score\n",
    "home_team = data['liveData']['boxscore']['teams']['home']['team']['triCode']\n",
    "home_score = data['liveData']['boxscore']['teams']['home']['teamStats']['teamSkaterStats']['goals']\n",
    "away_team = data['liveData']['boxscore']['teams']['away']['team']['triCode']\n",
    "away_score = data['liveData']['boxscore']['teams']['away']['teamStats']['teamSkaterStats']['goals']\n",
    "home_event = 0\n",
    "away_event = 0\n",
    "event_types = ['Shot','Blocked Shot','Missed Shot']"
   ]
  },
  {
   "cell_type": "code",
   "execution_count": null,
   "id": "84aea701",
   "metadata": {},
   "outputs": [],
   "source": [
    "#Creates a variable for both teams of how many corsi events they created\n",
    "plays = data['liveData']['plays']['allPlays'] \n",
    "for play in plays:\n",
    "    if play['result']['event'] in event_types:\n",
    "        if play['team']['triCode'] == home_team:\n",
    "            home_event += 1\n",
    "        elif play['team']['triCode'] == away_team:\n",
    "            away_event += 1"
   ]
  },
  {
   "cell_type": "code",
   "execution_count": null,
   "id": "d80bf242",
   "metadata": {},
   "outputs": [],
   "source": [
    "game_id = 1\n",
    "game_list = [game_id, home_team, home_score, home_event\n",
    "                    , away_team, away_score, away_event]\n",
    "to_df_list = []"
   ]
  },
  {
   "cell_type": "code",
   "execution_count": null,
   "id": "3517fc1c",
   "metadata": {},
   "outputs": [],
   "source": [
    "to_df_list.append(game_list)"
   ]
  },
  {
   "cell_type": "code",
   "execution_count": null,
   "id": "f81a2e38",
   "metadata": {},
   "outputs": [],
   "source": [
    "to_df_list"
   ]
  },
  {
   "cell_type": "code",
   "execution_count": null,
   "id": "e2eeb1ff",
   "metadata": {},
   "outputs": [],
   "source": []
  }
 ],
 "metadata": {
  "kernelspec": {
   "display_name": "Python 3",
   "language": "python",
   "name": "python3"
  },
  "language_info": {
   "codemirror_mode": {
    "name": "ipython",
    "version": 3
   },
   "file_extension": ".py",
   "mimetype": "text/x-python",
   "name": "python",
   "nbconvert_exporter": "python",
   "pygments_lexer": "ipython3",
   "version": "3.8.8"
  }
 },
 "nbformat": 4,
 "nbformat_minor": 5
}
