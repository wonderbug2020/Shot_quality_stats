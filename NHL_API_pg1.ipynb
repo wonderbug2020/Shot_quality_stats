{
 "cells": [
  {
   "cell_type": "code",
   "execution_count": 17,
   "id": "5c2622ef",
   "metadata": {},
   "outputs": [],
   "source": [
    "import requests\n",
    "import pandas as pd"
   ]
  },
  {
   "cell_type": "code",
   "execution_count": 5,
   "id": "1344cb34",
   "metadata": {},
   "outputs": [],
   "source": [
    "game_data = []\n",
    "r = requests.get(url='https://statsapi.web.nhl.com/api/v1/game/2019020005/feed/live')\n",
    "data = r.json()\n",
    "game_data.append(data)\n",
    "plays = data['liveData']['plays']['allPlays'] "
   ]
  },
  {
   "cell_type": "code",
   "execution_count": 20,
   "id": "12516d16",
   "metadata": {},
   "outputs": [],
   "source": [
    "event_types = ['Shot','Blocked Shot','Missed Shot']\n",
    "shot_data = {}\n",
    "shot_data['team'] = []\n",
    "shot_data['shotType'] = []"
   ]
  },
  {
   "cell_type": "code",
   "execution_count": 21,
   "id": "441e488f",
   "metadata": {},
   "outputs": [],
   "source": [
    "for play in plays:\n",
    "    if play['result']['event'] in event_types:\n",
    "        shot_data['team'].append(play['team']['triCode'])\n",
    "        shot_data['shotType'].append(play['result']['event'])\n",
    "        #print(play['result']['event'])\n",
    "        #print(play['team']['triCode'])"
   ]
  },
  {
   "cell_type": "code",
   "execution_count": 22,
   "id": "7f647f36",
   "metadata": {},
   "outputs": [],
   "source": [
    "df = pd.DataFrame(shot_data)"
   ]
  },
  {
   "cell_type": "code",
   "execution_count": 23,
   "id": "541a3037",
   "metadata": {},
   "outputs": [
    {
     "data": {
      "text/html": [
       "<div>\n",
       "<style scoped>\n",
       "    .dataframe tbody tr th:only-of-type {\n",
       "        vertical-align: middle;\n",
       "    }\n",
       "\n",
       "    .dataframe tbody tr th {\n",
       "        vertical-align: top;\n",
       "    }\n",
       "\n",
       "    .dataframe thead th {\n",
       "        text-align: right;\n",
       "    }\n",
       "</style>\n",
       "<table border=\"1\" class=\"dataframe\">\n",
       "  <thead>\n",
       "    <tr style=\"text-align: right;\">\n",
       "      <th></th>\n",
       "      <th>team</th>\n",
       "      <th>shotType</th>\n",
       "    </tr>\n",
       "  </thead>\n",
       "  <tbody>\n",
       "    <tr>\n",
       "      <th>0</th>\n",
       "      <td>FLA</td>\n",
       "      <td>Missed Shot</td>\n",
       "    </tr>\n",
       "    <tr>\n",
       "      <th>1</th>\n",
       "      <td>FLA</td>\n",
       "      <td>Shot</td>\n",
       "    </tr>\n",
       "    <tr>\n",
       "      <th>2</th>\n",
       "      <td>TBL</td>\n",
       "      <td>Shot</td>\n",
       "    </tr>\n",
       "    <tr>\n",
       "      <th>3</th>\n",
       "      <td>TBL</td>\n",
       "      <td>Blocked Shot</td>\n",
       "    </tr>\n",
       "    <tr>\n",
       "      <th>4</th>\n",
       "      <td>FLA</td>\n",
       "      <td>Shot</td>\n",
       "    </tr>\n",
       "  </tbody>\n",
       "</table>\n",
       "</div>"
      ],
      "text/plain": [
       "  team      shotType\n",
       "0  FLA   Missed Shot\n",
       "1  FLA          Shot\n",
       "2  TBL          Shot\n",
       "3  TBL  Blocked Shot\n",
       "4  FLA          Shot"
      ]
     },
     "execution_count": 23,
     "metadata": {},
     "output_type": "execute_result"
    }
   ],
   "source": [
    "df.head()"
   ]
  },
  {
   "cell_type": "code",
   "execution_count": null,
   "id": "62150479",
   "metadata": {},
   "outputs": [],
   "source": []
  }
 ],
 "metadata": {
  "kernelspec": {
   "display_name": "Python 3",
   "language": "python",
   "name": "python3"
  },
  "language_info": {
   "codemirror_mode": {
    "name": "ipython",
    "version": 3
   },
   "file_extension": ".py",
   "mimetype": "text/x-python",
   "name": "python",
   "nbconvert_exporter": "python",
   "pygments_lexer": "ipython3",
   "version": "3.8.8"
  }
 },
 "nbformat": 4,
 "nbformat_minor": 5
}
