{
 "cells": [
  {
   "cell_type": "code",
   "execution_count": 1,
   "id": "5c2622ef",
   "metadata": {},
   "outputs": [],
   "source": [
    "#requests is needed to connect to the API\n",
    "import requests\n",
    "#import pandas as pd"
   ]
  },
  {
   "cell_type": "code",
   "execution_count": 2,
   "id": "3caceb62",
   "metadata": {},
   "outputs": [],
   "source": [
    "#Connect to the data and jsonify it\n",
    "game_data = []\n",
    "r = requests.get(url='https://statsapi.web.nhl.com/api/v1/game/2019020005/feed/live')\n",
    "data = r.json()\n",
    "game_data.append(data)"
   ]
  },
  {
   "cell_type": "code",
   "execution_count": 3,
   "id": "b6c459e4",
   "metadata": {},
   "outputs": [],
   "source": [
    "#Get the home and away teams tricode and score\n",
    "home_team = data['liveData']['boxscore']['teams']['home']['team']['triCode']\n",
    "home_score = data['liveData']['boxscore']['teams']['home']['teamStats']['teamSkaterStats']['goals']\n",
    "away_team = data['liveData']['boxscore']['teams']['away']['team']['triCode']\n",
    "away_score = data['liveData']['boxscore']['teams']['away']['teamStats']['teamSkaterStats']['goals']\n",
    "home_event = 0\n",
    "away_event = 0\n",
    "event_types = ['Shot','Blocked Shot','Missed Shot']"
   ]
  },
  {
   "cell_type": "code",
   "execution_count": 4,
   "id": "84aea701",
   "metadata": {},
   "outputs": [],
   "source": [
    "#Creates a variable for both teams of how many corsi events they created\n",
    "plays = data['liveData']['plays']['allPlays'] \n",
    "for play in plays:\n",
    "    if play['result']['event'] in event_types:\n",
    "        if play['team']['triCode'] == home_team:\n",
    "            home_event += 1\n",
    "        elif play['team']['triCode'] == away_team:\n",
    "            away_event += 1"
   ]
  },
  {
   "cell_type": "code",
   "execution_count": 6,
   "id": "9e688757",
   "metadata": {},
   "outputs": [],
   "source": [
    "game_id = 1\n",
    "game_list = [game_id, home_team, home_score, home_event\n",
    "                    , away_team, away_score, away_event]\n",
    "to_df_list = []"
   ]
  },
  {
   "cell_type": "code",
   "execution_count": 7,
   "id": "a90b0c63",
   "metadata": {},
   "outputs": [],
   "source": [
    "to_df_list.append(game_list)"
   ]
  },
  {
   "cell_type": "code",
   "execution_count": 9,
   "id": "0e203054",
   "metadata": {},
   "outputs": [
    {
     "data": {
      "text/plain": [
       "[[1, 'TBL', 5, 45, 'FLA', 2, 58]]"
      ]
     },
     "execution_count": 9,
     "metadata": {},
     "output_type": "execute_result"
    }
   ],
   "source": [
    "to_df_list"
   ]
  },
  {
   "cell_type": "code",
   "execution_count": null,
   "id": "8e3080ad",
   "metadata": {},
   "outputs": [],
   "source": []
  }
 ],
 "metadata": {
  "kernelspec": {
   "display_name": "Python 3",
   "language": "python",
   "name": "python3"
  },
  "language_info": {
   "codemirror_mode": {
    "name": "ipython",
    "version": 3
   },
   "file_extension": ".py",
   "mimetype": "text/x-python",
   "name": "python",
   "nbconvert_exporter": "python",
   "pygments_lexer": "ipython3",
   "version": "3.8.8"
  }
 },
 "nbformat": 4,
 "nbformat_minor": 5
}
