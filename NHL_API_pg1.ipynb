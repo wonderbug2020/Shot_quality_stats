{
 "cells": [
  {
   "cell_type": "code",
   "execution_count": 1,
   "id": "5c2622ef",
   "metadata": {},
   "outputs": [],
   "source": [
    "#requests is needed to connect to the API\n",
    "import requests\n",
    "import pandas as pd"
   ]
  },
  {
   "cell_type": "code",
   "execution_count": 23,
   "id": "7807ad44",
   "metadata": {},
   "outputs": [],
   "source": [
    "game_data = []\n",
    "def get_request(game, year='2018', season_type='02'):\n",
    "    '''Input - takes 3 arguements game-integer, year-string, season_type-string. \n",
    "               game is an integer for the game number id, minus any prefixing 0's\n",
    "               year is the first year number of a season i.e 2018 = 2018/2019 season. 2018 is the default\n",
    "               season_type represents the type of season used. Default 2 represents the regular season\n",
    "       Output - Returns a josn file from the API for the game requested\n",
    "       Desc - This function takes input from the user to make a request to the API for a specified game\n",
    "              It then jsonifies the request and returns that json file\n",
    "    '''\n",
    "    r = requests.get(url='http://statsapi.web.nhl.com/api/v1/game/'\n",
    "                     +year+season_type+str(game).zfill(4)+'/feed/live')\n",
    "    data = r.json()\n",
    "    return data"
   ]
  },
  {
   "cell_type": "code",
   "execution_count": null,
   "id": "553ced77",
   "metadata": {},
   "outputs": [],
   "source": []
  },
  {
   "cell_type": "code",
   "execution_count": null,
   "id": "936b7e5d",
   "metadata": {},
   "outputs": [],
   "source": []
  },
  {
   "cell_type": "code",
   "execution_count": 24,
   "id": "a045ac70",
   "metadata": {},
   "outputs": [],
   "source": [
    "for i in range(1,5):    \n",
    "    data = get_request(game=i)"
   ]
  },
  {
   "cell_type": "code",
   "execution_count": null,
   "id": "e5e6d90c",
   "metadata": {},
   "outputs": [],
   "source": []
  },
  {
   "cell_type": "code",
   "execution_count": null,
   "id": "3caceb62",
   "metadata": {},
   "outputs": [],
   "source": [
    "#Connect to the data and jsonify it\n",
    "game_data = []\n",
    "r = requests.get(url='https://statsapi.web.nhl.com/api/v1/game/2019020005/feed/live')\n",
    "data = r.json()\n",
    "game_data.append(data)"
   ]
  },
  {
   "cell_type": "code",
   "execution_count": null,
   "id": "b6c459e4",
   "metadata": {},
   "outputs": [],
   "source": [
    "#Get the home and away teams tricode and score\n",
    "home_team = data['liveData']['boxscore']['teams']['home']['team']['triCode']\n",
    "home_score = data['liveData']['boxscore']['teams']['home']['teamStats']['teamSkaterStats']['goals']\n",
    "away_team = data['liveData']['boxscore']['teams']['away']['team']['triCode']\n",
    "away_score = data['liveData']['boxscore']['teams']['away']['teamStats']['teamSkaterStats']['goals']\n",
    "home_event = 0\n",
    "away_event = 0\n",
    "event_types = ['Shot','Blocked Shot','Missed Shot']"
   ]
  },
  {
   "cell_type": "code",
   "execution_count": null,
   "id": "84aea701",
   "metadata": {},
   "outputs": [],
   "source": [
    "#Creates a variable for both teams of how many corsi events they created\n",
    "plays = data['liveData']['plays']['allPlays'] \n",
    "for play in plays:\n",
    "    if play['result']['event'] in event_types:\n",
    "        if play['team']['triCode'] == home_team:\n",
    "            home_event += 1\n",
    "        elif play['team']['triCode'] == away_team:\n",
    "            away_event += 1"
   ]
  },
  {
   "cell_type": "code",
   "execution_count": null,
   "id": "c4c61e30",
   "metadata": {},
   "outputs": [],
   "source": [
    "game_id = 1\n",
    "game_list = [game_id, home_team, home_score, home_event\n",
    "                    , away_team, away_score, away_event]\n",
    "to_df_list = []"
   ]
  },
  {
   "cell_type": "code",
   "execution_count": null,
   "id": "022b904b",
   "metadata": {},
   "outputs": [],
   "source": [
    "to_df_list.append(game_list)"
   ]
  },
  {
   "cell_type": "code",
   "execution_count": null,
   "id": "e7d1bf3e",
   "metadata": {},
   "outputs": [],
   "source": [
    "to_df_list"
   ]
  },
  {
   "cell_type": "code",
   "execution_count": null,
   "id": "7cb519bd",
   "metadata": {},
   "outputs": [],
   "source": []
  }
 ],
 "metadata": {
  "kernelspec": {
   "display_name": "Python 3",
   "language": "python",
   "name": "python3"
  },
  "language_info": {
   "codemirror_mode": {
    "name": "ipython",
    "version": 3
   },
   "file_extension": ".py",
   "mimetype": "text/x-python",
   "name": "python",
   "nbconvert_exporter": "python",
   "pygments_lexer": "ipython3",
   "version": "3.8.8"
  }
 },
 "nbformat": 4,
 "nbformat_minor": 5
}
