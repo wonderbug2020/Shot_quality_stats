{
 "cells": [
  {
   "cell_type": "code",
   "execution_count": 1,
   "id": "9a4ab0e3",
   "metadata": {},
   "outputs": [],
   "source": [
    "import pandas as pd"
   ]
  },
  {
   "cell_type": "code",
   "execution_count": 2,
   "id": "41565925",
   "metadata": {},
   "outputs": [],
   "source": [
    "skaters = pd.read_csv('data\\Players\\EH_SKATE_11-21.csv')"
   ]
  },
  {
   "cell_type": "code",
   "execution_count": 3,
   "id": "e9cc7aea",
   "metadata": {},
   "outputs": [],
   "source": [
    "def get_4_digit(year):\n",
    "    first_yr = year.partition('-')[0]\n",
    "    second_yr = year.partition('-')[2]\n",
    "    new_year = f'20{first_yr}-{second_yr}'\n",
    "    return new_year\n",
    "\n",
    "def adjust_name(name):\n",
    "    first_name = name.partition(' ')[0].lower().replace('.','')\n",
    "    second_name = name.partition(' ')[2].lower().replace('.','')\n",
    "    new_name = f'{first_name}-{second_name}'\n",
    "    return new_name\n",
    "\n",
    "skaters['Season(4)'] = skaters.Season.apply(get_4_digit)\n",
    "skaters['Adj_Name'] = skaters.Player.apply(adjust_name)"
   ]
  },
  {
   "cell_type": "code",
   "execution_count": 13,
   "id": "bd2e84ee",
   "metadata": {},
   "outputs": [],
   "source": [
    "player_list = skaters.Adj_Name.unique().tolist()"
   ]
  },
  {
   "cell_type": "code",
   "execution_count": null,
   "id": "641aa49b",
   "metadata": {},
   "outputs": [],
   "source": []
  }
 ],
 "metadata": {
  "kernelspec": {
   "display_name": "Python 3 (ipykernel)",
   "language": "python",
   "name": "python3"
  },
  "language_info": {
   "codemirror_mode": {
    "name": "ipython",
    "version": 3
   },
   "file_extension": ".py",
   "mimetype": "text/x-python",
   "name": "python",
   "nbconvert_exporter": "python",
   "pygments_lexer": "ipython3",
   "version": "3.9.5"
  }
 },
 "nbformat": 4,
 "nbformat_minor": 5
}
