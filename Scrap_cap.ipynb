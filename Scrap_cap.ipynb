{
 "cells": [
  {
   "cell_type": "code",
   "execution_count": 1,
   "id": "9a4ab0e3",
   "metadata": {},
   "outputs": [],
   "source": [
    "import pandas as pd\n",
    "import requests\n",
    "from bs4 import BeautifulSoup"
   ]
  },
  {
   "cell_type": "code",
   "execution_count": 2,
   "id": "41565925",
   "metadata": {},
   "outputs": [],
   "source": [
    "skaters = pd.read_csv('data\\Players\\EH_SKATE_11-21.csv')"
   ]
  },
  {
   "cell_type": "code",
   "execution_count": 3,
   "id": "567fde92",
   "metadata": {},
   "outputs": [],
   "source": [
    "def get_4_digit(year):\n",
    "    first_yr = year.partition('-')[0]\n",
    "    second_yr = year.partition('-')[2]\n",
    "    new_year = f'20{first_yr}-{second_yr}'\n",
    "    return new_year\n",
    "\n",
    "def adjust_name(name):\n",
    "    first_name = name.partition(' ')[0].lower().replace('.','')\n",
    "    second_name = name.partition(' ')[2].lower().replace('.','')\n",
    "    new_name = f'{first_name}-{second_name}'\n",
    "    return new_name\n",
    "\n",
    "skaters['Season(4)'] = skaters.Season.apply(get_4_digit)\n",
    "skaters['Adj_Name'] = skaters.Player.apply(adjust_name)"
   ]
  },
  {
   "cell_type": "code",
   "execution_count": 4,
   "id": "d594264c",
   "metadata": {},
   "outputs": [],
   "source": [
    "player_list = skaters.Adj_Name.unique().tolist()"
   ]
  },
  {
   "cell_type": "code",
   "execution_count": 5,
   "id": "d86b93ba",
   "metadata": {},
   "outputs": [],
   "source": [
    "URL = f'https://www.capfriendly.com/players/{player_list[2]}'\n",
    "page = requests.get(URL)\n",
    "soup = BeautifulSoup(page.content, 'html.parser')\n"
   ]
  },
  {
   "cell_type": "code",
   "execution_count": 6,
   "id": "e07a1ed3",
   "metadata": {},
   "outputs": [],
   "source": [
    "layer_1 = soup.find_all(id='cont_x')"
   ]
  },
  {
   "cell_type": "code",
   "execution_count": 12,
   "id": "cc769d6f",
   "metadata": {},
   "outputs": [
    {
     "name": "stdout",
     "output_type": "stream",
     "text": [
      "SEASON\n",
      "CLAUSE\n",
      "CAP HIT \n",
      "AAV \n",
      "P. BONUSES \n",
      "S. BONUSES \n",
      "BASE SALARY \n",
      "TOTAL SALARY \n",
      "MINORS SALARY \n",
      "2017-18\n",
      "\n",
      "$7,500,000\n",
      "$7,500,000\n",
      "$0\n",
      "$5,000,000\n",
      "$4,000,000\n",
      "$9,000,000\n",
      "$9,000,000\n",
      "2018-19\n",
      "\n",
      "$7,500,000\n",
      "$7,500,000\n",
      "$0\n",
      "$3,000,000\n",
      "$4,000,000\n",
      "$7,000,000\n",
      "$7,000,000\n",
      "2019-20\n",
      "\n",
      "$7,500,000\n",
      "$7,500,000\n",
      "$0\n",
      "$4,000,000\n",
      "$5,000,000\n",
      "$9,000,000\n",
      "$9,000,000\n",
      "2020-21\n",
      "\n",
      "$7,500,000\n",
      "$7,500,000\n",
      "$0\n",
      "$4,000,000\n",
      "$2,000,000\n",
      "$6,000,000\n",
      "$6,000,000\n",
      "2021-22\n",
      "NMC\n",
      "$7,500,000\n",
      "$7,500,000\n",
      "$0\n",
      "$3,000,000\n",
      "$6,000,000\n",
      "$9,000,000\n",
      "$9,000,000\n",
      "2022-23\n",
      "NMC\n",
      "$7,500,000\n",
      "$7,500,000\n",
      "$0\n",
      "$4,000,000\n",
      "$2,000,000\n",
      "$6,000,000\n",
      "$6,000,000\n",
      "2023-24\n",
      "NMC\n",
      "$7,500,000\n",
      "$7,500,000\n",
      "$0\n",
      "$3,000,000\n",
      "$4,000,000\n",
      "$7,000,000\n",
      "$7,000,000\n",
      "2024-25\n",
      "M-NTC\n",
      "$7,500,000\n",
      "$7,500,000\n",
      "$0\n",
      "$3,000,000\n",
      "$4,000,000\n",
      "$7,000,000\n",
      "$7,000,000\n",
      "TOTAL\n",
      "\n",
      "$60,000,000\n",
      "$60,000,000\n",
      "$0\n",
      "$29,000,000\n",
      "$31,000,000\n",
      "$60,000,000\n",
      "$60,000,000\n",
      "SEASON\n",
      "CLAUSE\n",
      "CAP HIT \n",
      "AAV \n",
      "P. BONUSES \n",
      "S. BONUSES \n",
      "BASE SALARY \n",
      "TOTAL SALARY \n",
      "MINORS SALARY \n",
      "2014-15\n",
      "\n",
      "$925,000\n",
      "$3,775,000\n",
      "$2,850,000\n",
      "$92,500\n",
      "$832,500\n",
      "$925,000\n",
      "$70,000\n",
      "2015-16\n",
      "\n",
      "$925,000\n",
      "$3,775,000\n",
      "$2,850,000\n",
      "$92,500\n",
      "$832,500\n",
      "$925,000\n",
      "$70,000\n",
      "2016-17\n",
      "\n",
      "$925,000\n",
      "$3,775,000\n",
      "$2,850,000\n",
      "$92,500\n",
      "$832,500\n",
      "$925,000\n",
      "$70,000\n",
      "TOTAL\n",
      "\n",
      "$2,775,000\n",
      "$11,325,000\n",
      "$8,550,000\n",
      "$277,500\n",
      "$2,497,500\n",
      "$2,775,000\n",
      "$210,000\n"
     ]
    }
   ],
   "source": [
    "for table in layer_1:\n",
    "    for year in table:\n",
    "        for value in year:\n",
    "            print(value.get_text())"
   ]
  },
  {
   "cell_type": "code",
   "execution_count": 11,
   "id": "80c60641",
   "metadata": {},
   "outputs": [
    {
     "name": "stdout",
     "output_type": "stream",
     "text": [
      "SEASON\n",
      "CLAUSE\n",
      "CAP HIT \n",
      "AAV \n",
      "P. BONUSES \n",
      "S. BONUSES \n",
      "BASE SALARY \n",
      "TOTAL SALARY \n",
      "MINORS SALARY \n",
      "2017-18\n",
      "\n",
      "$7,500,000\n",
      "$7,500,000\n",
      "$0\n",
      "$5,000,000\n",
      "$4,000,000\n",
      "$9,000,000\n",
      "$9,000,000\n",
      "2018-19\n",
      "\n",
      "$7,500,000\n",
      "$7,500,000\n",
      "$0\n",
      "$3,000,000\n",
      "$4,000,000\n",
      "$7,000,000\n",
      "$7,000,000\n",
      "2019-20\n",
      "\n",
      "$7,500,000\n",
      "$7,500,000\n",
      "$0\n",
      "$4,000,000\n",
      "$5,000,000\n",
      "$9,000,000\n",
      "$9,000,000\n",
      "2020-21\n",
      "\n",
      "$7,500,000\n",
      "$7,500,000\n",
      "$0\n",
      "$4,000,000\n",
      "$2,000,000\n",
      "$6,000,000\n",
      "$6,000,000\n",
      "2021-22\n",
      "NMC\n",
      "$7,500,000\n",
      "$7,500,000\n",
      "$0\n",
      "$3,000,000\n",
      "$6,000,000\n",
      "$9,000,000\n",
      "$9,000,000\n",
      "2022-23\n",
      "NMC\n",
      "$7,500,000\n",
      "$7,500,000\n",
      "$0\n",
      "$4,000,000\n",
      "$2,000,000\n",
      "$6,000,000\n",
      "$6,000,000\n",
      "2023-24\n",
      "NMC\n",
      "$7,500,000\n",
      "$7,500,000\n",
      "$0\n",
      "$3,000,000\n",
      "$4,000,000\n",
      "$7,000,000\n",
      "$7,000,000\n",
      "2024-25\n",
      "M-NTC\n",
      "$7,500,000\n",
      "$7,500,000\n",
      "$0\n",
      "$3,000,000\n",
      "$4,000,000\n",
      "$7,000,000\n",
      "$7,000,000\n",
      "TOTAL\n",
      "\n",
      "$60,000,000\n",
      "$60,000,000\n",
      "$0\n",
      "$29,000,000\n",
      "$31,000,000\n",
      "$60,000,000\n",
      "$60,000,000\n"
     ]
    }
   ],
   "source": [
    "for year in layer_2:\n",
    "    for value in year:\n",
    "        print(value.get_text())"
   ]
  },
  {
   "cell_type": "code",
   "execution_count": null,
   "id": "037e451a",
   "metadata": {},
   "outputs": [],
   "source": []
  },
  {
   "cell_type": "code",
   "execution_count": null,
   "id": "80fa9c72",
   "metadata": {},
   "outputs": [],
   "source": [
    "first = soup.find_all(id='cont_x')\n",
    "second = first[0].find_all('tr')\n",
    "third = second[1].find_all('td')"
   ]
  },
  {
   "cell_type": "code",
   "execution_count": null,
   "id": "6f1624b3",
   "metadata": {},
   "outputs": [],
   "source": [
    "third"
   ]
  },
  {
   "cell_type": "code",
   "execution_count": null,
   "id": "2f0e147e",
   "metadata": {},
   "outputs": [],
   "source": []
  },
  {
   "cell_type": "code",
   "execution_count": null,
   "id": "e6cae4f4",
   "metadata": {},
   "outputs": [],
   "source": [
    "first_layer = soup.find_all(class_='table_c contract_cont')\n",
    "first_layer_1 = soup.find_all(class_='cntrct fixed tbl')\n",
    "first_layer_2 = soup.find_all(id='cont_x')"
   ]
  },
  {
   "cell_type": "code",
   "execution_count": null,
   "id": "b191a3a2",
   "metadata": {},
   "outputs": [],
   "source": [
    "second_layer_2 = first_layer_2[0]"
   ]
  },
  {
   "cell_type": "code",
   "execution_count": null,
   "id": "c746df7b",
   "metadata": {},
   "outputs": [],
   "source": [
    "third_layer_2  = second_layer_2.find_all('tr')"
   ]
  },
  {
   "cell_type": "code",
   "execution_count": null,
   "id": "2645943e",
   "metadata": {},
   "outputs": [],
   "source": [
    "third_layer_2[1]"
   ]
  },
  {
   "cell_type": "code",
   "execution_count": null,
   "id": "76cc5d08",
   "metadata": {},
   "outputs": [],
   "source": [
    "fourth_layer_2 = third_layer_2[1].find_all('td')"
   ]
  },
  {
   "cell_type": "code",
   "execution_count": null,
   "id": "0f52f153",
   "metadata": {},
   "outputs": [],
   "source": [
    "fourth_layer_2[0].getText()"
   ]
  },
  {
   "cell_type": "code",
   "execution_count": null,
   "id": "b2b500a1",
   "metadata": {},
   "outputs": [],
   "source": [
    "rowo[2].find(class_='left b').getText()"
   ]
  },
  {
   "cell_type": "code",
   "execution_count": null,
   "id": "bd260d76",
   "metadata": {},
   "outputs": [],
   "source": [
    "rowo[0]"
   ]
  },
  {
   "cell_type": "code",
   "execution_count": null,
   "id": "16694167",
   "metadata": {},
   "outputs": [],
   "source": []
  }
 ],
 "metadata": {
  "kernelspec": {
   "display_name": "Python 3 (ipykernel)",
   "language": "python",
   "name": "python3"
  },
  "language_info": {
   "codemirror_mode": {
    "name": "ipython",
    "version": 3
   },
   "file_extension": ".py",
   "mimetype": "text/x-python",
   "name": "python",
   "nbconvert_exporter": "python",
   "pygments_lexer": "ipython3",
   "version": "3.9.5"
  }
 },
 "nbformat": 4,
 "nbformat_minor": 5
}
