{
 "cells": [
  {
   "cell_type": "code",
   "execution_count": 1,
   "id": "8fda3ff4",
   "metadata": {},
   "outputs": [],
   "source": [
    "import pandas as pd"
   ]
  },
  {
   "cell_type": "code",
   "execution_count": 24,
   "id": "8d2099fc",
   "metadata": {},
   "outputs": [
    {
     "name": "stdout",
     "output_type": "stream",
     "text": [
      "11\n",
      "12\n",
      "13\n",
      "14\n",
      "15\n",
      "16\n",
      "17\n",
      "18\n",
      "19\n",
      "20\n",
      "21\n"
     ]
    }
   ],
   "source": [
    "lst = [11,12,13,14,15,16,17,18,19,20,21]\n",
    "df_goalie = pd.read_csv('data/PBP/EH_GOALIE_11-21.csv')\n",
    "df_goalie.Player = df_goalie.Player.str.replace('.',' ',regex=True).str.title()\n",
    "df_import = pd.DataFrame()\n",
    "for year in lst:\n",
    "    print(year)\n",
    "    stats   = pd.read_csv(f'data/PBP/ready_to_model/with_players/{year-1}_{year}_pbp_cleaned.csv')\n",
    "    goalies = df_goalie[df_goalie.Season == f'{year-1}-{year}'].copy()\n",
    "    gsax_dict = dict(zip(goalies.Player, goalies.GSAx))\n",
    "    stats.home_goalie = stats.home_goalie.apply(lambda x:gsax_dict[x])\n",
    "    stats.away_goalie = stats.away_goalie.apply(lambda x:gsax_dict[x])\n",
    "    df_import = df_import.append(stats)"
   ]
  },
  {
   "cell_type": "code",
   "execution_count": null,
   "id": "a92bf0c0",
   "metadata": {},
   "outputs": [],
   "source": []
  }
 ],
 "metadata": {
  "kernelspec": {
   "display_name": "Python 3",
   "language": "python",
   "name": "python3"
  },
  "language_info": {
   "codemirror_mode": {
    "name": "ipython",
    "version": 3
   },
   "file_extension": ".py",
   "mimetype": "text/x-python",
   "name": "python",
   "nbconvert_exporter": "python",
   "pygments_lexer": "ipython3",
   "version": "3.8.8"
  }
 },
 "nbformat": 4,
 "nbformat_minor": 5
}
