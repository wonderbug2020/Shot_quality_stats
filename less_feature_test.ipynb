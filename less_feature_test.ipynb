{
 "cells": [
  {
   "cell_type": "code",
   "execution_count": 1,
   "id": "fefbda12",
   "metadata": {},
   "outputs": [],
   "source": [
    "import pandas as pd\n",
    "import ModelMaker as mm"
   ]
  },
  {
   "cell_type": "code",
   "execution_count": 2,
   "id": "4177971e",
   "metadata": {},
   "outputs": [],
   "source": [
    "df_11 = pd.read_csv('data/pbp/ready_to_model/10_11_pbp_cleaned.csv')\n",
    "df_12 = pd.read_csv('data/pbp/ready_to_model/11_12_pbp_cleaned.csv')\n",
    "df_13 = pd.read_csv('data/pbp/ready_to_model/12_13_pbp_cleaned.csv')\n",
    "df_14 = pd.read_csv('data/pbp/ready_to_model/13_14_pbp_cleaned.csv')\n",
    "df_15 = pd.read_csv('data/pbp/ready_to_model/14_15_pbp_cleaned.csv')\n",
    "df_16 = pd.read_csv('data/pbp/ready_to_model/15_16_pbp_cleaned.csv')\n",
    "df_17 = pd.read_csv('data/pbp/ready_to_model/16_17_pbp_cleaned.csv')\n",
    "df_18 = pd.read_csv('data/pbp/ready_to_model/17_18_pbp_cleaned.csv')\n",
    "df_19 = pd.read_csv('data/pbp/ready_to_model/18_19_pbp_cleaned.csv')\n",
    "df_20 = pd.read_csv('data/pbp/ready_to_model/19_20_pbp_cleaned.csv')\n",
    "df_21 = pd.read_csv('data/pbp/ready_to_model/20_21_pbp_cleaned.csv')\n",
    "df = pd.concat([df_11,df_12,df_13,df_14,df_15,df_16,df_17,df_18,df_19,df_20,df_21])"
   ]
  },
  {
   "cell_type": "code",
   "execution_count": 3,
   "id": "7fdbca4f",
   "metadata": {},
   "outputs": [],
   "source": [
    "kp_lst = ['coords_y','coords_x_last','shot_distance','shot_angle','state_5v5','state_5v4',\n",
    "           'score_down_2','score_down_1','score_up_3','deflected_shot','tip_shot','slap_shot',\n",
    "           'backhand_shot','snap_shot','prior_shot_same','prior_miss_same','prior_give_opp',\n",
    "           'prior_take_opp','prior_face','state_5v3','wrap_shot','prior_block_same','prior_take_same',\n",
    "           'prior_hit_same','is_goal']\n",
    "df_cut = df[kp_lst].copy()"
   ]
  },
  {
   "cell_type": "code",
   "execution_count": 4,
   "id": "77e8b443",
   "metadata": {},
   "outputs": [
    {
     "name": "stdout",
     "output_type": "stream",
     "text": [
      "Running XGB model, please be patient\n",
      "Fitting the test data to the model\n",
      "The Log loss is 0.19019\n",
      "The R^2 value is 0.0762\n"
     ]
    }
   ],
   "source": [
    "model = mm.run_XGB(df)"
   ]
  },
  {
   "cell_type": "code",
   "execution_count": null,
   "id": "3f0fedb6",
   "metadata": {},
   "outputs": [
    {
     "name": "stdout",
     "output_type": "stream",
     "text": [
      "Running XGB model, please be patient\n"
     ]
    }
   ],
   "source": [
    "model_lite = mm.run_XGB(df_cut)"
   ]
  },
  {
   "cell_type": "code",
   "execution_count": null,
   "id": "9041a60d",
   "metadata": {},
   "outputs": [],
   "source": []
  }
 ],
 "metadata": {
  "kernelspec": {
   "display_name": "Python 3",
   "language": "python",
   "name": "python3"
  },
  "language_info": {
   "codemirror_mode": {
    "name": "ipython",
    "version": 3
   },
   "file_extension": ".py",
   "mimetype": "text/x-python",
   "name": "python",
   "nbconvert_exporter": "python",
   "pygments_lexer": "ipython3",
   "version": "3.8.8"
  }
 },
 "nbformat": 4,
 "nbformat_minor": 5
}
