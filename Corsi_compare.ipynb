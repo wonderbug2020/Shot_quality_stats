{
 "cells": [
  {
   "cell_type": "code",
   "execution_count": 2,
   "id": "df7c4438",
   "metadata": {},
   "outputs": [],
   "source": [
    "#Import library\n",
    "import pandas as pd\n",
    "import matplotlib.pyplot as plt"
   ]
  },
  {
   "cell_type": "code",
   "execution_count": 3,
   "id": "315387d5",
   "metadata": {},
   "outputs": [],
   "source": [
    "#Load in the data\n",
    "import_df = pd.read_csv('data/2019_League.csv')\n",
    "import_df_2 = pd.read_csv('data/2019_League_2.csv')"
   ]
  },
  {
   "cell_type": "code",
   "execution_count": 4,
   "id": "20364d2e",
   "metadata": {},
   "outputs": [],
   "source": [
    "#Merge the two datasets\n",
    "df_unfitted = import_df[['Unnamed: 1','CF%','FF%','xGF']]\n",
    "df_unfitted = df_unfitted.join(import_df_2[['PTS','GF','GA']])"
   ]
  },
  {
   "cell_type": "code",
   "execution_count": 5,
   "id": "b1b0adf0",
   "metadata": {},
   "outputs": [],
   "source": [
    "#The * next to a teams name means they made the playoffs\n",
    "#makes a new column if the team made the playoffs, drops the * then renames\n",
    "df_unfitted['madePlayoffs'] = df_unfitted['Unnamed: 1'].map(lambda x: 1 if '*' in x else 0)\n",
    "df_unfitted['team'] = df_unfitted['Unnamed: 1'].str.replace('*','',regex=True)\n",
    "df = df_unfitted.drop(columns=['Unnamed: 1'])"
   ]
  },
  {
   "cell_type": "code",
   "execution_count": 6,
   "id": "c708b347",
   "metadata": {},
   "outputs": [
    {
     "data": {
      "text/html": [
       "<div>\n",
       "<style scoped>\n",
       "    .dataframe tbody tr th:only-of-type {\n",
       "        vertical-align: middle;\n",
       "    }\n",
       "\n",
       "    .dataframe tbody tr th {\n",
       "        vertical-align: top;\n",
       "    }\n",
       "\n",
       "    .dataframe thead th {\n",
       "        text-align: right;\n",
       "    }\n",
       "</style>\n",
       "<table border=\"1\" class=\"dataframe\">\n",
       "  <thead>\n",
       "    <tr style=\"text-align: right;\">\n",
       "      <th></th>\n",
       "      <th>CF%</th>\n",
       "      <th>FF%</th>\n",
       "      <th>xGF</th>\n",
       "      <th>PTS</th>\n",
       "      <th>GF</th>\n",
       "      <th>GA</th>\n",
       "      <th>madePlayoffs</th>\n",
       "      <th>team</th>\n",
       "    </tr>\n",
       "  </thead>\n",
       "  <tbody>\n",
       "    <tr>\n",
       "      <th>0</th>\n",
       "      <td>51.6</td>\n",
       "      <td>51.3</td>\n",
       "      <td>185.1</td>\n",
       "      <td>128</td>\n",
       "      <td>319</td>\n",
       "      <td>221</td>\n",
       "      <td>1</td>\n",
       "      <td>Tampa Bay Lightning</td>\n",
       "    </tr>\n",
       "    <tr>\n",
       "      <th>1</th>\n",
       "      <td>53.9</td>\n",
       "      <td>53.1</td>\n",
       "      <td>184.0</td>\n",
       "      <td>107</td>\n",
       "      <td>289</td>\n",
       "      <td>223</td>\n",
       "      <td>1</td>\n",
       "      <td>Calgary Flames</td>\n",
       "    </tr>\n",
       "    <tr>\n",
       "      <th>2</th>\n",
       "      <td>53.1</td>\n",
       "      <td>53.6</td>\n",
       "      <td>169.7</td>\n",
       "      <td>107</td>\n",
       "      <td>257</td>\n",
       "      <td>212</td>\n",
       "      <td>1</td>\n",
       "      <td>Boston Bruins</td>\n",
       "    </tr>\n",
       "    <tr>\n",
       "      <th>3</th>\n",
       "      <td>49.0</td>\n",
       "      <td>49.0</td>\n",
       "      <td>162.4</td>\n",
       "      <td>104</td>\n",
       "      <td>274</td>\n",
       "      <td>248</td>\n",
       "      <td>1</td>\n",
       "      <td>Washington Capitals</td>\n",
       "    </tr>\n",
       "    <tr>\n",
       "      <th>4</th>\n",
       "      <td>47.8</td>\n",
       "      <td>48.3</td>\n",
       "      <td>175.1</td>\n",
       "      <td>103</td>\n",
       "      <td>223</td>\n",
       "      <td>191</td>\n",
       "      <td>1</td>\n",
       "      <td>New York Islanders</td>\n",
       "    </tr>\n",
       "  </tbody>\n",
       "</table>\n",
       "</div>"
      ],
      "text/plain": [
       "    CF%   FF%    xGF  PTS   GF   GA  madePlayoffs                 team\n",
       "0  51.6  51.3  185.1  128  319  221             1  Tampa Bay Lightning\n",
       "1  53.9  53.1  184.0  107  289  223             1       Calgary Flames\n",
       "2  53.1  53.6  169.7  107  257  212             1        Boston Bruins\n",
       "3  49.0  49.0  162.4  104  274  248             1  Washington Capitals\n",
       "4  47.8  48.3  175.1  103  223  191             1   New York Islanders"
      ]
     },
     "execution_count": 6,
     "metadata": {},
     "output_type": "execute_result"
    }
   ],
   "source": [
    "df.head()"
   ]
  },
  {
   "cell_type": "code",
   "execution_count": 7,
   "id": "ad546159",
   "metadata": {},
   "outputs": [
    {
     "data": {
      "text/plain": [
       "<function matplotlib.pyplot.xlabel(xlabel, fontdict=None, labelpad=None, *, loc=None, **kwargs)>"
      ]
     },
     "execution_count": 7,
     "metadata": {},
     "output_type": "execute_result"
    },
    {
     "data": {
      "image/png": "[encoded data removed]",
      "text/plain": [
       "<Figure size 432x288 with 1 Axes>"
      ]
     },
     "metadata": {
      "needs_background": "light"
     },
     "output_type": "display_data"
    }
   ],
   "source": [
    "x_cor = [60,130]\n",
    "y_cor = [49.5,49.5]\n",
    "plt.scatter(x=df['PTS'],y=df['CF%'],c=df['madePlayoffs'])\n",
    "plt.plot(x_cor,y_cor)\n",
    "plt.xlabel"
   ]
  },
  {
   "cell_type": "code",
   "execution_count": 9,
   "id": "5f2131dd",
   "metadata": {},
   "outputs": [
    {
     "data": {
      "text/plain": [
       "[<matplotlib.lines.Line2D at 0x25dbf9c6c10>]"
      ]
     },
     "execution_count": 9,
     "metadata": {},
     "output_type": "execute_result"
    },
    {
     "data": {
      "image/png": "[encoded data removed]",
      "text/plain": [
       "<Figure size 432x288 with 1 Axes>"
      ]
     },
     "metadata": {
      "needs_background": "light"
     },
     "output_type": "display_data"
    }
   ],
   "source": [
    "x_cor = [60,130]\n",
    "y_cor = [171,171]\n",
    "plt.scatter(x=df['PTS'],y=df['xGF'],c=df['madePlayoffs'])\n",
    "plt.plot(x_cor,y_cor)\n",
    "#plt.plot(x_cor,y_cor)"
   ]
  },
  {
   "cell_type": "code",
   "execution_count": 22,
   "id": "e193bbc3",
   "metadata": {},
   "outputs": [
    {
     "data": {
      "image/png": "[encoded data removed]",
      "text/plain": [
       "<Figure size 432x288 with 1 Axes>"
      ]
     },
     "metadata": {
      "needs_background": "light"
     },
     "output_type": "display_data"
    }
   ],
   "source": [
    "x_cor = [60,130]\n",
    "y_cor = [49.5,49.5]\n",
    "img = plt.scatter(x=df['PTS'],y=df['CF%'],c=df['madePlayoffs'])\n",
    "plt.plot(x_cor,y_cor)\n",
    "plt.xlabel('Season Points')\n",
    "plt.ylabel('Corsi for %')\n",
    "plt.title('How well does CF% predict playoff berths')\n",
    "plt.legend(handles=img.legend_elements()[0],labels=['No Playoff berth','Playoff Berth'])\n",
    "plt.savefig('data/CFvPlayoffs.jpeg',dpi=300)"
   ]
  },
  {
   "cell_type": "code",
   "execution_count": null,
   "id": "e63aa537",
   "metadata": {},
   "outputs": [],
   "source": []
  }
 ],
 "metadata": {
  "kernelspec": {
   "display_name": "Python 3",
   "language": "python",
   "name": "python3"
  },
  "language_info": {
   "codemirror_mode": {
    "name": "ipython",
    "version": 3
   },
   "file_extension": ".py",
   "mimetype": "text/x-python",
   "name": "python",
   "nbconvert_exporter": "python",
   "pygments_lexer": "ipython3",
   "version": "3.8.8"
  }
 },
 "nbformat": 4,
 "nbformat_minor": 5
}
