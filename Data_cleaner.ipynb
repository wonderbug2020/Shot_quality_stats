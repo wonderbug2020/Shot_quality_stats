{
 "cells": [
  {
   "cell_type": "markdown",
   "id": "6c60c07f",
   "metadata": {},
   "source": [
    "# Data Processing\n",
    "This notebook is meant to recreate the data cleaing process from evolving hockey but using python\n",
    "https://evolving-hockey.com/blog/a-new-expected-goals-model-for-predicting-goals-in-the-nhl/"
   ]
  },
  {
   "cell_type": "code",
   "execution_count": 1,
   "id": "9ab81e0a",
   "metadata": {},
   "outputs": [],
   "source": [
    "#Libraries used\n",
    "import pandas as pd #for the data frame\n",
    "import numpy as np #used for filtering and some arithmatic. "
   ]
  },
  {
   "cell_type": "code",
   "execution_count": 7,
   "id": "324d9e4d",
   "metadata": {},
   "outputs": [],
   "source": [
    "#Setting up the variables to be used to extract the zone from the description\n",
    "col = 'event_description'\n",
    "#conditions = [df[col].str.contains('Off. Zone', na=False), df[col].str.contains('Def. Zone', na=False), \n",
    "#              df[col].str.contains('Neu. Zone', na=False)]\n",
    "choices = ['Off','Def','Neu']\n",
    "\n",
    "#These two lists are used for different event types that will be filtered. \n",
    "fenwick = ['SHOT', 'MISS', 'GOAL']\n",
    "corsi = ['SHOT', 'MISS', 'GOAL', 'BLOCK']\n",
    "\n",
    "#This is a list that is used to correct some shot type descriptions\n",
    "correction = ['Tip-In', 'Wrap-around', 'Deflected']\n",
    "\n",
    "#A list of strings that indicate if the teams are even strength\n",
    "even_strength = ['5v5','4v4','3v3']\n",
    "\n",
    "def get_data(season):\n",
    "    ''' User inputs the last 2 numbers of the year the playoffs are in for the season of interest\n",
    "        IE the 2020-2021 season would be 21. \n",
    "        This returns the raw data in a dataframe\n",
    "    '''\n",
    "    sea_1 = str(season-1).zfill(2)\n",
    "    sea_2 = str(season).zfill(2)\n",
    "    df = pd.read_csv(f'data/pbp/raw/pbp_query_20{sea_1}20{sea_2}.csv',low_memory=False) \n",
    "    \n",
    "    return df\n",
    "\n",
    "def get_dist_angle()"
   ]
  },
  {
   "cell_type": "code",
   "execution_count": 4,
   "id": "5b3f49a6",
   "metadata": {},
   "outputs": [],
   "source": []
  },
  {
   "cell_type": "code",
   "execution_count": null,
   "id": "f0746642",
   "metadata": {},
   "outputs": [],
   "source": []
  },
  {
   "cell_type": "code",
   "execution_count": null,
   "id": "52c79390",
   "metadata": {},
   "outputs": [],
   "source": []
  }
 ],
 "metadata": {
  "kernelspec": {
   "display_name": "Python 3",
   "language": "python",
   "name": "python3"
  },
  "language_info": {
   "codemirror_mode": {
    "name": "ipython",
    "version": 3
   },
   "file_extension": ".py",
   "mimetype": "text/x-python",
   "name": "python",
   "nbconvert_exporter": "python",
   "pygments_lexer": "ipython3",
   "version": "3.8.8"
  }
 },
 "nbformat": 4,
 "nbformat_minor": 5
}
