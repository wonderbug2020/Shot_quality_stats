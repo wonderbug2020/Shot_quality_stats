{
 "cells": [
  {
   "cell_type": "code",
   "execution_count": 1,
   "id": "f740f193",
   "metadata": {},
   "outputs": [],
   "source": [
    "import pandas as pd\n",
    "import numpy as np\n",
    "import ModelMaker as mm\n",
    "import matplotlib.pyplot as pyplot"
   ]
  },
  {
   "cell_type": "code",
   "execution_count": 2,
   "id": "60b22992",
   "metadata": {},
   "outputs": [],
   "source": [
    "df_11 = pd.read_csv('data/pbp/ready_to_model/10_11_pbp_cleaned.csv')\n",
    "df_12 = pd.read_csv('data/pbp/ready_to_model/11_12_pbp_cleaned.csv')\n",
    "df_13 = pd.read_csv('data/pbp/ready_to_model/12_13_pbp_cleaned.csv')\n",
    "df_14 = pd.read_csv('data/pbp/ready_to_model/13_14_pbp_cleaned.csv')\n",
    "df_15 = pd.read_csv('data/pbp/ready_to_model/14_15_pbp_cleaned.csv')\n",
    "df_16 = pd.read_csv('data/pbp/ready_to_model/15_16_pbp_cleaned.csv')\n",
    "df_17 = pd.read_csv('data/pbp/ready_to_model/16_17_pbp_cleaned.csv')\n",
    "df_18 = pd.read_csv('data/pbp/ready_to_model/17_18_pbp_cleaned.csv')\n",
    "df_19 = pd.read_csv('data/pbp/ready_to_model/18_19_pbp_cleaned.csv')\n",
    "df_20 = pd.read_csv('data/pbp/ready_to_model/19_20_pbp_cleaned.csv')\n",
    "df_21 = pd.read_csv('data/pbp/ready_to_model/20_21_pbp_cleaned.csv')\n",
    "df_1117 = pd.concat([df_11,df_12,df_13,df_14,df_15,df_16,df_17])\n",
    "df_1121 = pd.concat([df_11,df_12,df_13,df_14,df_15,df_16,df_17,df_18,df_19,df_20,df_21])"
   ]
  },
  {
   "cell_type": "code",
   "execution_count": 3,
   "id": "18283ab4",
   "metadata": {},
   "outputs": [
    {
     "name": "stdout",
     "output_type": "stream",
     "text": [
      "Running XGB model, please be patient\n",
      "Fitting the test data to the model\n",
      "The Log loss is 0.19019\n"
     ]
    }
   ],
   "source": [
    "model_0 = mm.run_XGB(df_1121)"
   ]
  },
  {
   "cell_type": "code",
   "execution_count": 4,
   "id": "4baa6dcc",
   "metadata": {},
   "outputs": [
    {
     "data": {
      "text/plain": [
       "Index(['Unnamed: 0', 'game_period', 'game_seconds', 'is_home', 'coords_x',\n",
       "       'coords_y', 'coords_x_last', 'coords_y_last', 'shot_distance',\n",
       "       'shot_angle', 'state_5v5', 'state_5v4', 'score_down_4', 'score_down_3',\n",
       "       'score_down_2', 'score_down_1', 'score_even', 'score_up_1',\n",
       "       'score_up_2', 'score_up_3', 'wrist_shot', 'seconds_since_last',\n",
       "       'deflected_shot', 'tip_shot', 'slap_shot', 'backhand_shot', 'snap_shot',\n",
       "       'prior_shot_same', 'prior_miss_same', 'prior_shot_opp',\n",
       "       'prior_miss_opp', 'prior_give_opp', 'prior_take_opp', 'prior_hit_opp',\n",
       "       'prior_face', 'state_5v3', 'score_up_4', 'wrap_shot',\n",
       "       'prior_block_same', 'prior_block_opp', 'prior_give_same',\n",
       "       'prior_take_same', 'prior_hit_same', 'is_goal'],\n",
       "      dtype='object')"
      ]
     },
     "execution_count": 4,
     "metadata": {},
     "output_type": "execute_result"
    }
   ],
   "source": [
    "df_na = df_1121.copy()\n",
    "df_na.columns"
   ]
  },
  {
   "cell_type": "code",
   "execution_count": 5,
   "id": "9ca02b50",
   "metadata": {},
   "outputs": [],
   "source": [
    "to_na = (df_na.coords_x_last == 0) & (df_na.coords_y_last == 0)\n",
    "df_na['coords_x_last'] = np.where(to_na,np.nan,df_na.coords_x_last)\n",
    "df_na['coords_y_last'] = np.where(to_na,np.nan,df_na.coords_y_last)"
   ]
  },
  {
   "cell_type": "code",
   "execution_count": 6,
   "id": "29825401",
   "metadata": {},
   "outputs": [],
   "source": [
    "df_2 = df_na[(df_na.coords_x_last == 0) & (df_na.coords_y_last == 0)]"
   ]
  },
  {
   "cell_type": "code",
   "execution_count": 7,
   "id": "68f339b4",
   "metadata": {},
   "outputs": [
    {
     "data": {
      "text/plain": [
       "(0, 44)"
      ]
     },
     "execution_count": 7,
     "metadata": {},
     "output_type": "execute_result"
    }
   ],
   "source": [
    "df_2.shape"
   ]
  },
  {
   "cell_type": "code",
   "execution_count": 8,
   "id": "3ae5e19f",
   "metadata": {},
   "outputs": [
    {
     "name": "stdout",
     "output_type": "stream",
     "text": [
      "Running XGB model, please be patient\n",
      "Fitting the test data to the model\n",
      "The Log loss is 0.1902\n"
     ]
    }
   ],
   "source": [
    "model_na = mm.run_XGB(df_na)"
   ]
  },
  {
   "cell_type": "code",
   "execution_count": 9,
   "id": "c4881e02",
   "metadata": {},
   "outputs": [],
   "source": [
    "df_delta = df_1121.copy()\n",
    "df_delta['delta_x'] = df_delta.coords_x - df_delta.coords_x_last\n",
    "df_delta['delta_y'] = df_delta.coords_y - df_delta.coords_y_last\n",
    "df_delta['speed_x'] = (df_delta.coords_x - df_delta.coords_x_last) / df_delta.seconds_since_last\n",
    "df_delta['speed_y'] = (df_delta.coords_y - df_delta.coords_y_last) / df_delta.seconds_since_last"
   ]
  },
  {
   "cell_type": "code",
   "execution_count": 10,
   "id": "4c637cbd",
   "metadata": {},
   "outputs": [
    {
     "name": "stdout",
     "output_type": "stream",
     "text": [
      "Running XGB model, please be patient\n",
      "Fitting the test data to the model\n",
      "The Log loss is 0.19002\n"
     ]
    }
   ],
   "source": [
    "model_delta = mm.run_XGB(df_delta)"
   ]
  },
  {
   "cell_type": "code",
   "execution_count": 11,
   "id": "d48283e7",
   "metadata": {},
   "outputs": [
    {
     "data": {
      "image/png": "[encoded data removed]",
      "text/plain": [
       "<Figure size 432x288 with 1 Axes>"
      ]
     },
     "metadata": {
      "needs_background": "light"
     },
     "output_type": "display_data"
    }
   ],
   "source": [
    "mm.plot_xgb(model_delta)"
   ]
  },
  {
   "cell_type": "code",
   "execution_count": null,
   "id": "86cdf967",
   "metadata": {},
   "outputs": [],
   "source": []
  }
 ],
 "metadata": {
  "kernelspec": {
   "display_name": "Python 3",
   "language": "python",
   "name": "python3"
  },
  "language_info": {
   "codemirror_mode": {
    "name": "ipython",
    "version": 3
   },
   "file_extension": ".py",
   "mimetype": "text/x-python",
   "name": "python",
   "nbconvert_exporter": "python",
   "pygments_lexer": "ipython3",
   "version": "3.8.8"
  }
 },
 "nbformat": 4,
 "nbformat_minor": 5
}
