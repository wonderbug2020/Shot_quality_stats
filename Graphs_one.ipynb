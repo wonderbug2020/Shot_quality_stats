{
 "cells": [
  {
   "cell_type": "markdown",
   "metadata": {},
   "source": [
    "### Imports and Styling"
   ]
  },
  {
   "cell_type": "code",
   "execution_count": 1,
   "metadata": {},
   "outputs": [],
   "source": [
    "#Pandas for df, matplotlib for graphs, numpy for regression line, sklearn.metrics for r2 score\n",
    "import pandas as pd\n",
    "import matplotlib.pyplot as plt\n",
    "import numpy as np\n",
    "from sklearn.metrics import r2_score\n",
    "\n",
    "#Some styling got the graphs\n",
    "%matplotlib inline\n",
    "import matplotlib.style as style\n",
    "style.use('seaborn')"
   ]
  },
  {
   "cell_type": "markdown",
   "metadata": {},
   "source": [
    "### Import and merge data"
   ]
  },
  {
   "cell_type": "code",
   "execution_count": 2,
   "metadata": {},
   "outputs": [],
   "source": [
    "shots_df = pd.read_csv('data/19_20_shot_quality.csv')\n",
    "season_df = pd.read_excel('data/19_20_SEASON_STATS.xlsx')\n",
    "merged = pd.merge(shots_df,season_df, on=\"Team\")"
   ]
  },
  {
   "cell_type": "markdown",
   "metadata": {},
   "source": [
    "### Function to create graphs"
   ]
  },
  {
   "cell_type": "code",
   "execution_count": 3,
   "metadata": {},
   "outputs": [],
   "source": [
    "def make_graph(X,Y,SAVE_AS=\"do_not\"):\n",
    "    #set up the variables\n",
    "    x=merged[X]\n",
    "    y=merged[Y]\n",
    "    m, b = np.polyfit(x,y,1)\n",
    "    y_pred = m*x+b\n",
    "    r2=round(r2_score(y,y_pred),2)\n",
    "    #Make the graph\n",
    "    fig = plt.figure(figsize=(32,16))\n",
    "    fig, ax = plt.subplots()\n",
    "    ax.scatter(x,y,c=\"#ff3300\",alpha=0.7)\n",
    "    ax.plot(x,y_pred)\n",
    "    ax.set_xlabel(X)\n",
    "    ax.set_ylabel(Y)\n",
    "    ax.set_title(f\"R2 score = {r2}\")\n",
    "    ax.spines['right'].set_visible(False)\n",
    "    ax.spines['top'].set_visible(False)\n",
    "    #To save the image if desired\n",
    "    if SAVE_AS != \"do_not\":\n",
    "        fig.savefig(f\"data/{SAVE_AS}.png\",dpi=500)\n",
    "    "
   ]
  },
  {
   "cell_type": "markdown",
   "metadata": {},
   "source": [
    "### Create the graphs"
   ]
  },
  {
   "cell_type": "code",
   "execution_count": null,
   "metadata": {},
   "outputs": [],
   "source": [
    "#I call the function for several comparative parameters and then save the graphs\n",
    "#Above Percent was the best predictor, but still only had an r2 score of .42\n",
    "#There was virtually no difference between \n",
    "make_graph('PTS','abovePercent',\"PTSvABP\")\n",
    "make_graph('PTS%','abovePercent',\"PTS%vABP\")\n",
    "make_graph('PTS','belowPercent',\"PTSvBEP\")\n",
    "make_graph('PTS','forPercent',\"PTSvFOP\")\n",
    "make_graph('PTS','againstPercent',\"PTSvAGP\")"
   ]
  }
 ],
 "metadata": {
  "kernelspec": {
   "display_name": "Python 3",
   "language": "python",
   "name": "python3"
  },
  "language_info": {
   "codemirror_mode": {
    "name": "ipython",
    "version": 3
   },
   "file_extension": ".py",
   "mimetype": "text/x-python",
   "name": "python",
   "nbconvert_exporter": "python",
   "pygments_lexer": "ipython3",
   "version": "3.8.3"
  }
 },
 "nbformat": 4,
 "nbformat_minor": 4
}
