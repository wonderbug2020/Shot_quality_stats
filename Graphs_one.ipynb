{
 "cells": [
  {
   "cell_type": "code",
   "execution_count": 48,
   "metadata": {},
   "outputs": [],
   "source": [
    "import pandas as pd\n",
    "import matplotlib.pyplot as plt\n",
    "import numpy as np\n",
    "from sklearn.metrics import r2_score\n",
    "%matplotlib inline\n"
   ]
  },
  {
   "cell_type": "code",
   "execution_count": 40,
   "metadata": {},
   "outputs": [],
   "source": [
    "shots_df = pd.read_csv('data/19_20_shot_quality.csv')\n",
    "season_df = pd.read_excel('data/19_20_SEASON_STATS.xlsx')"
   ]
  },
  {
   "cell_type": "code",
   "execution_count": 41,
   "metadata": {},
   "outputs": [],
   "source": [
    "merged = pd.merge(shots_df,season_df, on=\"Team\")\n",
    "merged.sort_values(by=['Team'], inplace=True)"
   ]
  },
  {
   "cell_type": "code",
   "execution_count": 42,
   "metadata": {},
   "outputs": [
    {
     "data": {
      "text/plain": [
       "Index(['Team', 'aboveFor', 'belowFor', 'aboveAgainst', 'belowAgainst',\n",
       "       'abovePercent', 'belowPercent', 'forPercent', 'againstPercent', 'Rk',\n",
       "       'Team_name', 'AvAge', 'GP', 'W', 'L', 'OL', 'PTS', 'PTS%', 'GF', 'GA',\n",
       "       'SOW', 'SOL', 'SRS', 'SOS', 'TG/G', 'EVGF', 'EVGA', 'PP', 'PPO', 'PP%',\n",
       "       'PPA', 'PPOA', 'PK%', 'SH', 'SHA', 'PIM/G', 'oPIM/G', 'S', 'S%', 'SA',\n",
       "       'SV%', 'SO'],\n",
       "      dtype='object')"
      ]
     },
     "execution_count": 42,
     "metadata": {},
     "output_type": "execute_result"
    }
   ],
   "source": [
    "merged.columns"
   ]
  },
  {
   "cell_type": "code",
   "execution_count": 69,
   "metadata": {},
   "outputs": [],
   "source": [
    "x = merged['PTS']\n",
    "y_abp = merged['abovePercent']\n",
    "m_abp, b_abp = np.polyfit(x,y_abp,1)\n",
    "y_pred_abp = m_abp*x+b_abp\n",
    "r2_abp = round(r2_score(y_abp,y_pred),2)"
   ]
  },
  {
   "cell_type": "code",
   "execution_count": 71,
   "metadata": {},
   "outputs": [],
   "source": [
    "x = merged['PTS']\n",
    "y_bep = merged['belowPercent']\n",
    "m_bep, b_bep = np.polyfit(x,y_bep,1)\n",
    "y_pred_bep = m_bep*x+b_bep\n",
    "r2_bep = round(r2_score(y_bep,y_pred),2)"
   ]
  },
  {
   "cell_type": "code",
   "execution_count": 72,
   "metadata": {},
   "outputs": [
    {
     "data": {
      "text/plain": [
       "Text(0.5, 1.0, 'R2 score = 0.0')"
      ]
     },
     "execution_count": 72,
     "metadata": {},
     "output_type": "execute_result"
    },
    {
     "data": {
      "text/plain": [
       "<Figure size 2880x2880 with 0 Axes>"
      ]
     },
     "metadata": {},
     "output_type": "display_data"
    },
    {
     "data": {
      "image/png": "[encoded data removed]",
      "text/plain": [
       "<Figure size 432x288 with 2 Axes>"
      ]
     },
     "metadata": {
      "needs_background": "light"
     },
     "output_type": "display_data"
    }
   ],
   "source": [
    "fig = plt.figure(figsize=(40,40))\n",
    "fig, (ax1, ax2) = plt.subplots(1,2)\n",
    "ax1.scatter(x,y_abp,c=\"#ff3300\")\n",
    "ax1.plot(x,y_pred_abp)\n",
    "ax1.set_xlabel(\"PTS\")\n",
    "ax1.set_ylabel(\"PercentAbove\")\n",
    "ax1.set_title(f\"R2 score = {r2_abp}\")\n",
    "\n",
    "ax2.scatter(x,y_bep,c=\"#ff3300\")\n",
    "ax2.plot(x,y_pred_bep)\n",
    "ax2.set_xlabel(\"PTS\")\n",
    "ax2.set_ylabel(\"PercentAbove\")\n",
    "ax2.set_title(f\"R2 score = {r2_bep}\")"
   ]
  },
  {
   "cell_type": "code",
   "execution_count": 62,
   "metadata": {},
   "outputs": [],
   "source": [
    "fig.savefig(\"data/image_one.png\")"
   ]
  },
  {
   "cell_type": "code",
   "execution_count": null,
   "metadata": {},
   "outputs": [],
   "source": []
  },
  {
   "cell_type": "code",
   "execution_count": null,
   "metadata": {},
   "outputs": [],
   "source": []
  }
 ],
 "metadata": {
  "kernelspec": {
   "display_name": "Python 3",
   "language": "python",
   "name": "python3"
  },
  "language_info": {
   "codemirror_mode": {
    "name": "ipython",
    "version": 3
   },
   "file_extension": ".py",
   "mimetype": "text/x-python",
   "name": "python",
   "nbconvert_exporter": "python",
   "pygments_lexer": "ipython3",
   "version": "3.8.3"
  }
 },
 "nbformat": 4,
 "nbformat_minor": 4
}
