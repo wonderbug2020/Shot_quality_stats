{
 "cells": [
  {
   "cell_type": "markdown",
   "metadata": {},
   "source": [
    "### Importing the required libraries"
   ]
  },
  {
   "cell_type": "code",
   "execution_count": null,
   "metadata": {},
   "outputs": [],
   "source": [
    "#For right now pandas for the df's is all I need to import\n",
    "import pandas as pd"
   ]
  },
  {
   "cell_type": "markdown",
   "metadata": {},
   "source": [
    "### Importing the data"
   ]
  },
  {
   "cell_type": "code",
   "execution_count": null,
   "metadata": {},
   "outputs": [],
   "source": [
    "#For this proof of concept, I'm simply going to use the 2019-2020 data\n",
    "df = pd.read_csv(\"data/shots_2019.csv\")\n",
    "#I will need the list of team codes for later\n",
    "team_lst = df['teamCode'].unique().tolist()"
   ]
  },
  {
   "cell_type": "markdown",
   "metadata": {},
   "source": [
    "### Filter down to 5v5 even strength"
   ]
  },
  {
   "cell_type": "code",
   "execution_count": null,
   "metadata": {},
   "outputs": [],
   "source": [
    "def get_stats(dataframe,team_name):\n",
    "    filter_1 = dataframe['awaySkatersOnIce']==5\n",
    "    filter_2 = dataframe['homeSkatersOnIce']==5\n",
    "    filter_3 = dataframe['awayEmptyNet']==0.0\n",
    "    filter_4 = dataframe['homeEmptyNet']==0.0\n",
    "    filter_5 = dataframe['isPlayoffGame']==0.0\n",
    "    df_filtered = dataframe[filter_1 & filter_2 & filter_3 & filter_4 & filter_5]\n",
    "    \n",
    "    #I will also filter out the un used columns at this point\n",
    "    new_col_lst = ['awayTeamCode', 'game_id', 'homeTeamCode', 'isHomeTeam', 'team', 'teamCode', 'xGoal']\n",
    "    df_filtered = df_filtered.filter(new_col_lst, axis=1)\n",
    "    \n",
    "    #Next to grab the median value for xGoals for this scenario\n",
    "    #even_mean = df_filtered['xGoal'].mean()\n",
    "    even_mean = df_filtered['xGoal'].median()\n",
    "    \n",
    "    #I will have a total of 6 filters\n",
    "    #The first two check to make sure the team we are checking for is involved in that stat line\n",
    "    is_home = df_filtered['homeTeamCode'] == team_name#team_lst[team_num]\n",
    "    is_away = df_filtered['awayTeamCode'] == team_name#team_lst[team_num]\n",
    "\n",
    "    #The next two check to see if the event was by or against the team in question\n",
    "    event_for = df_filtered['teamCode'] == team_name#team_lst[team_num]\n",
    "    event_against = df_filtered['teamCode'] != team_name#team_lst[team_num]\n",
    "\n",
    "    #The last two will check if the xGoal figure is equal to or above the median or below it \n",
    "    above_mean = df_filtered['xGoal'] >= even_mean\n",
    "    below_mean = df_filtered['xGoal'] < even_mean\n",
    "    \n",
    "    aboveFor = len(df_filtered[(is_home | is_away) & event_for & above_mean])\n",
    "    belowFor = len(df_filtered[(is_home | is_away) & event_for & below_mean])\n",
    "    aboveAgainst = len(df_filtered[(is_home | is_away) & event_against & above_mean])\n",
    "    belowAgainst = len(df_filtered[(is_home | is_away) & event_against & below_mean])\n",
    "    \n",
    "    #now to append this data to a stat list\n",
    "    stat_lst = []\n",
    "    stat_lst.append(team_name)\n",
    "    stat_lst.append(aboveFor)\n",
    "    stat_lst.append(belowFor)\n",
    "    stat_lst.append(aboveAgainst)\n",
    "    stat_lst.append(belowAgainst)\n",
    "    stat_lst.append(round((aboveFor/(aboveFor+aboveAgainst)*100),2))\n",
    "    stat_lst.append(round((belowFor/(belowFor+belowAgainst)*100),2))\n",
    "    stat_lst.append(round((aboveFor/(aboveFor+belowFor)*100),2))\n",
    "    stat_lst.append(round((aboveAgainst/(aboveAgainst+belowAgainst)*100),2))\n",
    "    \n",
    "    return stat_lst"
   ]
  },
  {
   "cell_type": "markdown",
   "metadata": {},
   "source": [
    "### Make a list of lists with each team"
   ]
  },
  {
   "cell_type": "code",
   "execution_count": null,
   "metadata": {},
   "outputs": [],
   "source": [
    "league_lst = []\n",
    "for team in team_lst:\n",
    "    league_lst.append(get_stats(df,team))"
   ]
  },
  {
   "cell_type": "markdown",
   "metadata": {},
   "source": [
    "### Turn into a dataframe"
   ]
  },
  {
   "cell_type": "code",
   "execution_count": null,
   "metadata": {},
   "outputs": [],
   "source": [
    "headers = ['Team','aboveFor','belowFor','aboveAgainst','belowAgainst',\n",
    "           'abovePercent','belowPercent','forPercent','againstPercent']\n",
    "df_final = pd.DataFrame(league_lst, columns = headers)"
   ]
  },
  {
   "cell_type": "code",
   "execution_count": null,
   "metadata": {},
   "outputs": [],
   "source": [
    "df_final.head(31)"
   ]
  },
  {
   "cell_type": "code",
   "execution_count": null,
   "metadata": {},
   "outputs": [],
   "source": []
  }
 ],
 "metadata": {
  "kernelspec": {
   "display_name": "Python 3",
   "language": "python",
   "name": "python3"
  },
  "language_info": {
   "codemirror_mode": {
    "name": "ipython",
    "version": 3
   },
   "file_extension": ".py",
   "mimetype": "text/x-python",
   "name": "python",
   "nbconvert_exporter": "python",
   "pygments_lexer": "ipython3",
   "version": "3.8.3"
  }
 },
 "nbformat": 4,
 "nbformat_minor": 4
}
