{
 "cells": [
  {
   "cell_type": "markdown",
   "metadata": {},
   "source": [
    "### Importing the required libraries"
   ]
  },
  {
   "cell_type": "code",
   "execution_count": 1,
   "metadata": {},
   "outputs": [],
   "source": [
    "#For right now pandas for the df's is all I need to import\n",
    "import pandas as pd"
   ]
  },
  {
   "cell_type": "markdown",
   "metadata": {},
   "source": [
    "### Importing the data"
   ]
  },
  {
   "cell_type": "code",
   "execution_count": 3,
   "metadata": {},
   "outputs": [],
   "source": [
    "#For this proof of concept, I'm simply going to use the 2019-2020 data\n",
    "df = pd.read_csv(\"data/shots_2019.csv\")"
   ]
  },
  {
   "cell_type": "markdown",
   "metadata": {},
   "source": [
    "### Filter down to 5v5 even strength"
   ]
  },
  {
   "cell_type": "code",
   "execution_count": 5,
   "metadata": {},
   "outputs": [],
   "source": [
    "def get_5v5filter(dataframe):\n",
    "    filter_1 = dataframe['awaySkatersOnIce']==5\n",
    "    filter_2 = dataframe['homeSkatersOnIce']==5\n",
    "    filter_3 = dataframe['awayEmptyNet']==0.0\n",
    "    filter_4 = dataframe['homeEmptyNet']==0.0\n",
    "    filter_5 = dataframe['isPlayoffGame']==0.0\n",
    "    df_filtered = dataframe[filter_1 & filter_2 & filter_3 & filter_4 & filter_5]\n",
    "    \n",
    "    #I will also filter out the un used columns at this point\n",
    "    new_col_lst = ['awayTeamCode', 'game_id', 'homeTeamCode', 'isHomeTeam', 'team', 'teamCode', 'xGoal']\n",
    "    df_filtered = df_filtered.filter(new_col_lst, axis=1)\n",
    "    \n",
    "    return df_filtered"
   ]
  },
  {
   "cell_type": "code",
   "execution_count": null,
   "metadata": {},
   "outputs": [],
   "source": []
  }
 ],
 "metadata": {
  "kernelspec": {
   "display_name": "Python 3",
   "language": "python",
   "name": "python3"
  },
  "language_info": {
   "codemirror_mode": {
    "name": "ipython",
    "version": 3
   },
   "file_extension": ".py",
   "mimetype": "text/x-python",
   "name": "python",
   "nbconvert_exporter": "python",
   "pygments_lexer": "ipython3",
   "version": "3.8.3"
  }
 },
 "nbformat": 4,
 "nbformat_minor": 4
}
