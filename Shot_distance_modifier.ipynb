{
 "cells": [
  {
   "cell_type": "code",
   "execution_count": 1,
   "id": "47a55dd0",
   "metadata": {},
   "outputs": [],
   "source": [
    "import pandas as pd"
   ]
  },
  {
   "cell_type": "code",
   "execution_count": 3,
   "id": "9d6bdfd5",
   "metadata": {},
   "outputs": [
    {
     "data": {
      "text/plain": [
       "Index(['season', 'game_id', 'game_date', 'session', 'event_index',\n",
       "       'game_period', 'game_seconds', 'clock_time', 'event_type',\n",
       "       'event_description', 'event_detail', 'event_zone', 'event_team',\n",
       "       'event_player_1', 'event_player_2', 'event_player_3', 'event_length',\n",
       "       'coords_x', 'coords_y', 'num_on', 'num_off', 'players_on',\n",
       "       'players_off', 'home_on_1', 'home_on_2', 'home_on_3', 'home_on_4',\n",
       "       'home_on_5', 'home_on_6', 'home_on_7', 'away_on_1', 'away_on_2',\n",
       "       'away_on_3', 'away_on_4', 'away_on_5', 'away_on_6', 'away_on_7',\n",
       "       'home_goalie', 'away_goalie', 'home_team', 'away_team', 'home_skaters',\n",
       "       'away_skaters', 'home_score', 'away_score', 'game_score_state',\n",
       "       'game_strength_state', 'home_zone', 'pbp_distance', 'event_distance',\n",
       "       'event_angle', 'home_zonestart', 'face_index', 'pen_index',\n",
       "       'shift_index', 'pred_goal'],\n",
       "      dtype='object')"
      ]
     },
     "execution_count": 3,
     "metadata": {},
     "output_type": "execute_result"
    }
   ],
   "source": [
    "#df = pd.read_csv(f'data/pbp/raw/pbp_query_20{sea_1}20{sea_2}.csv',low_memory=False) \n",
    "df = pd.read_csv(f'data/pbp/raw/pbp_query_20202021.csv',low_memory=False) \n",
    "df = df[df.event_type.isin(['SHOT','MISS','GOAL'])].copy()\n",
    "df.columns"
   ]
  },
  {
   "cell_type": "code",
   "execution_count": 8,
   "id": "3920cf55",
   "metadata": {},
   "outputs": [],
   "source": [
    "teams = df.home_team.unique().tolist()\n",
    "adj_shot_dict = {}\n",
    "for team in teams:\n",
    "    df_temp = df[df.home_team == team]\n",
    "    average = round(df_temp.event_distance.mean(),2)\n",
    "    adj_shot_dict[team] = average"
   ]
  },
  {
   "cell_type": "code",
   "execution_count": 28,
   "id": "d8b58adf",
   "metadata": {},
   "outputs": [
    {
     "data": {
      "text/plain": [
       "35.4"
      ]
     },
     "execution_count": 28,
     "metadata": {},
     "output_type": "execute_result"
    }
   ],
   "source": [
    "adj_shot_dict['S.J']"
   ]
  },
  {
   "cell_type": "code",
   "execution_count": 12,
   "id": "c3743fb6",
   "metadata": {},
   "outputs": [],
   "source": [
    "def make_adjustment(df):\n",
    "    team = df.home_team\n",
    "    distance = df.event_distance\n",
    "    adj_dist = distance - adj_shot_dict[team]\n",
    "    return adj_dist"
   ]
  },
  {
   "cell_type": "code",
   "execution_count": 19,
   "id": "3551ef27",
   "metadata": {},
   "outputs": [],
   "source": [
    "#df['adj_dist'] = df['event_distance'].apply(make_adjustment)"
   ]
  },
  {
   "cell_type": "code",
   "execution_count": 15,
   "id": "2b8dc539",
   "metadata": {},
   "outputs": [],
   "source": [
    "df['adj_dist'] = df.groupby('home_team')['event_distance'] \\\n",
    "                   .apply(lambda x: x - x.mean())"
   ]
  },
  {
   "cell_type": "code",
   "execution_count": 31,
   "id": "f1131910",
   "metadata": {},
   "outputs": [
    {
     "data": {
      "text/html": [
       "<div>\n",
       "<style scoped>\n",
       "    .dataframe tbody tr th:only-of-type {\n",
       "        vertical-align: middle;\n",
       "    }\n",
       "\n",
       "    .dataframe tbody tr th {\n",
       "        vertical-align: top;\n",
       "    }\n",
       "\n",
       "    .dataframe thead th {\n",
       "        text-align: right;\n",
       "    }\n",
       "</style>\n",
       "<table border=\"1\" class=\"dataframe\">\n",
       "  <thead>\n",
       "    <tr style=\"text-align: right;\">\n",
       "      <th></th>\n",
       "      <th>event_distance</th>\n",
       "      <th>adj_dist</th>\n",
       "      <th>adj_dist_2</th>\n",
       "      <th>home_team</th>\n",
       "      <th>away_team</th>\n",
       "      <th>event_team</th>\n",
       "    </tr>\n",
       "  </thead>\n",
       "  <tbody>\n",
       "    <tr>\n",
       "      <th>1</th>\n",
       "      <td>32.65</td>\n",
       "      <td>-6.534938</td>\n",
       "      <td>-6.53</td>\n",
       "      <td>PHI</td>\n",
       "      <td>PIT</td>\n",
       "      <td>PHI</td>\n",
       "    </tr>\n",
       "    <tr>\n",
       "      <th>4</th>\n",
       "      <td>47.17</td>\n",
       "      <td>7.985062</td>\n",
       "      <td>7.99</td>\n",
       "      <td>PHI</td>\n",
       "      <td>PIT</td>\n",
       "      <td>PIT</td>\n",
       "    </tr>\n",
       "    <tr>\n",
       "      <th>7</th>\n",
       "      <td>48.27</td>\n",
       "      <td>9.085062</td>\n",
       "      <td>9.09</td>\n",
       "      <td>PHI</td>\n",
       "      <td>PIT</td>\n",
       "      <td>PHI</td>\n",
       "    </tr>\n",
       "    <tr>\n",
       "      <th>19</th>\n",
       "      <td>60.31</td>\n",
       "      <td>21.125062</td>\n",
       "      <td>21.13</td>\n",
       "      <td>PHI</td>\n",
       "      <td>PIT</td>\n",
       "      <td>PIT</td>\n",
       "    </tr>\n",
       "    <tr>\n",
       "      <th>22</th>\n",
       "      <td>54.20</td>\n",
       "      <td>15.015062</td>\n",
       "      <td>15.02</td>\n",
       "      <td>PHI</td>\n",
       "      <td>PIT</td>\n",
       "      <td>PHI</td>\n",
       "    </tr>\n",
       "    <tr>\n",
       "      <th>...</th>\n",
       "      <td>...</td>\n",
       "      <td>...</td>\n",
       "      <td>...</td>\n",
       "      <td>...</td>\n",
       "      <td>...</td>\n",
       "      <td>...</td>\n",
       "    </tr>\n",
       "    <tr>\n",
       "      <th>250344</th>\n",
       "      <td>24.08</td>\n",
       "      <td>-11.323500</td>\n",
       "      <td>-11.32</td>\n",
       "      <td>S.J</td>\n",
       "      <td>ARI</td>\n",
       "      <td>S.J</td>\n",
       "    </tr>\n",
       "    <tr>\n",
       "      <th>250346</th>\n",
       "      <td>25.24</td>\n",
       "      <td>-10.163500</td>\n",
       "      <td>-10.16</td>\n",
       "      <td>S.J</td>\n",
       "      <td>ARI</td>\n",
       "      <td>S.J</td>\n",
       "    </tr>\n",
       "    <tr>\n",
       "      <th>250349</th>\n",
       "      <td>34.79</td>\n",
       "      <td>-0.613500</td>\n",
       "      <td>-0.61</td>\n",
       "      <td>S.J</td>\n",
       "      <td>ARI</td>\n",
       "      <td>ARI</td>\n",
       "    </tr>\n",
       "    <tr>\n",
       "      <th>250351</th>\n",
       "      <td>17.09</td>\n",
       "      <td>-18.313500</td>\n",
       "      <td>-18.31</td>\n",
       "      <td>S.J</td>\n",
       "      <td>ARI</td>\n",
       "      <td>ARI</td>\n",
       "    </tr>\n",
       "    <tr>\n",
       "      <th>250356</th>\n",
       "      <td>19.85</td>\n",
       "      <td>-15.553500</td>\n",
       "      <td>-15.55</td>\n",
       "      <td>S.J</td>\n",
       "      <td>ARI</td>\n",
       "      <td>ARI</td>\n",
       "    </tr>\n",
       "  </tbody>\n",
       "</table>\n",
       "<p>71759 rows × 6 columns</p>\n",
       "</div>"
      ],
      "text/plain": [
       "        event_distance   adj_dist  adj_dist_2 home_team away_team event_team\n",
       "1                32.65  -6.534938       -6.53       PHI       PIT        PHI\n",
       "4                47.17   7.985062        7.99       PHI       PIT        PIT\n",
       "7                48.27   9.085062        9.09       PHI       PIT        PHI\n",
       "19               60.31  21.125062       21.13       PHI       PIT        PIT\n",
       "22               54.20  15.015062       15.02       PHI       PIT        PHI\n",
       "...                ...        ...         ...       ...       ...        ...\n",
       "250344           24.08 -11.323500      -11.32       S.J       ARI        S.J\n",
       "250346           25.24 -10.163500      -10.16       S.J       ARI        S.J\n",
       "250349           34.79  -0.613500       -0.61       S.J       ARI        ARI\n",
       "250351           17.09 -18.313500      -18.31       S.J       ARI        ARI\n",
       "250356           19.85 -15.553500      -15.55       S.J       ARI        ARI\n",
       "\n",
       "[71759 rows x 6 columns]"
      ]
     },
     "execution_count": 31,
     "metadata": {},
     "output_type": "execute_result"
    }
   ],
   "source": [
    "df[['event_distance','adj_dist','adj_dist_2','home_team','away_team','event_team']]"
   ]
  },
  {
   "cell_type": "code",
   "execution_count": 29,
   "id": "358c1418",
   "metadata": {},
   "outputs": [],
   "source": [
    "df['adj_dist_2'] = df['event_distance'] - df['home_team'].map(adj_shot_dict)"
   ]
  },
  {
   "cell_type": "code",
   "execution_count": 32,
   "id": "8f2e174f",
   "metadata": {},
   "outputs": [],
   "source": [
    "import time\n",
    "import pandas as pd\n",
    "import xgboost as xgb\n",
    "from sklearn.model_selection import train_test_split\n",
    "from sklearn.metrics import log_loss"
   ]
  },
  {
   "cell_type": "code",
   "execution_count": null,
   "id": "9d24cee9",
   "metadata": {},
   "outputs": [],
   "source": [
    "X = .iloc[:,:-1].values\n",
    "y = .iloc[:,-1].values"
   ]
  }
 ],
 "metadata": {
  "kernelspec": {
   "display_name": "Python 3",
   "language": "python",
   "name": "python3"
  },
  "language_info": {
   "codemirror_mode": {
    "name": "ipython",
    "version": 3
   },
   "file_extension": ".py",
   "mimetype": "text/x-python",
   "name": "python",
   "nbconvert_exporter": "python",
   "pygments_lexer": "ipython3",
   "version": "3.8.8"
  }
 },
 "nbformat": 4,
 "nbformat_minor": 5
}
