{
 "cells": [
  {
   "cell_type": "code",
   "execution_count": 1,
   "id": "a63f17ac",
   "metadata": {},
   "outputs": [],
   "source": [
    "import pandas as pd\n",
    "import numpy as np\n",
    "import glob\n",
    "import requests"
   ]
  },
  {
   "cell_type": "code",
   "execution_count": 2,
   "id": "15d6d764",
   "metadata": {},
   "outputs": [
    {
     "name": "stdout",
     "output_type": "stream",
     "text": [
      "This ran for file data\\PBP\\Raw\\pbp_query_20102011.csv\n",
      "This ran for file data\\PBP\\Raw\\pbp_query_20112012.csv\n",
      "This ran for file data\\PBP\\Raw\\pbp_query_20122013.csv\n",
      "This ran for file data\\PBP\\Raw\\pbp_query_20132014.csv\n",
      "This ran for file data\\PBP\\Raw\\pbp_query_20142015.csv\n",
      "This ran for file data\\PBP\\Raw\\pbp_query_20152016.csv\n",
      "This ran for file data\\PBP\\Raw\\pbp_query_20162017.csv\n",
      "This ran for file data\\PBP\\Raw\\pbp_query_20172018.csv\n",
      "This ran for file data\\PBP\\Raw\\pbp_query_20182019.csv\n",
      "This ran for file data\\PBP\\Raw\\pbp_query_20192020.csv\n",
      "This ran for file data\\PBP\\Raw\\pbp_query_20202021.csv\n"
     ]
    }
   ],
   "source": [
    "files = glob.glob(\"data\\PBP\\Raw\\*.csv\")\n",
    "df_import = pd.DataFrame()\n",
    "for f in files:\n",
    "    csv = pd.read_csv(f,low_memory=False)\n",
    "    df_import = df_import.append(csv)\n",
    "    print(f'This ran for file {f}')"
   ]
  },
  {
   "cell_type": "code",
   "execution_count": 3,
   "id": "50a40f0f",
   "metadata": {},
   "outputs": [],
   "source": [
    "player_col = ['home_on_1','home_on_2','home_on_3','home_on_4','home_on_5','home_on_6','home_on_7',\n",
    "              'away_on_1','away_on_2','away_on_3','away_on_4','away_on_5','away_on_6','away_on_7']\n",
    "df_ = df_import[player_col].copy()"
   ]
  },
  {
   "cell_type": "code",
   "execution_count": 4,
   "id": "775c3951",
   "metadata": {},
   "outputs": [
    {
     "name": "stdout",
     "output_type": "stream",
     "text": [
      "finished with column home_on_1\n",
      "finished with column home_on_2\n",
      "finished with column home_on_3\n",
      "finished with column home_on_4\n",
      "finished with column home_on_5\n",
      "finished with column home_on_6\n",
      "finished with column home_on_7\n",
      "finished with column away_on_1\n",
      "finished with column away_on_2\n",
      "finished with column away_on_3\n",
      "finished with column away_on_4\n",
      "finished with column away_on_5\n",
      "finished with column away_on_6\n",
      "finished with column away_on_7\n"
     ]
    }
   ],
   "source": [
    "for col in df_.columns:\n",
    "    df_[col] = df_[col].str.replace('.',' ',regex=True).str.title()\n",
    "    print(f'finished with column {col}')"
   ]
  },
  {
   "cell_type": "code",
   "execution_count": 5,
   "id": "2cb3d2a5",
   "metadata": {},
   "outputs": [
    {
     "data": {
      "text/plain": [
       "1867"
      ]
     },
     "execution_count": 5,
     "metadata": {},
     "output_type": "execute_result"
    }
   ],
   "source": [
    "len(df_.away_on_5.unique())"
   ]
  },
  {
   "cell_type": "code",
   "execution_count": 11,
   "id": "57469459",
   "metadata": {},
   "outputs": [
    {
     "data": {
      "text/plain": [
       "2469"
      ]
     },
     "execution_count": 11,
     "metadata": {},
     "output_type": "execute_result"
    }
   ],
   "source": [
    "len(pd.unique(df_[player_col].values.ravel()))"
   ]
  },
  {
   "cell_type": "code",
   "execution_count": null,
   "id": "bdac587a",
   "metadata": {},
   "outputs": [],
   "source": [
    "#DO NOT RUN\n",
    "#DOES NOT WORK\n",
    "id_lst = []\n",
    "player_lst = []\n",
    "position_lst = []\n",
    "for i in range(1000000):\n",
    "    r = requests.get(url=f'https://statsapi.web.nhl.com/api/v1/people/{i}')\n",
    "    data = r.json()\n",
    "    id_lst.append(data_t['people'][0]['id'])\n",
    "    player_lst.append(data_t['people'][0]['fullName'])\n",
    "    position_lst.append(data_t['people'][0]['primaryPosition']['code'])"
   ]
  }
 ],
 "metadata": {
  "kernelspec": {
   "display_name": "Python 3",
   "language": "python",
   "name": "python3"
  },
  "language_info": {
   "codemirror_mode": {
    "name": "ipython",
    "version": 3
   },
   "file_extension": ".py",
   "mimetype": "text/x-python",
   "name": "python",
   "nbconvert_exporter": "python",
   "pygments_lexer": "ipython3",
   "version": "3.8.8"
  }
 },
 "nbformat": 4,
 "nbformat_minor": 5
}
