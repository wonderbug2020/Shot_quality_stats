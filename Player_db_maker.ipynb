{
 "cells": [
  {
   "cell_type": "code",
   "execution_count": 1,
   "id": "561aa408",
   "metadata": {},
   "outputs": [],
   "source": [
    "import pandas as pd\n",
    "import numpy as np\n",
    "import glob"
   ]
  },
  {
   "cell_type": "code",
   "execution_count": 2,
   "id": "5bda7bfb",
   "metadata": {},
   "outputs": [
    {
     "name": "stdout",
     "output_type": "stream",
     "text": [
      "This ran\n",
      "This ran\n",
      "This ran\n",
      "This ran\n",
      "This ran\n",
      "This ran\n",
      "This ran\n",
      "This ran\n",
      "This ran\n",
      "This ran\n",
      "This ran\n"
     ]
    }
   ],
   "source": [
    "files = glob.glob(\"data\\PBP\\Raw\\*.csv\")\n",
    "df_import = pd.DataFrame()\n",
    "for f in files:\n",
    "    csv = pd.read_csv(f,low_memory=False)\n",
    "    df_import = df_import.append(csv)\n",
    "    print(f'This ran for file {f}')"
   ]
  },
  {
   "cell_type": "code",
   "execution_count": 3,
   "id": "2e882fe1",
   "metadata": {},
   "outputs": [
    {
     "data": {
      "text/plain": [
       "(6898473, 56)"
      ]
     },
     "execution_count": 3,
     "metadata": {},
     "output_type": "execute_result"
    }
   ],
   "source": [
    "df_import.shape"
   ]
  },
  {
   "cell_type": "code",
   "execution_count": 4,
   "id": "a10da660",
   "metadata": {},
   "outputs": [
    {
     "data": {
      "text/plain": [
       "Index(['season', 'game_id', 'game_date', 'session', 'event_index',\n",
       "       'game_period', 'game_seconds', 'clock_time', 'event_type',\n",
       "       'event_description', 'event_detail', 'event_zone', 'event_team',\n",
       "       'event_player_1', 'event_player_2', 'event_player_3', 'event_length',\n",
       "       'coords_x', 'coords_y', 'num_on', 'num_off', 'players_on',\n",
       "       'players_off', 'home_on_1', 'home_on_2', 'home_on_3', 'home_on_4',\n",
       "       'home_on_5', 'home_on_6', 'home_on_7', 'away_on_1', 'away_on_2',\n",
       "       'away_on_3', 'away_on_4', 'away_on_5', 'away_on_6', 'away_on_7',\n",
       "       'home_goalie', 'away_goalie', 'home_team', 'away_team', 'home_skaters',\n",
       "       'away_skaters', 'home_score', 'away_score', 'game_score_state',\n",
       "       'game_strength_state', 'home_zone', 'pbp_distance', 'event_distance',\n",
       "       'event_angle', 'home_zonestart', 'face_index', 'pen_index',\n",
       "       'shift_index', 'pred_goal'],\n",
       "      dtype='object')"
      ]
     },
     "execution_count": 4,
     "metadata": {},
     "output_type": "execute_result"
    }
   ],
   "source": [
    "df_import.columns"
   ]
  },
  {
   "cell_type": "code",
   "execution_count": null,
   "id": "c5876186",
   "metadata": {},
   "outputs": [],
   "source": []
  }
 ],
 "metadata": {
  "kernelspec": {
   "display_name": "Python 3",
   "language": "python",
   "name": "python3"
  },
  "language_info": {
   "codemirror_mode": {
    "name": "ipython",
    "version": 3
   },
   "file_extension": ".py",
   "mimetype": "text/x-python",
   "name": "python",
   "nbconvert_exporter": "python",
   "pygments_lexer": "ipython3",
   "version": "3.8.8"
  }
 },
 "nbformat": 4,
 "nbformat_minor": 5
}
