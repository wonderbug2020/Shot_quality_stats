{
 "cells": [
  {
   "cell_type": "code",
   "execution_count": 2,
   "id": "cfefe2c0",
   "metadata": {},
   "outputs": [],
   "source": [
    "import pandas as pd\n",
    "import numpy as np\n",
    "import glob"
   ]
  },
  {
   "cell_type": "code",
   "execution_count": null,
   "id": "c33b0417",
   "metadata": {},
   "outputs": [],
   "source": [
    "files = glob.glob(\"data\\PBP\\ready_to_model\\*.csv\")\n",
    "df_import = pd.DataFrame()\n",
    "for f in files:\n",
    "    csv = pd.read_csv(f,low_memory=False)\n",
    "    df_import = df_import.append(csv)\n",
    "    print(f'This ran for file {f}')\n",
    "    print('ran')\n",
    "    \n",
    "print(\"I'm and idiot?\")"
   ]
  },
  {
   "cell_type": "code",
   "execution_count": 30,
   "id": "29d64c13",
   "metadata": {},
   "outputs": [
    {
     "name": "stdout",
     "output_type": "stream",
     "text": [
      "This ran for file data/PBP/ready_to_model\\10_11_pbp_cleaned.csv\n",
      "This ran for file data/PBP/ready_to_model\\11_12_pbp_cleaned.csv\n",
      "This ran for file data/PBP/ready_to_model\\12_13_pbp_cleaned.csv\n",
      "This ran for file data/PBP/ready_to_model\\13_14_pbp_cleaned.csv\n",
      "This ran for file data/PBP/ready_to_model\\14_15_pbp_cleaned.csv\n",
      "This ran for file data/PBP/ready_to_model\\15_16_pbp_cleaned.csv\n",
      "This ran for file data/PBP/ready_to_model\\16_17_pbp_cleaned.csv\n",
      "This ran for file data/PBP/ready_to_model\\17_18_pbp_cleaned.csv\n",
      "This ran for file data/PBP/ready_to_model\\18_19_pbp_cleaned.csv\n",
      "This ran for file data/PBP/ready_to_model\\19_20_pbp_cleaned.csv\n",
      "This ran for file data/PBP/ready_to_model\\20_21_pbp_cleaned.csv\n"
     ]
    }
   ],
   "source": [
    "files = glob.glob(\"data/PBP/ready_to_model/*.csv\")\n",
    "df_import = pd.DataFrame()\n",
    "for f in files:\n",
    "    csv = pd.read_csv(f,low_memory=False)\n",
    "    df_import = df_import.append(csv)\n",
    "    print(f'This ran for file {f}')"
   ]
  },
  {
   "cell_type": "code",
   "execution_count": 31,
   "id": "5c610fd3",
   "metadata": {},
   "outputs": [
    {
     "data": {
      "text/plain": [
       "Index(['Unnamed: 0', 'game_period', 'game_seconds', 'is_home', 'coords_x',\n",
       "       'coords_y', 'coords_x_last', 'coords_y_last', 'shot_distance',\n",
       "       'shot_angle', 'state_5v5', 'state_5v4', 'score_down_4', 'score_down_3',\n",
       "       'score_down_2', 'score_down_1', 'score_even', 'score_up_1',\n",
       "       'score_up_2', 'score_up_3', 'wrist_shot', 'seconds_since_last',\n",
       "       'deflected_shot', 'tip_shot', 'slap_shot', 'backhand_shot', 'snap_shot',\n",
       "       'prior_shot_same', 'prior_miss_same', 'prior_shot_opp',\n",
       "       'prior_miss_opp', 'prior_give_opp', 'prior_take_opp', 'prior_hit_opp',\n",
       "       'prior_face', 'state_5v3', 'score_up_4', 'wrap_shot',\n",
       "       'prior_block_same', 'prior_block_opp', 'prior_give_same',\n",
       "       'prior_take_same', 'prior_hit_same', 'is_goal'],\n",
       "      dtype='object')"
      ]
     },
     "execution_count": 31,
     "metadata": {},
     "output_type": "execute_result"
    }
   ],
   "source": [
    "df_import.columns"
   ]
  },
  {
   "cell_type": "code",
   "execution_count": null,
   "id": "bfe9062a",
   "metadata": {},
   "outputs": [],
   "source": []
  }
 ],
 "metadata": {
  "kernelspec": {
   "display_name": "Python 3",
   "language": "python",
   "name": "python3"
  },
  "language_info": {
   "codemirror_mode": {
    "name": "ipython",
    "version": 3
   },
   "file_extension": ".py",
   "mimetype": "text/x-python",
   "name": "python",
   "nbconvert_exporter": "python",
   "pygments_lexer": "ipython3",
   "version": "3.8.8"
  }
 },
 "nbformat": 4,
 "nbformat_minor": 5
}
