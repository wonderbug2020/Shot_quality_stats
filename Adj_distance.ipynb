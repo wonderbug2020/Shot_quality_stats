{
 "cells": [
  {
   "cell_type": "code",
   "execution_count": 1,
   "id": "636575f0",
   "metadata": {},
   "outputs": [],
   "source": [
    "import pandas as pd\n",
    "import numpy as np\n",
    "import glob"
   ]
  },
  {
   "cell_type": "code",
   "execution_count": 6,
   "id": "72366b05",
   "metadata": {},
   "outputs": [
    {
     "name": "stdout",
     "output_type": "stream",
     "text": [
      "I'm and idiot?\n"
     ]
    }
   ],
   "source": [
    "files = glob.glob(\"data\\PBP\\ready_to_model\\*.csv\")\n",
    "df_import = pd.DataFrame()\n",
    "for f in files:\n",
    "    csv = pd.read_csv(f,low_memory=False)\n",
    "    df_import = df_import.append(csv)\n",
    "    print(f'This ran for file {f}')\n",
    "    print('ran')\n",
    "    \n",
    "print(\"I'm and idiot?\")"
   ]
  },
  {
   "cell_type": "code",
   "execution_count": 7,
   "id": "52833e5f",
   "metadata": {},
   "outputs": [
    {
     "data": {
      "text/plain": [
       "[]"
      ]
     },
     "execution_count": 7,
     "metadata": {},
     "output_type": "execute_result"
    }
   ],
   "source": [
    "files"
   ]
  },
  {
   "cell_type": "code",
   "execution_count": 4,
   "id": "0d70cfb5",
   "metadata": {},
   "outputs": [
    {
     "name": "stdout",
     "output_type": "stream",
     "text": [
      "This ran for file data\\PBP\\Raw\\pbp_query_20102011.csv\n",
      "This ran for file data\\PBP\\Raw\\pbp_query_20112012.csv\n",
      "This ran for file data\\PBP\\Raw\\pbp_query_20122013.csv\n",
      "This ran for file data\\PBP\\Raw\\pbp_query_20132014.csv\n",
      "This ran for file data\\PBP\\Raw\\pbp_query_20142015.csv\n",
      "This ran for file data\\PBP\\Raw\\pbp_query_20152016.csv\n",
      "This ran for file data\\PBP\\Raw\\pbp_query_20162017.csv\n",
      "This ran for file data\\PBP\\Raw\\pbp_query_20172018.csv\n",
      "This ran for file data\\PBP\\Raw\\pbp_query_20182019.csv\n",
      "This ran for file data\\PBP\\Raw\\pbp_query_20192020.csv\n",
      "This ran for file data\\PBP\\Raw\\pbp_query_20202021.csv\n"
     ]
    }
   ],
   "source": [
    "files = glob.glob(\"data\\PBP\\Raw\\*.csv\")\n",
    "df_import = pd.DataFrame()\n",
    "for f in files:\n",
    "    csv = pd.read_csv(f,low_memory=False)\n",
    "    df_import = df_import.append(csv)\n",
    "    print(f'This ran for file {f}')"
   ]
  },
  {
   "cell_type": "code",
   "execution_count": 8,
   "id": "ad3b8ce6",
   "metadata": {},
   "outputs": [],
   "source": [
    "model_folder = glob.glob(\"data\\PBP\\ready_to_model\\*.csv\")\n",
    "raw_folder = glob.glob(\"data\\PBP\\Raw\\*.csv\")"
   ]
  },
  {
   "cell_type": "code",
   "execution_count": 9,
   "id": "903361c2",
   "metadata": {},
   "outputs": [
    {
     "data": {
      "text/plain": [
       "['data\\\\PBP\\\\Raw\\\\pbp_query_20102011.csv',\n",
       " 'data\\\\PBP\\\\Raw\\\\pbp_query_20112012.csv',\n",
       " 'data\\\\PBP\\\\Raw\\\\pbp_query_20122013.csv',\n",
       " 'data\\\\PBP\\\\Raw\\\\pbp_query_20132014.csv',\n",
       " 'data\\\\PBP\\\\Raw\\\\pbp_query_20142015.csv',\n",
       " 'data\\\\PBP\\\\Raw\\\\pbp_query_20152016.csv',\n",
       " 'data\\\\PBP\\\\Raw\\\\pbp_query_20162017.csv',\n",
       " 'data\\\\PBP\\\\Raw\\\\pbp_query_20172018.csv',\n",
       " 'data\\\\PBP\\\\Raw\\\\pbp_query_20182019.csv',\n",
       " 'data\\\\PBP\\\\Raw\\\\pbp_query_20192020.csv',\n",
       " 'data\\\\PBP\\\\Raw\\\\pbp_query_20202021.csv']"
      ]
     },
     "execution_count": 9,
     "metadata": {},
     "output_type": "execute_result"
    }
   ],
   "source": [
    "raw_folder"
   ]
  },
  {
   "cell_type": "code",
   "execution_count": 10,
   "id": "eb66663a",
   "metadata": {},
   "outputs": [
    {
     "data": {
      "text/plain": [
       "[]"
      ]
     },
     "execution_count": 10,
     "metadata": {},
     "output_type": "execute_result"
    }
   ],
   "source": [
    "model_folder"
   ]
  },
  {
   "cell_type": "code",
   "execution_count": null,
   "id": "497a2d07",
   "metadata": {},
   "outputs": [],
   "source": []
  }
 ],
 "metadata": {
  "kernelspec": {
   "display_name": "Python 3",
   "language": "python",
   "name": "python3"
  },
  "language_info": {
   "codemirror_mode": {
    "name": "ipython",
    "version": 3
   },
   "file_extension": ".py",
   "mimetype": "text/x-python",
   "name": "python",
   "nbconvert_exporter": "python",
   "pygments_lexer": "ipython3",
   "version": "3.8.8"
  }
 },
 "nbformat": 4,
 "nbformat_minor": 5
}
