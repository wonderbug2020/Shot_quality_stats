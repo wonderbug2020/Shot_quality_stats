{
 "cells": [
  {
   "cell_type": "code",
   "execution_count": 1,
   "id": "610c6d52",
   "metadata": {},
   "outputs": [],
   "source": [
    "#Libraries used\n",
    "import pandas as pd #for the data frame\n",
    "import numpy as np #used for filtering and some arithmatic. "
   ]
  },
  {
   "cell_type": "code",
   "execution_count": 2,
   "id": "e972627c",
   "metadata": {},
   "outputs": [],
   "source": [
    "#Import the data\n",
    "df_import = pd.read_csv('data/pbp/raw/pbp_query_20162017.csv',low_memory=False) "
   ]
  },
  {
   "cell_type": "code",
   "execution_count": 3,
   "id": "6e60b048",
   "metadata": {},
   "outputs": [],
   "source": [
    "#The first thing to do is reduce the number of columns then rows that won't be used\n",
    "df = df_import[['season', 'game_id', 'game_date', 'event_index', 'game_period',\n",
    "                'game_seconds', 'event_type', 'event_description', 'event_detail',\n",
    "                'event_team', 'coords_x', 'coords_y', 'home_team', 'away_team',\n",
    "                'home_score', 'away_score', 'game_strength_state', 'event_distance',\n",
    "                'event_angle']]\n",
    "even_strength = df.game_strength_state.isin(['5v5','4v4','3v3'])\n",
    "play_type     = df.event_type.isin(['FAC','SHOT','HIT','BLOCK','MISS','GIVE','TAKE','GOAL'])\n",
    "no_coords     = ~df.coords_x.isna()\n",
    "df            = df[even_strength & play_type & no_coords]"
   ]
  },
  {
   "cell_type": "code",
   "execution_count": 4,
   "id": "3390df0f",
   "metadata": {},
   "outputs": [],
   "source": [
    "#Flipping the x/y coordinates for away team in 1st/3rd period and Home 2nd period.\n",
    "#This makes sure that everything orients the same way. \n",
    "away_flip = (df.event_team == df.away_team) & (df.game_period.isin([1,3]))\n",
    "home_flip = (df.event_team == df.home_team) & (df.game_period == 2)\n",
    "home_cond = (df.logat == 1)\n",
    "#Come back to this\n",
    "df['x_flip'] = np.where((away_flip | home_flip) & home_cond ,-1*df.coords_x,df.coords_x)\n",
    "df['y_flip'] = np.where((away_flip | home_flip) & home_cond ,-1*df.coords_y,df.coords_y)\n",
    "df['x_flip'] = np.where((away_flip | home_flip) !& home_cond ,-1*df.coords_x,df.coords_x)\n",
    "df['y_flip'] = np.where((away_flip | home_flip) !& home_cond ,-1*df.coords_y,df.coords_y)\n",
    "#This moves the 0,0 point from center ice to the center of the goal on the red line\n",
    "df['x_goaline'] = df.x_flip + 89\n",
    "#How to get the distance\n",
    "df['new_distance'] = ((df['x_goaline']**2) + (df['y_flip']**2))**(1/2)"
   ]
  },
  {
   "cell_type": "code",
   "execution_count": 116,
   "id": "7c5cc159",
   "metadata": {},
   "outputs": [],
   "source": [
    "df['logat'] = np.where(df.game_id.isin(get_lst),1,0)"
   ]
  },
  {
   "cell_type": "code",
   "execution_count": null,
   "id": "fab38064",
   "metadata": {},
   "outputs": [],
   "source": []
  },
  {
   "cell_type": "code",
   "execution_count": 43,
   "id": "eb4f34ca",
   "metadata": {},
   "outputs": [],
   "source": [
    "check_lst = ['event_team','home_team','game_period','game_seconds',\n",
    "             'coords_x','coords_y','x_flip','y_flip','x_goaline',\n",
    "             'event_distance','new_distance','event_type','event_description']\n",
    "df_rc = df[check_lst].copy()\n",
    "df_rc['x_wtf_2'] = 89 - df.x_flip\n",
    "df_rc['x_wtf'] = df.x_goaline**2\n",
    "df_rc['y_wtf'] = df.y_flip\n",
    "df_rc['new_distance_2'] = ((df_rc['x_wtf_2']**2) + (df_rc['y_flip']**2))**(1/2)"
   ]
  },
  {
   "cell_type": "code",
   "execution_count": 53,
   "id": "f7177fc5",
   "metadata": {},
   "outputs": [],
   "source": [
    "#df_rc.sample(10)"
   ]
  },
  {
   "cell_type": "code",
   "execution_count": 71,
   "id": "52ba1702",
   "metadata": {},
   "outputs": [],
   "source": [
    "hometeam = df.event_team == df.home_team\n",
    "shots    = df.event_type == 'SHOT'\n",
    "first_period = df.game_period == 1\n",
    "df_1 = df[hometeam & shots & first_period]"
   ]
  },
  {
   "cell_type": "code",
   "execution_count": 89,
   "id": "8a245e30",
   "metadata": {},
   "outputs": [],
   "source": [
    "game_lst = []\n",
    "team_lst = []\n",
    "mean_lst = []\n",
    "for game in df_1.game_id.unique():\n",
    "    df_temp = df_1[df_1.game_id==game]\n",
    "    game_lst.append(game)\n",
    "    team_lst.append(df_temp.home_team.iloc[0])\n",
    "    mean_lst.append(df_temp.coords_x.mean())\n",
    "    \n",
    "new_df = pd.DataFrame(list(zip(game_lst,team_lst,mean_lst)),\n",
    "                      columns=['Game','Team','avg'])"
   ]
  },
  {
   "cell_type": "code",
   "execution_count": 113,
   "id": "4690ea56",
   "metadata": {},
   "outputs": [],
   "source": [
    "testing = new_df[new_df.avg > 0].Game.tolist()"
   ]
  },
  {
   "cell_type": "code",
   "execution_count": 111,
   "id": "da92111b",
   "metadata": {},
   "outputs": [],
   "source": [
    "get_lst = new_df_1.Game.tolist()"
   ]
  }
 ],
 "metadata": {
  "kernelspec": {
   "display_name": "Python 3",
   "language": "python",
   "name": "python3"
  },
  "language_info": {
   "codemirror_mode": {
    "name": "ipython",
    "version": 3
   },
   "file_extension": ".py",
   "mimetype": "text/x-python",
   "name": "python",
   "nbconvert_exporter": "python",
   "pygments_lexer": "ipython3",
   "version": "3.8.8"
  }
 },
 "nbformat": 4,
 "nbformat_minor": 5
}
