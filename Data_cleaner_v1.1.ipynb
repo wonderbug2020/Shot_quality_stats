{
 "cells": [
  {
   "cell_type": "code",
   "execution_count": 1,
   "id": "503b124a",
   "metadata": {},
   "outputs": [],
   "source": [
    "#Libraries used\n",
    "import pandas as pd #for the data frame\n",
    "import numpy as np #used for filtering and some arithmatic. "
   ]
  },
  {
   "cell_type": "code",
   "execution_count": 2,
   "id": "bdb5718f",
   "metadata": {},
   "outputs": [],
   "source": [
    "#Import the data\n",
    "df_import = pd.read_csv('data/pbp/raw/pbp_query_20162017.csv',low_memory=False) "
   ]
  },
  {
   "cell_type": "code",
   "execution_count": 3,
   "id": "18915f49",
   "metadata": {},
   "outputs": [],
   "source": [
    "#The first thing to do is reduce the number of columns then rows that won't be used\n",
    "df = df_import[['season', 'game_id', 'game_date', 'event_index', 'game_period',\n",
    "                'game_seconds', 'event_type', 'event_description', 'event_detail',\n",
    "                'event_team', 'coords_x', 'coords_y', 'home_team', 'away_team',\n",
    "                'home_score', 'away_score', 'game_strength_state', 'event_distance',\n",
    "                'event_angle']]\n",
    "even_strength = df.game_strength_state.isin(['5v5','4v4','3v3'])\n",
    "play_type     = df.event_type.isin(['FAC','SHOT','HIT','BLOCK','MISS','GIVE','TAKE','GOAL'])\n",
    "no_coords     = ~df.coords_x.isna()\n",
    "df            = df[even_strength & play_type & no_coords]"
   ]
  },
  {
   "cell_type": "code",
   "execution_count": 10,
   "id": "be507914",
   "metadata": {},
   "outputs": [],
   "source": [
    "df_rc = df[['coords_x','coords_y','event_distance','event_angle']].copy()"
   ]
  },
  {
   "cell_type": "code",
   "execution_count": 11,
   "id": "287f06b4",
   "metadata": {},
   "outputs": [],
   "source": [
    "df_rc['x_flip'] = 89 - abs(df_rc['coords_x'])"
   ]
  },
  {
   "cell_type": "code",
   "execution_count": 20,
   "id": "ff9d1f4e",
   "metadata": {},
   "outputs": [],
   "source": [
    "df_rc['x_act'] = round((df_rc.event_distance**2 - df_rc.coords_y**2)**(1/2),1)"
   ]
  },
  {
   "cell_type": "code",
   "execution_count": 21,
   "id": "7cb34c14",
   "metadata": {},
   "outputs": [
    {
     "data": {
      "text/html": [
       "<div>\n",
       "<style scoped>\n",
       "    .dataframe tbody tr th:only-of-type {\n",
       "        vertical-align: middle;\n",
       "    }\n",
       "\n",
       "    .dataframe tbody tr th {\n",
       "        vertical-align: top;\n",
       "    }\n",
       "\n",
       "    .dataframe thead th {\n",
       "        text-align: right;\n",
       "    }\n",
       "</style>\n",
       "<table border=\"1\" class=\"dataframe\">\n",
       "  <thead>\n",
       "    <tr style=\"text-align: right;\">\n",
       "      <th></th>\n",
       "      <th>coords_x</th>\n",
       "      <th>coords_y</th>\n",
       "      <th>event_distance</th>\n",
       "      <th>event_angle</th>\n",
       "      <th>x_flip</th>\n",
       "      <th>x_act</th>\n",
       "    </tr>\n",
       "  </thead>\n",
       "  <tbody>\n",
       "    <tr>\n",
       "      <th>0</th>\n",
       "      <td>0.0</td>\n",
       "      <td>0.0</td>\n",
       "      <td>89.00</td>\n",
       "      <td>0.00</td>\n",
       "      <td>89.0</td>\n",
       "      <td>89.0</td>\n",
       "    </tr>\n",
       "    <tr>\n",
       "      <th>2</th>\n",
       "      <td>69.0</td>\n",
       "      <td>22.0</td>\n",
       "      <td>29.73</td>\n",
       "      <td>47.73</td>\n",
       "      <td>20.0</td>\n",
       "      <td>20.0</td>\n",
       "    </tr>\n",
       "    <tr>\n",
       "      <th>3</th>\n",
       "      <td>-81.0</td>\n",
       "      <td>38.0</td>\n",
       "      <td>38.83</td>\n",
       "      <td>78.11</td>\n",
       "      <td>8.0</td>\n",
       "      <td>8.0</td>\n",
       "    </tr>\n",
       "    <tr>\n",
       "      <th>4</th>\n",
       "      <td>-43.0</td>\n",
       "      <td>23.0</td>\n",
       "      <td>51.43</td>\n",
       "      <td>26.57</td>\n",
       "      <td>46.0</td>\n",
       "      <td>46.0</td>\n",
       "    </tr>\n",
       "    <tr>\n",
       "      <th>5</th>\n",
       "      <td>-61.0</td>\n",
       "      <td>11.0</td>\n",
       "      <td>30.08</td>\n",
       "      <td>21.45</td>\n",
       "      <td>28.0</td>\n",
       "      <td>28.0</td>\n",
       "    </tr>\n",
       "    <tr>\n",
       "      <th>...</th>\n",
       "      <td>...</td>\n",
       "      <td>...</td>\n",
       "      <td>...</td>\n",
       "      <td>...</td>\n",
       "      <td>...</td>\n",
       "      <td>...</td>\n",
       "    </tr>\n",
       "    <tr>\n",
       "      <th>372737</th>\n",
       "      <td>93.0</td>\n",
       "      <td>8.0</td>\n",
       "      <td>8.94</td>\n",
       "      <td>63.43</td>\n",
       "      <td>-4.0</td>\n",
       "      <td>4.0</td>\n",
       "    </tr>\n",
       "    <tr>\n",
       "      <th>372738</th>\n",
       "      <td>68.0</td>\n",
       "      <td>19.0</td>\n",
       "      <td>28.32</td>\n",
       "      <td>42.14</td>\n",
       "      <td>21.0</td>\n",
       "      <td>21.0</td>\n",
       "    </tr>\n",
       "    <tr>\n",
       "      <th>372740</th>\n",
       "      <td>69.0</td>\n",
       "      <td>22.0</td>\n",
       "      <td>29.73</td>\n",
       "      <td>47.73</td>\n",
       "      <td>20.0</td>\n",
       "      <td>20.0</td>\n",
       "    </tr>\n",
       "    <tr>\n",
       "      <th>372741</th>\n",
       "      <td>47.0</td>\n",
       "      <td>-3.0</td>\n",
       "      <td>42.11</td>\n",
       "      <td>4.09</td>\n",
       "      <td>42.0</td>\n",
       "      <td>42.0</td>\n",
       "    </tr>\n",
       "    <tr>\n",
       "      <th>372743</th>\n",
       "      <td>69.0</td>\n",
       "      <td>22.0</td>\n",
       "      <td>29.73</td>\n",
       "      <td>47.73</td>\n",
       "      <td>20.0</td>\n",
       "      <td>20.0</td>\n",
       "    </tr>\n",
       "  </tbody>\n",
       "</table>\n",
       "<p>254367 rows × 6 columns</p>\n",
       "</div>"
      ],
      "text/plain": [
       "        coords_x  coords_y  event_distance  event_angle  x_flip  x_act\n",
       "0            0.0       0.0           89.00         0.00    89.0   89.0\n",
       "2           69.0      22.0           29.73        47.73    20.0   20.0\n",
       "3          -81.0      38.0           38.83        78.11     8.0    8.0\n",
       "4          -43.0      23.0           51.43        26.57    46.0   46.0\n",
       "5          -61.0      11.0           30.08        21.45    28.0   28.0\n",
       "...          ...       ...             ...          ...     ...    ...\n",
       "372737      93.0       8.0            8.94        63.43    -4.0    4.0\n",
       "372738      68.0      19.0           28.32        42.14    21.0   21.0\n",
       "372740      69.0      22.0           29.73        47.73    20.0   20.0\n",
       "372741      47.0      -3.0           42.11         4.09    42.0   42.0\n",
       "372743      69.0      22.0           29.73        47.73    20.0   20.0\n",
       "\n",
       "[254367 rows x 6 columns]"
      ]
     },
     "execution_count": 21,
     "metadata": {},
     "output_type": "execute_result"
    }
   ],
   "source": [
    "df_rc"
   ]
  },
  {
   "cell_type": "code",
   "execution_count": 23,
   "id": "86e5930b",
   "metadata": {},
   "outputs": [],
   "source": [
    "df_rc['check'] = np.where(df_rc.x_flip == df_rc.x_act,1,0)"
   ]
  },
  {
   "cell_type": "code",
   "execution_count": 25,
   "id": "1bb4c891",
   "metadata": {},
   "outputs": [
    {
     "data": {
      "text/plain": [
       "226019"
      ]
     },
     "execution_count": 25,
     "metadata": {},
     "output_type": "execute_result"
    }
   ],
   "source": [
    "df_rc.check.sum()"
   ]
  },
  {
   "cell_type": "code",
   "execution_count": 26,
   "id": "eed139a5",
   "metadata": {},
   "outputs": [
    {
     "data": {
      "text/plain": [
       "(254367, 7)"
      ]
     },
     "execution_count": 26,
     "metadata": {},
     "output_type": "execute_result"
    }
   ],
   "source": [
    "df_rc.shape"
   ]
  },
  {
   "cell_type": "code",
   "execution_count": null,
   "id": "0419f7fe",
   "metadata": {},
   "outputs": [],
   "source": []
  }
 ],
 "metadata": {
  "kernelspec": {
   "display_name": "Python 3",
   "language": "python",
   "name": "python3"
  },
  "language_info": {
   "codemirror_mode": {
    "name": "ipython",
    "version": 3
   },
   "file_extension": ".py",
   "mimetype": "text/x-python",
   "name": "python",
   "nbconvert_exporter": "python",
   "pygments_lexer": "ipython3",
   "version": "3.8.8"
  }
 },
 "nbformat": 4,
 "nbformat_minor": 5
}
