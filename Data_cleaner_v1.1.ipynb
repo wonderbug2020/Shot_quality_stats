{
 "cells": [
  {
   "cell_type": "code",
   "execution_count": 1,
   "id": "01505ec9",
   "metadata": {},
   "outputs": [],
   "source": [
    "#Libraries used\n",
    "import pandas as pd #for the data frame\n",
    "import numpy as np #used for filtering and some arithmatic. "
   ]
  },
  {
   "cell_type": "code",
   "execution_count": null,
   "id": "dac5962a",
   "metadata": {},
   "outputs": [],
   "source": []
  }
 ],
 "metadata": {
  "kernelspec": {
   "display_name": "Python 3",
   "language": "python",
   "name": "python3"
  },
  "language_info": {
   "codemirror_mode": {
    "name": "ipython",
    "version": 3
   },
   "file_extension": ".py",
   "mimetype": "text/x-python",
   "name": "python",
   "nbconvert_exporter": "python",
   "pygments_lexer": "ipython3",
   "version": "3.8.8"
  }
 },
 "nbformat": 4,
 "nbformat_minor": 5
}
