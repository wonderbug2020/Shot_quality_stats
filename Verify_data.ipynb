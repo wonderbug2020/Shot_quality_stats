{
 "cells": [
  {
   "cell_type": "markdown",
   "id": "1d0e1a1e",
   "metadata": {},
   "source": [
    "# Overview\n",
    "This is going to be a notebook for verifing that the pbp data is correct and contains all the data"
   ]
  },
  {
   "cell_type": "code",
   "execution_count": 1,
   "id": "c1512d6d",
   "metadata": {},
   "outputs": [],
   "source": [
    "import pandas as pd\n",
    "\n",
    "def out_put(season):\n",
    "    \n",
    "    def load_data(season):\n",
    "        ''' This function will take a season as an input. \n",
    "            This will be the last 2 numbers of the year that playoffs are in\n",
    "            For example the 2018-2019 season will take 19 as the parameter.\n",
    "        '''\n",
    "        #Import the data from moneypuck\n",
    "        df_mp = pd.read_csv(f'data/pbp/mp_data/shots_20{season-1}.csv')\n",
    "        #Import the season schedule data\n",
    "        df_season = pd.read_csv(f'data/pbp/schedule/{season-1}_{season}_schedule.csv')\n",
    "        #Import the raw PBP data\n",
    "        df_pbp = pd.read_csv(f'data/pbp/raw/pbp_query_20{season-1}20{season}.csv',low_memory=False)\n",
    "\n",
    "        return df_mp, df_season, df_pbp\n",
    "\n",
    "    def check_game_number(df_1,df_2):\n",
    "        ''' This is the first check function. \n",
    "            It takes in the season and pbp dataframes\n",
    "            Then it makes sure that there is a unique game id for all the games in that particular season\n",
    "        '''\n",
    "        sch_games = df_1.shape[0]\n",
    "        pbp_games = df_2.game_id.nunique()\n",
    "        print(f\"There are {sch_games} scheduled games and records for {pbp_games} games\")\n",
    "\n",
    "    def check_event_number(df_1,df_2):\n",
    "        ''' This functions checks to make sure there are the correct number of shot events\n",
    "            It uses the total from the money puck as a comparison. \n",
    "        '''\n",
    "        mp_events = df_1.event.value_counts().sum()\n",
    "        pbp_events = df_2[df_2.event_type.isin(['GOAL','SHOT','MISS'])].shape[0]\n",
    "        print(f'Money puck has {mp_events} events and pbp has {pbp_events}')\n",
    "        if mp_events != pbp_events:\n",
    "            percent = round(((mp_events-pbp_events)/mp_events)*100, 2)\n",
    "            print(f'There are {percent}% fewer events than expected')\n",
    "        \n",
    "    df_mp, df_season, df_pbp = load_data(season)\n",
    "    print(f'For the 20{season-1}-20{season}')\n",
    "    check_game_number(df_season,df_pbp)\n",
    "    check_event_number(df_mp,df_pbp)\n",
    "    print('-----------------------------------')"
   ]
  },
  {
   "cell_type": "code",
   "execution_count": 2,
   "id": "38a3c097",
   "metadata": {},
   "outputs": [
    {
     "name": "stdout",
     "output_type": "stream",
     "text": [
      "For the 2014-2015\n",
      "There are 1230 scheduled games and records for 1230 games\n",
      "Money puck has 109627 events and pbp has 103413\n",
      "There are 5.67% fewer events than expected\n",
      "-----------------------------------\n",
      "For the 2015-2016\n",
      "There are 1230 scheduled games and records for 1230 games\n",
      "Money puck has 109461 events and pbp has 102427\n",
      "There are 6.43% fewer events than expected\n",
      "-----------------------------------\n",
      "For the 2016-2017\n",
      "There are 1230 scheduled games and records for 1230 games\n",
      "Money puck has 110953 events and pbp has 104088\n",
      "There are 6.19% fewer events than expected\n",
      "-----------------------------------\n",
      "For the 2017-2018\n",
      "There are 1271 scheduled games and records for 1271 games\n",
      "Money puck has 119715 events and pbp has 113070\n",
      "There are 5.55% fewer events than expected\n",
      "-----------------------------------\n",
      "For the 2018-2019\n",
      "There are 1271 scheduled games and records for 1271 games\n",
      "Money puck has 117622 events and pbp has 110870\n",
      "There are 5.74% fewer events than expected\n",
      "-----------------------------------\n",
      "For the 2019-2020\n",
      "There are 1082 scheduled games and records for 1082 games\n",
      "Money puck has 104172 events and pbp has 93761\n",
      "There are 9.99% fewer events than expected\n",
      "-----------------------------------\n",
      "For the 2020-2021\n",
      "There are 868 scheduled games and records for 868 games\n",
      "Money puck has 78611 events and pbp has 71759\n",
      "There are 8.72% fewer events than expected\n",
      "-----------------------------------\n"
     ]
    }
   ],
   "source": [
    "ses_lst = [15,16,17,18,19,20,21]\n",
    "for num in ses_lst:\n",
    "    out_put(num)"
   ]
  }
 ],
 "metadata": {
  "kernelspec": {
   "display_name": "Python 3",
   "language": "python",
   "name": "python3"
  },
  "language_info": {
   "codemirror_mode": {
    "name": "ipython",
    "version": 3
   },
   "file_extension": ".py",
   "mimetype": "text/x-python",
   "name": "python",
   "nbconvert_exporter": "python",
   "pygments_lexer": "ipython3",
   "version": "3.8.8"
  }
 },
 "nbformat": 4,
 "nbformat_minor": 5
}
