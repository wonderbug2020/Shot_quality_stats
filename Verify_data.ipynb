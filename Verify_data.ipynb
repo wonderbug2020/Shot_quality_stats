{
 "cells": [
  {
   "cell_type": "markdown",
   "id": "ad8b9547",
   "metadata": {},
   "source": [
    "# Overview\n",
    "This is going to be a notebook for verifing that the pbp data is correct and contains all the data"
   ]
  },
  {
   "cell_type": "code",
   "execution_count": 1,
   "id": "9cc29501",
   "metadata": {},
   "outputs": [],
   "source": [
    "import pandas as pd"
   ]
  },
  {
   "cell_type": "code",
   "execution_count": 21,
   "id": "224b3ac6",
   "metadata": {},
   "outputs": [],
   "source": [
    "def load_data(season):\n",
    "    '''This function will take a season as an input. \n",
    "       This will be the last 2 numbers of the year that playoffs are in\n",
    "       For example the 2018-2019 season will take 19 as the parameter.\n",
    "    '''\n",
    "    #Import the data from moneypuck\n",
    "    df_mp = pd.read_csv(f'data/pbp/mp_data/shots_20{season-1}.csv')\n",
    "    #Import the season schedule data\n",
    "    df_sea = pd.read_csv(f'data/pbp/schedule/{season-1}_{season}_schedule.csv')\n",
    "    #Import the raw PBP data\n",
    "    df_pbp = pd.read_csv(f'data/pbp/raw/pbp_query_20{season-1}20{season}.csv',low_memory=False)\n",
    "    \n",
    "    return df_mp, df_sea, df_pbp"
   ]
  },
  {
   "cell_type": "code",
   "execution_count": null,
   "id": "2b37a37e",
   "metadata": {},
   "outputs": [],
   "source": [
    "#With the data loaded in, the first step is to make sure every game is present\n",
    "sch_games = df_season.shape[0]\n",
    "pbp_games = df_pbp.game_id.nunique()\n",
    "if sch_games != pnp_games():\n",
    "    print(f\"There are {sch_games} scheduled games and records for {pbp_games}\")"
   ]
  },
  {
   "cell_type": "code",
   "execution_count": 22,
   "id": "e691f035",
   "metadata": {},
   "outputs": [],
   "source": [
    "df_mp, df_season, df_pbp = load_data(19)"
   ]
  },
  {
   "cell_type": "code",
   "execution_count": null,
   "id": "5b417f20",
   "metadata": {},
   "outputs": [],
   "source": []
  },
  {
   "cell_type": "code",
   "execution_count": 26,
   "id": "83907629",
   "metadata": {},
   "outputs": [
    {
     "data": {
      "text/plain": [
       "1271"
      ]
     },
     "execution_count": 26,
     "metadata": {},
     "output_type": "execute_result"
    }
   ],
   "source": [
    "df_pbp.game_id.nunique()"
   ]
  },
  {
   "cell_type": "code",
   "execution_count": 16,
   "id": "61e0d15b",
   "metadata": {},
   "outputs": [
    {
     "data": {
      "text/plain": [
       "1271"
      ]
     },
     "execution_count": 16,
     "metadata": {},
     "output_type": "execute_result"
    }
   ],
   "source": [
    "df_season.shape[0]"
   ]
  },
  {
   "cell_type": "code",
   "execution_count": 10,
   "id": "f9d32e9d",
   "metadata": {},
   "outputs": [
    {
     "data": {
      "text/plain": [
       "SHOT    77233\n",
       "MISS    32356\n",
       "GOAL     8033\n",
       "Name: event, dtype: int64"
      ]
     },
     "execution_count": 10,
     "metadata": {},
     "output_type": "execute_result"
    }
   ],
   "source": [
    "df_mp.event.value_counts()"
   ]
  },
  {
   "cell_type": "code",
   "execution_count": 11,
   "id": "96c1b57d",
   "metadata": {},
   "outputs": [
    {
     "data": {
      "text/plain": [
       "117622"
      ]
     },
     "execution_count": 11,
     "metadata": {},
     "output_type": "execute_result"
    }
   ],
   "source": [
    "df_mp.event.value_counts().sum()"
   ]
  }
 ],
 "metadata": {
  "kernelspec": {
   "display_name": "Python 3",
   "language": "python",
   "name": "python3"
  },
  "language_info": {
   "codemirror_mode": {
    "name": "ipython",
    "version": 3
   },
   "file_extension": ".py",
   "mimetype": "text/x-python",
   "name": "python",
   "nbconvert_exporter": "python",
   "pygments_lexer": "ipython3",
   "version": "3.8.8"
  }
 },
 "nbformat": 4,
 "nbformat_minor": 5
}
