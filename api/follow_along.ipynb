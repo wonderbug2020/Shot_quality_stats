{
 "cells": [
  {
   "cell_type": "code",
   "execution_count": 1,
   "id": "72cee3eb",
   "metadata": {},
   "outputs": [],
   "source": [
    "import requests\n",
    "import pickle\n",
    "# Set up the API call variables\n",
    "game_data = []\n",
    "year = '2019'\n",
    "season_type = '02' \n",
    "max_game_ID = 1290"
   ]
  },
  {
   "cell_type": "code",
   "execution_count": 2,
   "id": "6d926b72",
   "metadata": {},
   "outputs": [],
   "source": [
    "# Loop over the counter and format the API call\n",
    "for i in range(0,max_game_ID):\n",
    "    r = requests.get(url='http://statsapi.web.nhl.com/api/v1/game/'\n",
    "        + year + season_type +str(i).zfill(4)+'/feed/live')\n",
    "    data = r.json()\n",
    "    game_data.append(data)"
   ]
  },
  {
   "cell_type": "code",
   "execution_count": 3,
   "id": "96f1de90",
   "metadata": {},
   "outputs": [],
   "source": [
    "with open('./'+year+'FullDataset.pkl', 'wb') as f:\n",
    "    pickle.dump(game_data, f, pickle.HIGHEST_PROTOCOL)"
   ]
  },
  {
   "cell_type": "code",
   "execution_count": 4,
   "id": "6fa7c087",
   "metadata": {},
   "outputs": [],
   "source": [
    "import numpy as np \n",
    "import pandas as pd \n",
    "import pickle    \n",
    "import matplotlib\n",
    "import matplotlib.pyplot as plt\n",
    "color_map = plt.cm.winter\n",
    "from matplotlib.patches import RegularPolygon\n",
    "import math\n",
    "from PIL import Image\n",
    "# Needed for custom colour mapping!\n",
    "from matplotlib.colors import ListedColormap,LinearSegmentedColormap\n",
    "import matplotlib.colors as mcolors"
   ]
  },
  {
   "cell_type": "code",
   "execution_count": 11,
   "id": "5bc1604f",
   "metadata": {},
   "outputs": [],
   "source": [
    "#c = mcolors.ColorConverter().to_rgb()\n",
    "#positive_cm = ListedColormap([c('#e1e5e5'),c('#d63b36')])\n",
    "#negative_cm = ListedColormap([c('#e1e5e5'),c('#28aee4')]) "
   ]
  },
  {
   "cell_type": "code",
   "execution_count": 14,
   "id": "ded5e0d2",
   "metadata": {},
   "outputs": [],
   "source": [
    "with open('2019FullDataset.pkl', 'rb') as f:\n",
    "    game_data = pickle.load(f)"
   ]
  },
  {
   "cell_type": "code",
   "execution_count": 15,
   "id": "2add7b57",
   "metadata": {},
   "outputs": [],
   "source": [
    "# Do some dictionary initialisation to hold our cleaned and condensed league data\n",
    "league_data = {};\n",
    "league_data['Shot'] = {};\n",
    "league_data['Shot']['x'] = [];\n",
    "league_data['Shot']['y'] = [];\n",
    "league_data['Goal'] = {};\n",
    "league_data['Goal']['x'] = [];\n",
    "league_data['Goal']['y'] = [];"
   ]
  },
  {
   "cell_type": "code",
   "execution_count": 16,
   "id": "866239e3",
   "metadata": {},
   "outputs": [],
   "source": [
    "event_types = ['Shot','Goal']"
   ]
  },
  {
   "cell_type": "code",
   "execution_count": 34,
   "id": "ed7ef9dc",
   "metadata": {},
   "outputs": [],
   "source": [
    "for data in game_data:\n",
    "    if 'liveData' not in data:\n",
    "        continue\n",
    "        \n",
    "    plays = data['liveData']['plays']['allPlays'] \n",
    "    for play in plays: # For each play\n",
    "         for event in event_types:  # For each event (Shot,Goal)\n",
    "                if play['result']['event'] in [event]: \n",
    "                    if 'x' in play['coordinates']:\n",
    "                        league_data[event]['x'].append(play['coordinates']['x'])\n",
    "                        league_data[event]['y'].append(play['coordinates']['y'])"
   ]
  },
  {
   "cell_type": "code",
   "execution_count": 36,
   "id": "2d2bed46",
   "metadata": {},
   "outputs": [],
   "source": [
    "# Initialise the player dictionary\n",
    "full_name = 'Alex Ovechkin'\n",
    "player_data = {};\n",
    "player_data['Shot'] = {};\n",
    "player_data['Shot']['x'] = [];\n",
    "player_data['Shot']['y'] = [];\n",
    "player_data['Goal'] = {};\n",
    "player_data['Goal']['x'] = [];\n",
    "player_data['Goal']['y'] = [];"
   ]
  },
  {
   "cell_type": "code",
   "execution_count": 38,
   "id": "3b51d693",
   "metadata": {},
   "outputs": [],
   "source": [
    "for play in plays:\n",
    "    if 'players' in play:\n",
    "        for player in play['players']:\n",
    "            if player['player']['fullName'] in [full_name] and player['playerType'] in [\"Shooter\",\"Scorer\"]:\n",
    "                for event in event_types:\n",
    "                    if play['result']['event'] in [event]: \n",
    "                        if 'x' in play['coordinates']:\n",
    "                            league_data[event]['x'].append(play['coordinates']['x'])\n",
    "                            league_data[event]['y'].append(play['coordinates']['y'])"
   ]
  },
  {
   "cell_type": "code",
   "execution_count": null,
   "id": "47e5e90f",
   "metadata": {},
   "outputs": [],
   "source": []
  },
  {
   "cell_type": "code",
   "execution_count": null,
   "id": "b67bcaff",
   "metadata": {},
   "outputs": [],
   "source": []
  },
  {
   "cell_type": "code",
   "execution_count": null,
   "id": "079a662b",
   "metadata": {},
   "outputs": [],
   "source": []
  }
 ],
 "metadata": {
  "kernelspec": {
   "display_name": "Python 3",
   "language": "python",
   "name": "python3"
  },
  "language_info": {
   "codemirror_mode": {
    "name": "ipython",
    "version": 3
   },
   "file_extension": ".py",
   "mimetype": "text/x-python",
   "name": "python",
   "nbconvert_exporter": "python",
   "pygments_lexer": "ipython3",
   "version": "3.8.8"
  }
 },
 "nbformat": 4,
 "nbformat_minor": 5
}
