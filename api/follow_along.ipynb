{
 "cells": [
  {
   "cell_type": "code",
   "execution_count": 1,
   "id": "0e1d474a",
   "metadata": {},
   "outputs": [],
   "source": [
    "import requests\n",
    "import pickle\n",
    "# Set up the API call variables\n",
    "game_data = []\n",
    "year = '2019'\n",
    "season_type = '02' \n",
    "max_game_ID = 1290"
   ]
  },
  {
   "cell_type": "code",
   "execution_count": 2,
   "id": "61541857",
   "metadata": {},
   "outputs": [],
   "source": [
    "# Loop over the counter and format the API call\n",
    "for i in range(0,max_game_ID):\n",
    "    r = requests.get(url='http://statsapi.web.nhl.com/api/v1/game/'\n",
    "        + year + season_type +str(i).zfill(4)+'/feed/live')\n",
    "    data = r.json()\n",
    "    game_data.append(data)"
   ]
  },
  {
   "cell_type": "code",
   "execution_count": 3,
   "id": "3dc9f12a",
   "metadata": {},
   "outputs": [],
   "source": [
    "with open('./'+year+'FullDataset.pkl', 'wb') as f:\n",
    "    pickle.dump(game_data, f, pickle.HIGHEST_PROTOCOL)"
   ]
  },
  {
   "cell_type": "code",
   "execution_count": null,
   "id": "47c0cc83",
   "metadata": {},
   "outputs": [],
   "source": []
  }
 ],
 "metadata": {
  "kernelspec": {
   "display_name": "Python 3",
   "language": "python",
   "name": "python3"
  },
  "language_info": {
   "codemirror_mode": {
    "name": "ipython",
    "version": 3
   },
   "file_extension": ".py",
   "mimetype": "text/x-python",
   "name": "python",
   "nbconvert_exporter": "python",
   "pygments_lexer": "ipython3",
   "version": "3.8.8"
  }
 },
 "nbformat": 4,
 "nbformat_minor": 5
}
