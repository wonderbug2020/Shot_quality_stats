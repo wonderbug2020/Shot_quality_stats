{
 "cells": [
  {
   "cell_type": "code",
   "execution_count": 1,
   "id": "c6e15ded",
   "metadata": {},
   "outputs": [],
   "source": [
    "#used to import data\n",
    "import pandas as pd\n",
    "#Evaluates the model\n",
    "from sklearn.metrics import log_loss\n",
    "import time #just used to see how long the model takes to run\n",
    "from pytorch_tabnet.tab_model import TabNetRegressor\n",
    "\n",
    "from sklearn.model_selection import train_test_split"
   ]
  },
  {
   "cell_type": "code",
   "execution_count": 2,
   "id": "401daf57",
   "metadata": {},
   "outputs": [],
   "source": [
    "df_11 = pd.read_csv('data/pbp/ready_to_model/10_11_pbp_cleaned.csv')\n",
    "df_12 = pd.read_csv('data/pbp/ready_to_model/11_12_pbp_cleaned.csv')\n",
    "df_13 = pd.read_csv('data/pbp/ready_to_model/12_13_pbp_cleaned.csv')\n",
    "df_14 = pd.read_csv('data/pbp/ready_to_model/13_14_pbp_cleaned.csv')\n",
    "df_15 = pd.read_csv('data/pbp/ready_to_model/14_15_pbp_cleaned.csv')\n",
    "df_16 = pd.read_csv('data/pbp/ready_to_model/15_16_pbp_cleaned.csv')\n",
    "df_17 = pd.read_csv('data/pbp/ready_to_model/16_17_pbp_cleaned.csv')\n",
    "df_18 = pd.read_csv('data/pbp/ready_to_model/17_18_pbp_cleaned.csv')\n",
    "df_19 = pd.read_csv('data/pbp/ready_to_model/18_19_pbp_cleaned.csv')\n",
    "df_20 = pd.read_csv('data/pbp/ready_to_model/19_20_pbp_cleaned.csv')\n",
    "df_21 = pd.read_csv('data/pbp/ready_to_model/20_21_pbp_cleaned.csv')\n",
    "df = pd.concat([df_11,df_12,df_13,df_14,df_15,df_16,df_17,df_18,df_19,df_20,df_21])"
   ]
  },
  {
   "cell_type": "code",
   "execution_count": 3,
   "id": "9f2a492e",
   "metadata": {},
   "outputs": [],
   "source": [
    "def get_X_y(df):\n",
    "    ''' This function takes in a dataframe and splits it into the X and y variables\n",
    "    '''\n",
    "    X = df.drop(['is_goal'], axis=1).to_numpy()\n",
    "    y = df.is_goal.to_numpy()\n",
    "    \n",
    "    return X,y\n",
    "\n",
    "X,y = get_X_y(df)\n",
    "\n",
    "X_train, X_test, y_train, y_test = train_test_split(X, y, test_size=0.30, random_state=101)\n",
    "X_test, X_val, y_test, y_val = train_test_split(X_test, y_test, test_size=0.50, random_state=101)\n",
    "\n",
    "#X_train.values\n",
    "y_train = y_train.reshape(-1,1)\n",
    "y_val = y_val.reshape(-1,1)\n",
    "y_test = y_test.reshape(-1,1)"
   ]
  },
  {
   "cell_type": "code",
   "execution_count": 6,
   "id": "6344fda5",
   "metadata": {},
   "outputs": [
    {
     "name": "stdout",
     "output_type": "stream",
     "text": [
      "Device used : cpu\n",
      "epoch 0  | loss: 0.0581  | train_logloss: 0.21453 | val_logloss: 0.2143  |  0:00:51s\n",
      "epoch 1  | loss: 0.05286 | train_logloss: 0.20298 | val_logloss: 0.20173 |  0:01:42s\n",
      "epoch 2  | loss: 0.05187 | train_logloss: 0.20152 | val_logloss: 0.20008 |  0:02:32s\n",
      "epoch 3  | loss: 0.0515  | train_logloss: 0.19689 | val_logloss: 0.19617 |  0:03:22s\n",
      "epoch 4  | loss: 0.05129 | train_logloss: 0.1965  | val_logloss: 0.1958  |  0:04:13s\n",
      "epoch 5  | loss: 0.05123 | train_logloss: 0.19855 | val_logloss: 0.19686 |  0:05:03s\n",
      "epoch 6  | loss: 0.05115 | train_logloss: 0.19781 | val_logloss: 0.19739 |  0:05:53s\n",
      "epoch 7  | loss: 0.05113 | train_logloss: 0.19598 | val_logloss: 0.19515 |  0:06:43s\n",
      "epoch 8  | loss: 0.05126 | train_logloss: 0.19651 | val_logloss: 0.19592 |  0:07:32s\n",
      "epoch 9  | loss: 0.05114 | train_logloss: 0.19553 | val_logloss: 0.19498 |  0:08:22s\n",
      "epoch 10 | loss: 0.05104 | train_logloss: 0.19492 | val_logloss: 0.19441 |  0:09:12s\n",
      "epoch 11 | loss: 0.051   | train_logloss: 0.19626 | val_logloss: 0.19564 |  0:10:02s\n",
      "epoch 12 | loss: 0.05101 | train_logloss: 0.19492 | val_logloss: 0.19443 |  0:10:52s\n",
      "epoch 13 | loss: 0.05097 | train_logloss: 0.19537 | val_logloss: 0.19493 |  0:11:42s\n"
     ]
    },
    {
     "name": "stderr",
     "output_type": "stream",
     "text": [
      "C:\\Users\\Wolgy\\anaconda3\\lib\\site-packages\\sklearn\\metrics\\_classification.py:2279: RuntimeWarning: divide by zero encountered in log\n",
      "  loss = -(transformed_labels * np.log(y_pred)).sum(axis=1)\n",
      "C:\\Users\\Wolgy\\anaconda3\\lib\\site-packages\\sklearn\\metrics\\_classification.py:2279: RuntimeWarning: invalid value encountered in multiply\n",
      "  loss = -(transformed_labels * np.log(y_pred)).sum(axis=1)\n",
      "C:\\Users\\Wolgy\\anaconda3\\lib\\site-packages\\sklearn\\metrics\\_classification.py:2279: RuntimeWarning: divide by zero encountered in log\n",
      "  loss = -(transformed_labels * np.log(y_pred)).sum(axis=1)\n",
      "C:\\Users\\Wolgy\\anaconda3\\lib\\site-packages\\sklearn\\metrics\\_classification.py:2279: RuntimeWarning: invalid value encountered in multiply\n",
      "  loss = -(transformed_labels * np.log(y_pred)).sum(axis=1)\n"
     ]
    },
    {
     "name": "stdout",
     "output_type": "stream",
     "text": [
      "epoch 14 | loss: 0.05096 | train_logloss: nan     | val_logloss: nan     |  0:12:32s\n",
      "epoch 15 | loss: 0.05094 | train_logloss: 0.19513 | val_logloss: 0.19493 |  0:13:22s\n",
      "epoch 16 | loss: 0.05093 | train_logloss: 0.19459 | val_logloss: 0.19423 |  0:14:12s\n",
      "epoch 17 | loss: 0.05092 | train_logloss: 0.19451 | val_logloss: 0.19429 |  0:15:01s\n",
      "epoch 18 | loss: 0.0509  | train_logloss: 0.19478 | val_logloss: 0.19476 |  0:15:47s\n",
      "epoch 19 | loss: 0.05088 | train_logloss: 0.19411 | val_logloss: 0.19388 |  0:16:33s\n",
      "epoch 20 | loss: 0.05088 | train_logloss: 0.19429 | val_logloss: 0.1943  |  0:17:19s\n",
      "epoch 21 | loss: 0.0509  | train_logloss: 0.19449 | val_logloss: 0.19454 |  0:18:05s\n",
      "epoch 22 | loss: 0.05086 | train_logloss: 0.19453 | val_logloss: 0.19451 |  0:18:51s\n",
      "epoch 23 | loss: 0.05085 | train_logloss: 0.19523 | val_logloss: 0.19537 |  0:19:37s\n",
      "epoch 24 | loss: 0.05082 | train_logloss: 0.19454 | val_logloss: 0.19474 |  0:20:23s\n",
      "epoch 25 | loss: 0.05086 | train_logloss: 0.19498 | val_logloss: 0.19493 |  0:21:09s\n",
      "epoch 26 | loss: 0.05081 | train_logloss: 0.1942  | val_logloss: 0.1944  |  0:21:55s\n",
      "epoch 27 | loss: 0.05082 | train_logloss: 0.19373 | val_logloss: 0.19403 |  0:22:41s\n",
      "epoch 28 | loss: 0.05081 | train_logloss: 0.19487 | val_logloss: 0.19491 |  0:23:26s\n",
      "epoch 29 | loss: 0.05079 | train_logloss: 0.19523 | val_logloss: 0.19461 |  0:24:14s\n",
      "epoch 30 | loss: 0.05079 | train_logloss: 0.1939  | val_logloss: 0.19434 |  0:24:59s\n",
      "epoch 31 | loss: 0.05081 | train_logloss: 0.19372 | val_logloss: 0.19419 |  0:25:45s\n",
      "epoch 32 | loss: 0.05078 | train_logloss: 0.19465 | val_logloss: 0.19498 |  0:26:31s\n",
      "epoch 33 | loss: 0.05075 | train_logloss: 0.19389 | val_logloss: 0.19454 |  0:27:17s\n",
      "epoch 34 | loss: 0.05075 | train_logloss: 0.19539 | val_logloss: 0.1962  |  0:28:03s\n",
      "epoch 35 | loss: 0.05074 | train_logloss: 0.19366 | val_logloss: 0.19424 |  0:28:48s\n",
      "epoch 36 | loss: 0.05073 | train_logloss: 0.19445 | val_logloss: 0.19506 |  0:29:34s\n",
      "epoch 37 | loss: 0.05076 | train_logloss: 0.19409 | val_logloss: 0.19472 |  0:30:20s\n",
      "epoch 38 | loss: 0.05076 | train_logloss: 0.19355 | val_logloss: 0.19431 |  0:31:06s\n",
      "epoch 39 | loss: 0.05075 | train_logloss: 0.19355 | val_logloss: 0.19406 |  0:31:52s\n",
      "epoch 40 | loss: 0.05078 | train_logloss: 0.19357 | val_logloss: 0.19416 |  0:32:38s\n",
      "epoch 41 | loss: 0.05072 | train_logloss: 0.19367 | val_logloss: 0.19422 |  0:33:23s\n",
      "epoch 42 | loss: 0.05071 | train_logloss: 0.19417 | val_logloss: 0.19493 |  0:34:10s\n",
      "epoch 43 | loss: 0.05068 | train_logloss: 0.1937  | val_logloss: 0.19443 |  0:34:56s\n",
      "epoch 44 | loss: 0.05073 | train_logloss: 0.19417 | val_logloss: 0.19474 |  0:35:42s\n",
      "epoch 45 | loss: 0.0507  | train_logloss: 0.19328 | val_logloss: 0.19432 |  0:36:28s\n",
      "epoch 46 | loss: 0.05068 | train_logloss: 0.19488 | val_logloss: 0.19546 |  0:37:14s\n",
      "epoch 47 | loss: 0.05068 | train_logloss: 0.19392 | val_logloss: 0.19521 |  0:37:59s\n",
      "epoch 48 | loss: 0.05065 | train_logloss: 0.1937  | val_logloss: 0.1946  |  0:38:45s\n",
      "epoch 49 | loss: 0.05069 | train_logloss: 0.19805 | val_logloss: 0.19924 |  0:39:31s\n",
      "\n",
      "Early stopping occurred at epoch 49 with best_epoch = 19 and best_val_logloss = 0.19388\n",
      "Best weights from best epoch are automatically used!\n"
     ]
    }
   ],
   "source": [
    "reg = TabNetRegressor()\n",
    "model = reg.fit(X_train, y_train, \n",
    "                eval_set = [(X_train, y_train), (X_val, y_val)],\n",
    "                eval_name=['train','val'],\n",
    "                eval_metric = ['logloss'],\n",
    "                max_epochs = 200,\n",
    "                patience = 30)"
   ]
  },
  {
   "cell_type": "code",
   "execution_count": 5,
   "id": "12ba6fd9",
   "metadata": {},
   "outputs": [
    {
     "name": "stdout",
     "output_type": "stream",
     "text": [
      "0.19659255629964717\n"
     ]
    }
   ],
   "source": [
    "preds = reg.predict(X_test)\n",
    "print(log_loss(y_test, preds))"
   ]
  },
  {
   "cell_type": "code",
   "execution_count": null,
   "id": "6ed2b579",
   "metadata": {},
   "outputs": [],
   "source": [
    "#after 10 epochs logloss = .197\n",
    "#after 10 epochs logloss = .197\n",
    "#Added a validation set, 10 epochs logloss = .198\n",
    "#With the validation set and 10 epochs, logloss = .1965 <--- slight improvement\n",
    "#increased the number of steps to 5, logloss = .200\n",
    "#increased the number of steps to 8, logloss = .207\n",
    "#increased the number of steps to 2, logloss = .1976\n",
    "#using 3 as the default fir number of steps is fine \n",
    "#Setting the n_independent to 4 results in heavy overfitting\n",
    "#set n_shared to 4 and logloss increased\n",
    "#Setting labmda_sparse to 2.5e-4 was slightly better, logloss = .1965\n",
    "#using entmax instead of sparsemax logloss = .1976\n",
    "#Increasing the batch size did have a high logloss = .1985\n",
    "#however, it was still falling, I will repeat with 20 epochs and compare\n",
    "#increasing the epochs did little for the performance\n",
    "#Increasing the num_workers to 2 gave a logloss of .1972 but was still falling, will allow more epochs\n",
    "#After 25 epochs I got logloss = .1966\n",
    "#in the end the defaults worked the best. "
   ]
  }
 ],
 "metadata": {
  "kernelspec": {
   "display_name": "Python 3",
   "language": "python",
   "name": "python3"
  },
  "language_info": {
   "codemirror_mode": {
    "name": "ipython",
    "version": 3
   },
   "file_extension": ".py",
   "mimetype": "text/x-python",
   "name": "python",
   "nbconvert_exporter": "python",
   "pygments_lexer": "ipython3",
   "version": "3.8.8"
  }
 },
 "nbformat": 4,
 "nbformat_minor": 5
}
