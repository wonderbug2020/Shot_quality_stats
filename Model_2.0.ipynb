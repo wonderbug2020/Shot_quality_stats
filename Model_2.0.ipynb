{
 "cells": [
  {
   "cell_type": "code",
   "execution_count": null,
   "id": "c6e15ded",
   "metadata": {},
   "outputs": [],
   "source": [
    "#used to import data\n",
    "import pandas as pd\n",
    "#Evaluates the model\n",
    "from sklearn.metrics import log_loss\n",
    "import time #just used to see how long the model takes to run\n",
    "from pytorch_tabnet.tab_model import TabNetRegressor"
   ]
  },
  {
   "cell_type": "code",
   "execution_count": null,
   "id": "401daf57",
   "metadata": {},
   "outputs": [],
   "source": [
    "df_11 = pd.read_csv('data/pbp/ready_to_model/10_11_pbp_cleaned.csv')\n",
    "df_12 = pd.read_csv('data/pbp/ready_to_model/11_12_pbp_cleaned.csv')\n",
    "df_13 = pd.read_csv('data/pbp/ready_to_model/12_13_pbp_cleaned.csv')\n",
    "df_14 = pd.read_csv('data/pbp/ready_to_model/13_14_pbp_cleaned.csv')\n",
    "df_15 = pd.read_csv('data/pbp/ready_to_model/14_15_pbp_cleaned.csv')\n",
    "df_16 = pd.read_csv('data/pbp/ready_to_model/15_16_pbp_cleaned.csv')\n",
    "df_17 = pd.read_csv('data/pbp/ready_to_model/16_17_pbp_cleaned.csv')\n",
    "df_18 = pd.read_csv('data/pbp/ready_to_model/17_18_pbp_cleaned.csv')\n",
    "df_19 = pd.read_csv('data/pbp/ready_to_model/18_19_pbp_cleaned.csv')\n",
    "df_20 = pd.read_csv('data/pbp/ready_to_model/19_20_pbp_cleaned.csv')\n",
    "df_21 = pd.read_csv('data/pbp/ready_to_model/20_21_pbp_cleaned.csv')\n",
    "df = pd.concat([df_11,df_12,df_13,df_14,df_15,df_16,df_17,df_18,df_19,df_20,df_21])"
   ]
  },
  {
   "cell_type": "code",
   "execution_count": null,
   "id": "9f2a492e",
   "metadata": {},
   "outputs": [],
   "source": [
    "def get_X_y(df):\n",
    "    ''' This function takes in a dataframe and splits it into the X and y variables\n",
    "    '''\n",
    "    X = df.drop(['is_goal'], axis=1).to_numpy()\n",
    "    y = df.is_goal.to_numpy()\n",
    "    \n",
    "    return X,y"
   ]
  },
  {
   "cell_type": "code",
   "execution_count": null,
   "id": "f12847dc",
   "metadata": {},
   "outputs": [],
   "source": [
    "X,y = get_X_y(df)"
   ]
  },
  {
   "cell_type": "code",
   "execution_count": null,
   "id": "9e990dc3",
   "metadata": {},
   "outputs": [],
   "source": [
    "from sklearn.model_selection import train_test_split\n",
    "X_train, X_test, y_train, y_test = train_test_split(X, y, test_size=0.30, random_state=101)\n",
    "X_test, X_val, y_test, y_val = train_test_split(X_test, y_test, test_size=0.50, random_state=101)"
   ]
  },
  {
   "cell_type": "code",
   "execution_count": null,
   "id": "289e1501",
   "metadata": {},
   "outputs": [],
   "source": [
    "#X_train.values\n",
    "y_train = y_train.reshape(-1,1)\n",
    "y_val = y_val.reshape(-1,1)\n",
    "y_test = y_test.reshape(-1,1)"
   ]
  },
  {
   "cell_type": "code",
   "execution_count": null,
   "id": "efb71678",
   "metadata": {},
   "outputs": [],
   "source": [
    "reg = TabNetRegressor()\n",
    "model = reg.fit(X_train, y_train, \n",
    "                eval_set = [(X_train, y_train), (X_val, y_val)],\n",
    "                eval_name=['train','val'],\n",
    "                eval_metric = ['logloss'],                \n",
    "                max_epochs = 20)"
   ]
  },
  {
   "cell_type": "code",
   "execution_count": null,
   "id": "12ba6fd9",
   "metadata": {},
   "outputs": [],
   "source": [
    "preds = reg.predict(X_test)\n",
    "print(log_loss(y_test, preds))"
   ]
  },
  {
   "cell_type": "code",
   "execution_count": null,
   "id": "25e8a354",
   "metadata": {},
   "outputs": [],
   "source": [
    "#after 10 epochs logloss = .197\n",
    "#after 10 epochs logloss = .197\n",
    "#Added a validation set, 10 epochs logloss = .198\n",
    "#With the validation set and 10 epochs, logloss = .1965 <--- slight improvement"
   ]
  }
 ],
 "metadata": {
  "kernelspec": {
   "display_name": "Python 3",
   "language": "python",
   "name": "python3"
  },
  "language_info": {
   "codemirror_mode": {
    "name": "ipython",
    "version": 3
   },
   "file_extension": ".py",
   "mimetype": "text/x-python",
   "name": "python",
   "nbconvert_exporter": "python",
   "pygments_lexer": "ipython3",
   "version": "3.8.8"
  }
 },
 "nbformat": 4,
 "nbformat_minor": 5
}
