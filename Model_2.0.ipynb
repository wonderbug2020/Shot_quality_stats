{
 "cells": [
  {
   "cell_type": "code",
   "execution_count": 1,
   "id": "c6e15ded",
   "metadata": {},
   "outputs": [],
   "source": [
    "#used to import data\n",
    "import pandas as pd\n",
    "#Evaluates the model\n",
    "from sklearn.metrics import log_loss\n",
    "import time #just used to see how long the model takes to run\n",
    "from pytorch_tabnet.tab_model import TabNetRegressor\n",
    "\n",
    "from sklearn.model_selection import train_test_split"
   ]
  },
  {
   "cell_type": "code",
   "execution_count": 2,
   "id": "401daf57",
   "metadata": {},
   "outputs": [],
   "source": [
    "df_11 = pd.read_csv('data/pbp/ready_to_model/10_11_pbp_cleaned.csv')\n",
    "df_12 = pd.read_csv('data/pbp/ready_to_model/11_12_pbp_cleaned.csv')\n",
    "df_13 = pd.read_csv('data/pbp/ready_to_model/12_13_pbp_cleaned.csv')\n",
    "df_14 = pd.read_csv('data/pbp/ready_to_model/13_14_pbp_cleaned.csv')\n",
    "df_15 = pd.read_csv('data/pbp/ready_to_model/14_15_pbp_cleaned.csv')\n",
    "df_16 = pd.read_csv('data/pbp/ready_to_model/15_16_pbp_cleaned.csv')\n",
    "df_17 = pd.read_csv('data/pbp/ready_to_model/16_17_pbp_cleaned.csv')\n",
    "df_18 = pd.read_csv('data/pbp/ready_to_model/17_18_pbp_cleaned.csv')\n",
    "df_19 = pd.read_csv('data/pbp/ready_to_model/18_19_pbp_cleaned.csv')\n",
    "df_20 = pd.read_csv('data/pbp/ready_to_model/19_20_pbp_cleaned.csv')\n",
    "df_21 = pd.read_csv('data/pbp/ready_to_model/20_21_pbp_cleaned.csv')\n",
    "df = pd.concat([df_11,df_12,df_13,df_14,df_15,df_16,df_17,df_18,df_19,df_20,df_21])"
   ]
  },
  {
   "cell_type": "code",
   "execution_count": 3,
   "id": "9f2a492e",
   "metadata": {},
   "outputs": [],
   "source": [
    "def get_X_y(df):\n",
    "    ''' This function takes in a dataframe and splits it into the X and y variables\n",
    "    '''\n",
    "    X = df.drop(['is_goal'], axis=1).to_numpy()\n",
    "    y = df.is_goal.to_numpy()\n",
    "    \n",
    "    return X,y\n",
    "\n",
    "X,y = get_X_y(df)\n",
    "\n",
    "X_train, X_test, y_train, y_test = train_test_split(X, y, test_size=0.30, random_state=101)\n",
    "X_test, X_val, y_test, y_val = train_test_split(X_test, y_test, test_size=0.50, random_state=101)\n",
    "\n",
    "#X_train.values\n",
    "y_train = y_train.reshape(-1,1)\n",
    "y_val = y_val.reshape(-1,1)\n",
    "y_test = y_test.reshape(-1,1)"
   ]
  },
  {
   "cell_type": "code",
   "execution_count": 4,
   "id": "5a692ae5",
   "metadata": {},
   "outputs": [
    {
     "name": "stdout",
     "output_type": "stream",
     "text": [
      "Device used : cpu\n",
      "epoch 0  | loss: 0.0645  | train_logloss: 0.2314  | val_logloss: 0.22904 |  0:01:06s\n",
      "epoch 1  | loss: 0.05341 | train_logloss: 0.2091  | val_logloss: 0.20882 |  0:02:12s\n",
      "epoch 2  | loss: 0.05273 | train_logloss: 0.20363 | val_logloss: 0.20282 |  0:03:17s\n",
      "epoch 3  | loss: 0.05211 | train_logloss: 0.20142 | val_logloss: 0.20095 |  0:04:23s\n",
      "epoch 4  | loss: 0.05185 | train_logloss: 0.2008  | val_logloss: 0.20013 |  0:05:26s\n",
      "epoch 5  | loss: 0.05173 | train_logloss: 0.19984 | val_logloss: 0.19965 |  0:06:30s\n",
      "epoch 6  | loss: 0.05165 | train_logloss: 0.19953 | val_logloss: 0.19959 |  0:07:34s\n",
      "epoch 7  | loss: 0.05162 | train_logloss: 0.19847 | val_logloss: 0.1987  |  0:08:37s\n",
      "epoch 8  | loss: 0.0515  | train_logloss: 0.19751 | val_logloss: 0.19765 |  0:09:44s\n",
      "epoch 9  | loss: 0.05142 | train_logloss: 0.20016 | val_logloss: 0.19953 |  0:10:55s\n",
      "epoch 10 | loss: 0.05137 | train_logloss: 0.19775 | val_logloss: 0.19758 |  0:11:58s\n",
      "epoch 11 | loss: 0.05138 | train_logloss: 0.19731 | val_logloss: 0.19668 |  0:13:02s\n",
      "Stop training because you reached max_epochs = 12 with best_epoch = 11 and best_val_logloss = 0.19668\n",
      "Best weights from best epoch are automatically used!\n"
     ]
    }
   ],
   "source": [
    "reg = TabNetRegressor(n_independent=4)\n",
    "model = reg.fit(X_train, y_train, \n",
    "                eval_set = [(X_train, y_train), (X_val, y_val)],\n",
    "                eval_name=['train','val'],\n",
    "                eval_metric = ['logloss'],                \n",
    "                max_epochs = 12)"
   ]
  },
  {
   "cell_type": "code",
   "execution_count": null,
   "id": "b9184bc2",
   "metadata": {},
   "outputs": [],
   "source": []
  },
  {
   "cell_type": "code",
   "execution_count": null,
   "id": "87d690ea",
   "metadata": {},
   "outputs": [],
   "source": [
    "#This is the vanilla or default version\n",
    "reg = TabNetRegressor()\n",
    "model = reg.fit(X_train, y_train, \n",
    "                eval_set = [(X_train, y_train), (X_val, y_val)],\n",
    "                eval_name=['train','val'],\n",
    "                eval_metric = ['logloss'],                \n",
    "                max_epochs = 12)"
   ]
  },
  {
   "cell_type": "code",
   "execution_count": 5,
   "id": "12ba6fd9",
   "metadata": {},
   "outputs": [
    {
     "name": "stdout",
     "output_type": "stream",
     "text": [
      "0.19929595650251805\n"
     ]
    }
   ],
   "source": [
    "preds = reg.predict(X_test)\n",
    "print(log_loss(y_test, preds))"
   ]
  },
  {
   "cell_type": "code",
   "execution_count": null,
   "id": "ea3f67b9",
   "metadata": {},
   "outputs": [],
   "source": [
    "#after 10 epochs logloss = .197\n",
    "#after 10 epochs logloss = .197\n",
    "#Added a validation set, 10 epochs logloss = .198\n",
    "#With the validation set and 10 epochs, logloss = .1965 <--- slight improvement\n",
    "#increased the number of steps to 5, logloss = .200\n",
    "#increased the number of steps to 8, logloss = .207\n",
    "#increased the number of steps to 2, logloss = .1976\n",
    "#using 3 as the default fir number of steps is fine \n",
    "#Setting the n_independent to 4 results in heavy overfitting"
   ]
  }
 ],
 "metadata": {
  "kernelspec": {
   "display_name": "Python 3",
   "language": "python",
   "name": "python3"
  },
  "language_info": {
   "codemirror_mode": {
    "name": "ipython",
    "version": 3
   },
   "file_extension": ".py",
   "mimetype": "text/x-python",
   "name": "python",
   "nbconvert_exporter": "python",
   "pygments_lexer": "ipython3",
   "version": "3.8.8"
  }
 },
 "nbformat": 4,
 "nbformat_minor": 5
}
