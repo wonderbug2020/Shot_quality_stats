{
 "cells": [
  {
   "cell_type": "code",
   "execution_count": 1,
   "id": "c6e15ded",
   "metadata": {},
   "outputs": [],
   "source": [
    "#used to import data\n",
    "import pandas as pd\n",
    "#Evaluates the model\n",
    "from sklearn.metrics import log_loss\n",
    "import time #just used to see how long the model takes to run\n",
    "from pytorch_tabnet.tab_model import TabNetRegressor\n",
    "\n",
    "from sklearn.model_selection import train_test_split"
   ]
  },
  {
   "cell_type": "code",
   "execution_count": 2,
   "id": "401daf57",
   "metadata": {},
   "outputs": [],
   "source": [
    "df_11 = pd.read_csv('data/pbp/ready_to_model/version_4/10_11_pbp_cleaned.csv')\n",
    "df_12 = pd.read_csv('data/pbp/ready_to_model/version_4/11_12_pbp_cleaned.csv')\n",
    "df_13 = pd.read_csv('data/pbp/ready_to_model/version_4/12_13_pbp_cleaned.csv')\n",
    "df_14 = pd.read_csv('data/pbp/ready_to_model/version_4/13_14_pbp_cleaned.csv')\n",
    "df_15 = pd.read_csv('data/pbp/ready_to_model/version_4/14_15_pbp_cleaned.csv')\n",
    "df_16 = pd.read_csv('data/pbp/ready_to_model/version_4/15_16_pbp_cleaned.csv')\n",
    "df_17 = pd.read_csv('data/pbp/ready_to_model/version_4/16_17_pbp_cleaned.csv')\n",
    "df_18 = pd.read_csv('data/pbp/ready_to_model/version_4/17_18_pbp_cleaned.csv')\n",
    "df_19 = pd.read_csv('data/pbp/ready_to_model/version_4/18_19_pbp_cleaned.csv')\n",
    "df_20 = pd.read_csv('data/pbp/ready_to_model/version_4/19_20_pbp_cleaned.csv')\n",
    "df_21 = pd.read_csv('data/pbp/ready_to_model/version_4/20_21_pbp_cleaned.csv')\n",
    "df = pd.concat([df_11,df_12,df_13,df_14,df_15,df_16,df_17])"
   ]
  },
  {
   "cell_type": "code",
   "execution_count": 3,
   "id": "9f2a492e",
   "metadata": {},
   "outputs": [],
   "source": [
    "def get_X_y(df):\n",
    "    ''' This function takes in a dataframe and splits it into the X and y variables\n",
    "    '''\n",
    "    X = df.drop(['is_goal'], axis=1).to_numpy()\n",
    "    y = df.is_goal.to_numpy()\n",
    "    \n",
    "    return X,y\n",
    "\n",
    "X,y = get_X_y(df)\n",
    "\n",
    "X_train, X_test, y_train, y_test = train_test_split(X, y, test_size=0.30, random_state=101)\n",
    "X_test, X_val, y_test, y_val = train_test_split(X_test, y_test, test_size=0.50, random_state=101)\n",
    "\n",
    "#X_train.values\n",
    "y_train = y_train.reshape(-1,1)\n",
    "y_val = y_val.reshape(-1,1)\n",
    "y_test = y_test.reshape(-1,1)"
   ]
  },
  {
   "cell_type": "code",
   "execution_count": 4,
   "id": "6344fda5",
   "metadata": {},
   "outputs": [
    {
     "name": "stdout",
     "output_type": "stream",
     "text": [
      "Device used : cpu\n",
      "epoch 0  | loss: 0.06328 | train_logloss: 0.21154 | val_logloss: 0.21529 |  0:00:33s\n",
      "epoch 1  | loss: 0.052   | train_logloss: 0.20675 | val_logloss: 0.21182 |  0:01:07s\n",
      "epoch 2  | loss: 0.05122 | train_logloss: 0.19965 | val_logloss: 0.2023  |  0:01:40s\n"
     ]
    },
    {
     "name": "stderr",
     "output_type": "stream",
     "text": [
      "C:\\Users\\Wolgy\\anaconda3\\lib\\site-packages\\sklearn\\metrics\\_classification.py:2279: RuntimeWarning: divide by zero encountered in log\n",
      "  loss = -(transformed_labels * np.log(y_pred)).sum(axis=1)\n"
     ]
    },
    {
     "name": "stdout",
     "output_type": "stream",
     "text": [
      "epoch 3  | loss: 0.05081 | train_logloss: inf     | val_logloss: 0.20381 |  0:02:13s\n",
      "epoch 4  | loss: 0.05058 | train_logloss: 0.19483 | val_logloss: 0.19961 |  0:02:46s\n",
      "epoch 5  | loss: 0.05036 | train_logloss: 0.19367 | val_logloss: 0.19837 |  0:03:19s\n",
      "epoch 6  | loss: 0.05027 | train_logloss: 0.19451 | val_logloss: 0.19916 |  0:03:52s\n",
      "epoch 7  | loss: 0.05013 | train_logloss: 0.19393 | val_logloss: 0.19838 |  0:04:24s\n",
      "epoch 8  | loss: 0.05006 | train_logloss: 0.19376 | val_logloss: 0.19815 |  0:04:57s\n",
      "epoch 9  | loss: 0.05003 | train_logloss: 0.19373 | val_logloss: 0.19806 |  0:05:30s\n",
      "epoch 10 | loss: 0.04994 | train_logloss: 0.19521 | val_logloss: 0.1994  |  0:06:03s\n",
      "epoch 11 | loss: 0.04982 | train_logloss: 0.19229 | val_logloss: 0.19701 |  0:06:36s\n",
      "epoch 12 | loss: 0.04975 | train_logloss: 0.19433 | val_logloss: 0.19801 |  0:07:09s\n",
      "epoch 13 | loss: 0.04981 | train_logloss: 0.19334 | val_logloss: 0.19809 |  0:07:41s\n",
      "epoch 14 | loss: 0.04972 | train_logloss: 0.19719 | val_logloss: 0.2013  |  0:08:14s\n",
      "epoch 15 | loss: 0.04965 | train_logloss: 0.19046 | val_logloss: 0.19511 |  0:08:47s\n",
      "epoch 16 | loss: 0.04951 | train_logloss: 0.19066 | val_logloss: 0.19577 |  0:09:20s\n",
      "epoch 17 | loss: 0.0495  | train_logloss: 0.19223 | val_logloss: 0.19707 |  0:09:53s\n",
      "epoch 18 | loss: 0.04949 | train_logloss: 0.19175 | val_logloss: 0.19672 |  0:10:26s\n",
      "epoch 19 | loss: 0.04945 | train_logloss: 0.19349 | val_logloss: 0.19842 |  0:10:59s\n",
      "Stop training because you reached max_epochs = 20 with best_epoch = 15 and best_val_logloss = 0.19511\n",
      "Best weights from best epoch are automatically used!\n"
     ]
    }
   ],
   "source": [
    "reg = TabNetRegressor(device_name = 'cuda')\n",
    "model = reg.fit(X_train, y_train, \n",
    "                eval_set = [(X_train, y_train), (X_val, y_val)],\n",
    "                eval_name=['train','val'],\n",
    "                eval_metric = ['logloss'],\n",
    "                max_epochs = 20)"
   ]
  },
  {
   "cell_type": "code",
   "execution_count": 5,
   "id": "12ba6fd9",
   "metadata": {},
   "outputs": [
    {
     "name": "stdout",
     "output_type": "stream",
     "text": [
      "0.18829929074614263\n"
     ]
    }
   ],
   "source": [
    "preds = reg.predict(X_test)\n",
    "print(log_loss(y_test, preds))"
   ]
  },
  {
   "cell_type": "code",
   "execution_count": null,
   "id": "6ed2b579",
   "metadata": {},
   "outputs": [],
   "source": [
    "#after 10 epochs logloss = .197\n",
    "#after 10 epochs logloss = .197\n",
    "#Added a validation set, 10 epochs logloss = .198\n",
    "#With the validation set and 10 epochs, logloss = .1965 <--- slight improvement\n",
    "#increased the number of steps to 5, logloss = .200\n",
    "#increased the number of steps to 8, logloss = .207\n",
    "#increased the number of steps to 2, logloss = .1976\n",
    "#using 3 as the default fir number of steps is fine \n",
    "#Setting the n_independent to 4 results in heavy overfitting\n",
    "#set n_shared to 4 and logloss increased\n",
    "#Setting labmda_sparse to 2.5e-4 was slightly better, logloss = .1965\n",
    "#using entmax instead of sparsemax logloss = .1976\n",
    "#Increasing the batch size did have a high logloss = .1985\n",
    "#however, it was still falling, I will repeat with 20 epochs and compare\n",
    "#increasing the epochs did little for the performance\n",
    "#Increasing the num_workers to 2 gave a logloss of .1972 but was still falling, will allow more epochs\n",
    "#After 25 epochs I got logloss = .1966\n",
    "#in the end the defaults worked the best. "
   ]
  }
 ],
 "metadata": {
  "kernelspec": {
   "display_name": "Python 3",
   "language": "python",
   "name": "python3"
  },
  "language_info": {
   "codemirror_mode": {
    "name": "ipython",
    "version": 3
   },
   "file_extension": ".py",
   "mimetype": "text/x-python",
   "name": "python",
   "nbconvert_exporter": "python",
   "pygments_lexer": "ipython3",
   "version": "3.8.8"
  }
 },
 "nbformat": 4,
 "nbformat_minor": 5
}
