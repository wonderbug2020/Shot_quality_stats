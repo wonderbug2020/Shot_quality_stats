{
 "cells": [
  {
   "cell_type": "code",
   "execution_count": 1,
   "id": "c6e15ded",
   "metadata": {},
   "outputs": [],
   "source": [
    "#used to import data\n",
    "import pandas as pd\n",
    "#Evaluates the model\n",
    "from sklearn.metrics import log_loss\n",
    "import time #just used to see how long the model takes to run\n",
    "from pytorch_tabnet.tab_model import TabNetRegressor"
   ]
  },
  {
   "cell_type": "code",
   "execution_count": 2,
   "id": "401daf57",
   "metadata": {},
   "outputs": [],
   "source": [
    "df_11 = pd.read_csv('data/pbp/ready_to_model/10_11_pbp_cleaned.csv')\n",
    "df_12 = pd.read_csv('data/pbp/ready_to_model/11_12_pbp_cleaned.csv')\n",
    "df_13 = pd.read_csv('data/pbp/ready_to_model/12_13_pbp_cleaned.csv')\n",
    "df_14 = pd.read_csv('data/pbp/ready_to_model/13_14_pbp_cleaned.csv')\n",
    "df_15 = pd.read_csv('data/pbp/ready_to_model/14_15_pbp_cleaned.csv')\n",
    "df_16 = pd.read_csv('data/pbp/ready_to_model/15_16_pbp_cleaned.csv')\n",
    "df_17 = pd.read_csv('data/pbp/ready_to_model/16_17_pbp_cleaned.csv')\n",
    "df_18 = pd.read_csv('data/pbp/ready_to_model/17_18_pbp_cleaned.csv')\n",
    "df_19 = pd.read_csv('data/pbp/ready_to_model/18_19_pbp_cleaned.csv')\n",
    "df_20 = pd.read_csv('data/pbp/ready_to_model/19_20_pbp_cleaned.csv')\n",
    "df_21 = pd.read_csv('data/pbp/ready_to_model/20_21_pbp_cleaned.csv')\n",
    "df = pd.concat([df_11,df_12,df_13,df_14,df_15,df_16,df_17,df_18,df_19,df_20,df_21])"
   ]
  },
  {
   "cell_type": "code",
   "execution_count": 3,
   "id": "9f2a492e",
   "metadata": {},
   "outputs": [],
   "source": [
    "def get_X_y(df):\n",
    "    ''' This function takes in a dataframe and splits it into the X and y variables\n",
    "    '''\n",
    "    X = df.drop(['is_goal'], axis=1).to_numpy()\n",
    "    y = df.is_goal.to_numpy()\n",
    "    \n",
    "    return X,y"
   ]
  },
  {
   "cell_type": "code",
   "execution_count": 4,
   "id": "f12847dc",
   "metadata": {},
   "outputs": [],
   "source": [
    "X,y = get_X_y(df)"
   ]
  },
  {
   "cell_type": "code",
   "execution_count": 5,
   "id": "9e990dc3",
   "metadata": {},
   "outputs": [],
   "source": [
    "from sklearn.model_selection import train_test_split\n",
    "X_train, X_test, y_train, y_test = train_test_split(X, y, test_size=0.30, random_state=101)\n",
    "X_test, X_val, y_test, y_val = train_test_split(X_test, y_test, test_size=0.50, random_state=101)"
   ]
  },
  {
   "cell_type": "code",
   "execution_count": 6,
   "id": "289e1501",
   "metadata": {},
   "outputs": [],
   "source": [
    "#X_train.values\n",
    "y_train = y_train.reshape(-1,1)\n",
    "y_val = y_val.reshape(-1,1)\n",
    "y_test = y_test.reshape(-1,1)"
   ]
  },
  {
   "cell_type": "code",
   "execution_count": 7,
   "id": "a9717a08",
   "metadata": {},
   "outputs": [
    {
     "name": "stdout",
     "output_type": "stream",
     "text": [
      "Device used : cpu\n",
      "No early stopping will be performed, last training weights will be used.\n",
      "epoch 0  | loss: 0.0581  |  0:00:52s\n",
      "epoch 1  | loss: 0.05279 |  0:01:43s\n",
      "epoch 2  | loss: 0.05184 |  0:02:30s\n",
      "epoch 3  | loss: 0.05146 |  0:03:20s\n",
      "epoch 4  | loss: 0.0513  |  0:04:08s\n",
      "epoch 5  | loss: 0.05122 |  0:04:59s\n",
      "epoch 6  | loss: 0.05115 |  0:05:44s\n",
      "epoch 7  | loss: 0.0511  |  0:06:30s\n",
      "epoch 8  | loss: 0.05108 |  0:07:18s\n",
      "epoch 9  | loss: 0.05103 |  0:08:01s\n",
      "epoch 10 | loss: 0.05103 |  0:08:44s\n",
      "epoch 11 | loss: 0.05101 |  0:09:33s\n",
      "epoch 12 | loss: 0.051   |  0:10:17s\n",
      "epoch 13 | loss: 0.05098 |  0:10:59s\n",
      "epoch 14 | loss: 0.05095 |  0:11:56s\n",
      "epoch 15 | loss: 0.05091 |  0:12:50s\n",
      "epoch 16 | loss: 0.0509  |  0:13:38s\n",
      "epoch 17 | loss: 0.05087 |  0:14:27s\n",
      "epoch 18 | loss: 0.05089 |  0:15:17s\n",
      "epoch 19 | loss: 0.05086 |  0:16:08s\n",
      "epoch 20 | loss: 0.05084 |  0:16:55s\n",
      "epoch 21 | loss: 0.05086 |  0:17:39s\n",
      "epoch 22 | loss: 0.05082 |  0:18:34s\n",
      "epoch 23 | loss: 0.05084 |  0:19:32s\n",
      "epoch 24 | loss: 0.05081 |  0:20:27s\n",
      "epoch 25 | loss: 0.0508  |  0:21:23s\n",
      "epoch 26 | loss: 0.05082 |  0:22:22s\n",
      "epoch 27 | loss: 0.05088 |  0:23:17s\n",
      "epoch 28 | loss: 0.05083 |  0:24:15s\n",
      "epoch 29 | loss: 0.05081 |  0:25:18s\n",
      "epoch 30 | loss: 0.05082 |  0:26:11s\n",
      "epoch 31 | loss: 0.05077 |  0:27:03s\n",
      "epoch 32 | loss: 0.05076 |  0:27:56s\n",
      "epoch 33 | loss: 0.05074 |  0:28:40s\n",
      "epoch 34 | loss: 0.05074 |  0:29:27s\n",
      "epoch 35 | loss: 0.05075 |  0:30:15s\n",
      "epoch 36 | loss: 0.05074 |  0:31:04s\n",
      "epoch 37 | loss: 0.05075 |  0:31:51s\n",
      "epoch 38 | loss: 0.05074 |  0:32:39s\n",
      "epoch 39 | loss: 0.05086 |  0:33:29s\n",
      "epoch 40 | loss: 0.05087 |  0:34:16s\n",
      "epoch 41 | loss: 0.05074 |  0:35:00s\n",
      "epoch 42 | loss: 0.05071 |  0:35:46s\n",
      "epoch 43 | loss: 0.05072 |  0:36:37s\n",
      "epoch 44 | loss: 0.05069 |  0:37:44s\n",
      "epoch 45 | loss: 0.05069 |  0:38:39s\n",
      "epoch 46 | loss: 0.05067 |  0:39:33s\n",
      "epoch 47 | loss: 0.05065 |  0:40:36s\n",
      "epoch 48 | loss: 0.05066 |  0:41:31s\n",
      "epoch 49 | loss: 0.0507  |  0:42:23s\n"
     ]
    }
   ],
   "source": [
    "reg = TabNetRegressor()\n",
    "reg.fit(X_train, y_train, eval_metric = ['logloss'], max_epochs = 50, patience=10)"
   ]
  },
  {
   "cell_type": "code",
   "execution_count": 8,
   "id": "12ba6fd9",
   "metadata": {},
   "outputs": [
    {
     "name": "stdout",
     "output_type": "stream",
     "text": [
      "0.19770059413374053\n"
     ]
    }
   ],
   "source": [
    "preds = reg.predict(X_test)\n",
    "print(log_loss(y_test, preds))"
   ]
  },
  {
   "cell_type": "code",
   "execution_count": null,
   "id": "63c94519",
   "metadata": {},
   "outputs": [],
   "source": [
    "#after 10 epochs logloss = .197\n",
    "#after 10 epochs logloss = .197"
   ]
  }
 ],
 "metadata": {
  "kernelspec": {
   "display_name": "Python 3",
   "language": "python",
   "name": "python3"
  },
  "language_info": {
   "codemirror_mode": {
    "name": "ipython",
    "version": 3
   },
   "file_extension": ".py",
   "mimetype": "text/x-python",
   "name": "python",
   "nbconvert_exporter": "python",
   "pygments_lexer": "ipython3",
   "version": "3.8.8"
  }
 },
 "nbformat": 4,
 "nbformat_minor": 5
}
