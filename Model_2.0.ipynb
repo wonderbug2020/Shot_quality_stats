{
 "cells": [
  {
   "cell_type": "code",
   "execution_count": 1,
   "id": "c6e15ded",
   "metadata": {},
   "outputs": [],
   "source": [
    "#used to import data\n",
    "import pandas as pd\n",
    "#Evaluates the model\n",
    "from sklearn.metrics import log_loss\n",
    "import time #just used to see how long the model takes to run\n",
    "from pytorch_tabnet.tab_model import TabNetRegressor\n",
    "\n",
    "from sklearn.model_selection import train_test_split"
   ]
  },
  {
   "cell_type": "code",
   "execution_count": 2,
   "id": "401daf57",
   "metadata": {},
   "outputs": [],
   "source": [
    "df_11 = pd.read_csv('data/pbp/ready_to_model/version_4/10_11_pbp_cleaned.csv')\n",
    "df_12 = pd.read_csv('data/pbp/ready_to_model/version_4/11_12_pbp_cleaned.csv')\n",
    "df_13 = pd.read_csv('data/pbp/ready_to_model/version_4/12_13_pbp_cleaned.csv')\n",
    "df_14 = pd.read_csv('data/pbp/ready_to_model/version_4/13_14_pbp_cleaned.csv')\n",
    "df_15 = pd.read_csv('data/pbp/ready_to_model/version_4/14_15_pbp_cleaned.csv')\n",
    "df_16 = pd.read_csv('data/pbp/ready_to_model/version_4/15_16_pbp_cleaned.csv')\n",
    "df_17 = pd.read_csv('data/pbp/ready_to_model/version_4/16_17_pbp_cleaned.csv')\n",
    "df_18 = pd.read_csv('data/pbp/ready_to_model/version_4/17_18_pbp_cleaned.csv')\n",
    "df_19 = pd.read_csv('data/pbp/ready_to_model/version_4/18_19_pbp_cleaned.csv')\n",
    "df_20 = pd.read_csv('data/pbp/ready_to_model/version_4/19_20_pbp_cleaned.csv')\n",
    "df_21 = pd.read_csv('data/pbp/ready_to_model/version_4/20_21_pbp_cleaned.csv')\n",
    "df = pd.concat([df_11,df_12,df_13,df_14,df_15,df_16,df_17])"
   ]
  },
  {
   "cell_type": "code",
   "execution_count": 3,
   "id": "9f2a492e",
   "metadata": {},
   "outputs": [],
   "source": [
    "def get_X_y(df):\n",
    "    ''' This function takes in a dataframe and splits it into the X and y variables\n",
    "    '''\n",
    "    X = df.drop(['is_goal'], axis=1).to_numpy()\n",
    "    y = df.is_goal.to_numpy()\n",
    "    \n",
    "    return X,y\n",
    "\n",
    "X,y = get_X_y(df)\n",
    "\n",
    "X_train, X_test, y_train, y_test = train_test_split(X, y, test_size=0.30, random_state=101)\n",
    "X_test, X_val, y_test, y_val = train_test_split(X_test, y_test, test_size=0.50, random_state=101)\n",
    "\n",
    "#X_train.values\n",
    "y_train = y_train.reshape(-1,1)\n",
    "y_val = y_val.reshape(-1,1)\n",
    "y_test = y_test.reshape(-1,1)"
   ]
  },
  {
   "cell_type": "code",
   "execution_count": null,
   "id": "6344fda5",
   "metadata": {},
   "outputs": [],
   "source": [
    "reg = TabNetRegressor(device_name)\n",
    "model = reg.fit(X_train, y_train, \n",
    "                eval_set = [(X_train, y_train), (X_val, y_val)],\n",
    "                eval_name=['train','val'],\n",
    "                eval_metric = ['logloss'],\n",
    "                max_epochs = 20)"
   ]
  },
  {
   "cell_type": "code",
   "execution_count": null,
   "id": "12ba6fd9",
   "metadata": {},
   "outputs": [],
   "source": [
    "preds = reg.predict(X_test)\n",
    "print(log_loss(y_test, preds))"
   ]
  },
  {
   "cell_type": "code",
   "execution_count": null,
   "id": "6ed2b579",
   "metadata": {},
   "outputs": [],
   "source": [
    "#after 10 epochs logloss = .197\n",
    "#after 10 epochs logloss = .197\n",
    "#Added a validation set, 10 epochs logloss = .198\n",
    "#With the validation set and 10 epochs, logloss = .1965 <--- slight improvement\n",
    "#increased the number of steps to 5, logloss = .200\n",
    "#increased the number of steps to 8, logloss = .207\n",
    "#increased the number of steps to 2, logloss = .1976\n",
    "#using 3 as the default fir number of steps is fine \n",
    "#Setting the n_independent to 4 results in heavy overfitting\n",
    "#set n_shared to 4 and logloss increased\n",
    "#Setting labmda_sparse to 2.5e-4 was slightly better, logloss = .1965\n",
    "#using entmax instead of sparsemax logloss = .1976\n",
    "#Increasing the batch size did have a high logloss = .1985\n",
    "#however, it was still falling, I will repeat with 20 epochs and compare\n",
    "#increasing the epochs did little for the performance\n",
    "#Increasing the num_workers to 2 gave a logloss of .1972 but was still falling, will allow more epochs\n",
    "#After 25 epochs I got logloss = .1966\n",
    "#in the end the defaults worked the best. "
   ]
  },
  {
   "cell_type": "code",
   "execution_count": 4,
   "id": "ea710248",
   "metadata": {},
   "outputs": [
    {
     "name": "stdout",
     "output_type": "stream",
     "text": [
      "Device used : cuda\n",
      "epoch 0  | loss: 0.06197 | train_logloss: 0.2015  | val_logloss: 0.20493 |  0:00:27s\n",
      "epoch 1  | loss: 0.05133 | train_logloss: 0.21584 | val_logloss: 0.22183 |  0:00:54s\n",
      "epoch 2  | loss: 0.05078 | train_logloss: 0.19615 | val_logloss: 0.20041 |  0:01:20s\n",
      "epoch 3  | loss: 0.05064 | train_logloss: 0.19663 | val_logloss: 0.20151 |  0:01:45s\n",
      "epoch 4  | loss: 0.05034 | train_logloss: 0.19357 | val_logloss: 0.19883 |  0:02:11s\n",
      "epoch 5  | loss: 0.05015 | train_logloss: 0.19361 | val_logloss: 0.19894 |  0:02:40s\n",
      "epoch 6  | loss: 0.05032 | train_logloss: 0.19539 | val_logloss: 0.20005 |  0:03:11s\n",
      "epoch 7  | loss: 0.05032 | train_logloss: 0.19536 | val_logloss: 0.20092 |  0:03:40s\n",
      "epoch 8  | loss: 0.05025 | train_logloss: 0.19671 | val_logloss: 0.20102 |  0:04:40s\n",
      "epoch 9  | loss: 0.05015 | train_logloss: 0.19947 | val_logloss: 0.20483 |  0:05:10s\n",
      "epoch 10 | loss: 0.05005 | train_logloss: 0.19304 | val_logloss: 0.19753 |  0:05:35s\n",
      "epoch 11 | loss: 0.0499  | train_logloss: 0.19288 | val_logloss: 0.19746 |  0:06:00s\n",
      "epoch 12 | loss: 0.04978 | train_logloss: 0.1965  | val_logloss: 0.19961 |  0:06:24s\n",
      "epoch 13 | loss: 0.04972 | train_logloss: 0.19344 | val_logloss: 0.19821 |  0:06:49s\n",
      "epoch 14 | loss: 0.04964 | train_logloss: 0.19558 | val_logloss: 0.20178 |  0:07:13s\n",
      "epoch 15 | loss: 0.04966 | train_logloss: 0.1912  | val_logloss: 0.19769 |  0:07:37s\n",
      "epoch 16 | loss: 0.04958 | train_logloss: 0.19113 | val_logloss: 0.19573 |  0:08:02s\n",
      "epoch 17 | loss: 0.0496  | train_logloss: 0.19366 | val_logloss: 0.19758 |  0:08:26s\n",
      "epoch 18 | loss: 0.0496  | train_logloss: 0.19154 | val_logloss: 0.19683 |  0:08:50s\n",
      "epoch 19 | loss: 0.0496  | train_logloss: 0.19227 | val_logloss: 0.19888 |  0:09:15s\n",
      "Stop training because you reached max_epochs = 20 with best_epoch = 16 and best_val_logloss = 0.19573\n",
      "Best weights from best epoch are automatically used!\n"
     ]
    }
   ],
   "source": [
    "reg = TabNetRegressor(device_name = 'cuda')\n",
    "model = reg.fit(X_train, y_train, \n",
    "                eval_set = [(X_train, y_train), (X_val, y_val)],\n",
    "                eval_name=['train','val'],\n",
    "                eval_metric = ['logloss'],\n",
    "                max_epochs = 20)"
   ]
  },
  {
   "cell_type": "code",
   "execution_count": null,
   "id": "d43a37c5",
   "metadata": {},
   "outputs": [],
   "source": []
  }
 ],
 "metadata": {
  "kernelspec": {
   "display_name": "Python 3 (ipykernel)",
   "language": "python",
   "name": "python3"
  },
  "language_info": {
   "codemirror_mode": {
    "name": "ipython",
    "version": 3
   },
   "file_extension": ".py",
   "mimetype": "text/x-python",
   "name": "python",
   "nbconvert_exporter": "python",
   "pygments_lexer": "ipython3",
   "version": "3.7.11"
  }
 },
 "nbformat": 4,
 "nbformat_minor": 5
}
