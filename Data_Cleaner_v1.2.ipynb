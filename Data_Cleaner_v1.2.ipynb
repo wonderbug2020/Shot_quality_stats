{
 "cells": [
  {
   "cell_type": "code",
   "execution_count": 1,
   "id": "264f5026",
   "metadata": {},
   "outputs": [],
   "source": [
    "#Libraries used\n",
    "import pandas as pd #for the data frame\n",
    "import numpy as np #used for filtering and some arithmatic. "
   ]
  },
  {
   "cell_type": "code",
   "execution_count": 2,
   "id": "4f7f9c45",
   "metadata": {},
   "outputs": [],
   "source": [
    "#Import the data\n",
    "df_import = pd.read_csv('data/pbp/raw/pbp_query_20162017.csv',low_memory=False) \n",
    "#The first thing to do is reduce the number of columns then rows that won't be used\n",
    "df = df_import[['season', 'game_id', 'game_date', 'event_index', 'game_period',\n",
    "                'game_seconds', 'event_type', 'event_description', 'event_detail',\n",
    "                'event_team', 'coords_x', 'coords_y', 'home_team', 'away_team',\n",
    "                'home_score', 'away_score', 'game_strength_state', 'event_distance',\n",
    "                'event_angle']]\n",
    "even_strength = df.game_strength_state.isin(['5v5','4v4','3v3'])\n",
    "play_type     = df.event_type.isin(['FAC','SHOT','HIT','BLOCK','MISS','GIVE','TAKE','GOAL'])\n",
    "no_coords     = ~df.coords_x.isna()\n",
    "df            = df[even_strength & play_type & no_coords]"
   ]
  },
  {
   "cell_type": "code",
   "execution_count": 3,
   "id": "e7be99f8",
   "metadata": {},
   "outputs": [],
   "source": [
    "df_pg = df.copy()"
   ]
  },
  {
   "cell_type": "code",
   "execution_count": 4,
   "id": "3c7ef689",
   "metadata": {},
   "outputs": [],
   "source": [
    "check_lst = ['event_team','home_team','game_period','game_seconds',\n",
    "             'coords_x','coords_y','event_distance','event_angle',\n",
    "             'event_type','event_description']\n",
    "df_rc = df[check_lst].copy()"
   ]
  },
  {
   "cell_type": "code",
   "execution_count": 5,
   "id": "2cc43163",
   "metadata": {},
   "outputs": [
    {
     "data": {
      "text/plain": [
       "count    254367.000000\n",
       "mean         37.040029\n",
       "std          23.276300\n",
       "min           0.000000\n",
       "25%          17.680000\n",
       "50%          35.840000\n",
       "75%          47.730000\n",
       "max          90.000000\n",
       "Name: event_angle, dtype: float64"
      ]
     },
     "execution_count": 5,
     "metadata": {},
     "output_type": "execute_result"
    }
   ],
   "source": [
    "df_rc.event_angle.describe()"
   ]
  },
  {
   "cell_type": "code",
   "execution_count": 6,
   "id": "02057cb5",
   "metadata": {},
   "outputs": [
    {
     "data": {
      "text/plain": [
       "count    254367.000000\n",
       "mean         40.590986\n",
       "std          22.622075\n",
       "min           1.000000\n",
       "25%          25.940000\n",
       "50%          34.060000\n",
       "75%          54.780000\n",
       "max         187.220000\n",
       "Name: event_distance, dtype: float64"
      ]
     },
     "execution_count": 6,
     "metadata": {},
     "output_type": "execute_result"
    }
   ],
   "source": [
    "df_rc.event_distance.describe()"
   ]
  },
  {
   "cell_type": "code",
   "execution_count": null,
   "id": "3c2315bf",
   "metadata": {},
   "outputs": [],
   "source": []
  }
 ],
 "metadata": {
  "kernelspec": {
   "display_name": "Python 3",
   "language": "python",
   "name": "python3"
  },
  "language_info": {
   "codemirror_mode": {
    "name": "ipython",
    "version": 3
   },
   "file_extension": ".py",
   "mimetype": "text/x-python",
   "name": "python",
   "nbconvert_exporter": "python",
   "pygments_lexer": "ipython3",
   "version": "3.8.8"
  }
 },
 "nbformat": 4,
 "nbformat_minor": 5
}
