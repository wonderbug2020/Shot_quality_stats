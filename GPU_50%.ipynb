{
 "cells": [
  {
   "cell_type": "code",
   "execution_count": 1,
   "id": "dc62dbd4",
   "metadata": {},
   "outputs": [],
   "source": [
    "import pandas as pd\n",
    "import numpy as np\n",
    "import ModelMaker as mm\n",
    "import matplotlib.pyplot as pyplot"
   ]
  },
  {
   "cell_type": "code",
   "execution_count": 2,
   "id": "6a7bded3",
   "metadata": {},
   "outputs": [],
   "source": [
    "df_11 = pd.read_csv('data/pbp/ready_to_model/10_11_pbp_cleaned.csv')\n",
    "df_12 = pd.read_csv('data/pbp/ready_to_model/11_12_pbp_cleaned.csv')\n",
    "df_13 = pd.read_csv('data/pbp/ready_to_model/12_13_pbp_cleaned.csv')\n",
    "df_14 = pd.read_csv('data/pbp/ready_to_model/13_14_pbp_cleaned.csv')\n",
    "df_15 = pd.read_csv('data/pbp/ready_to_model/14_15_pbp_cleaned.csv')\n",
    "df_16 = pd.read_csv('data/pbp/ready_to_model/15_16_pbp_cleaned.csv')\n",
    "df_17 = pd.read_csv('data/pbp/ready_to_model/16_17_pbp_cleaned.csv')\n",
    "df_18 = pd.read_csv('data/pbp/ready_to_model/17_18_pbp_cleaned.csv')\n",
    "df_19 = pd.read_csv('data/pbp/ready_to_model/18_19_pbp_cleaned.csv')\n",
    "df_20 = pd.read_csv('data/pbp/ready_to_model/19_20_pbp_cleaned.csv')\n",
    "df_21 = pd.read_csv('data/pbp/ready_to_model/20_21_pbp_cleaned.csv')\n",
    "df_1117 = pd.concat([df_11,df_12,df_13,df_14,df_15,df_16,df_17])\n",
    "df_1121 = pd.concat([df_11,df_12,df_13,df_14,df_15,df_16,df_17,df_18,df_19,df_20,df_21])"
   ]
  },
  {
   "cell_type": "code",
   "execution_count": 5,
   "id": "3a040df9",
   "metadata": {},
   "outputs": [
    {
     "name": "stdout",
     "output_type": "stream",
     "text": [
      "Device used : cuda\n",
      "Running the TabNet DNN, this could take a while\n",
      "epoch 0  | loss: 0.06018 | train_logloss: 0.21051 | val_logloss: 0.20911 |  0:00:40s\n",
      "epoch 1  | loss: 0.052   | train_logloss: 0.19901 | val_logloss: 0.19896 |  0:01:19s\n",
      "epoch 2  | loss: 0.05158 | train_logloss: 0.19863 | val_logloss: 0.19839 |  0:01:58s\n",
      "epoch 3  | loss: 0.05141 | train_logloss: 0.19849 | val_logloss: 0.19867 |  0:02:38s\n",
      "epoch 4  | loss: 0.05126 | train_logloss: 0.19638 | val_logloss: 0.1964  |  0:03:17s\n",
      "epoch 5  | loss: 0.05116 | train_logloss: 0.19536 | val_logloss: 0.19487 |  0:03:55s\n",
      "epoch 6  | loss: 0.05107 | train_logloss: 0.19471 | val_logloss: 0.19449 |  0:04:34s\n",
      "epoch 7  | loss: 0.05087 | train_logloss: 0.19385 | val_logloss: 0.1931  |  0:05:14s\n",
      "epoch 8  | loss: 0.05063 | train_logloss: 0.19316 | val_logloss: 0.19241 |  0:05:53s\n",
      "epoch 9  | loss: 0.05055 | train_logloss: 0.1924  | val_logloss: 0.19205 |  0:06:32s\n",
      "epoch 10 | loss: 0.05051 | train_logloss: 0.19579 | val_logloss: 0.1953  |  0:07:11s\n",
      "epoch 11 | loss: 0.05047 | train_logloss: 0.19587 | val_logloss: 0.1957  |  0:07:50s\n",
      "epoch 12 | loss: 0.05047 | train_logloss: 0.19288 | val_logloss: 0.19254 |  0:08:29s\n",
      "epoch 13 | loss: 0.05045 | train_logloss: 0.19492 | val_logloss: 0.19519 |  0:09:08s\n",
      "epoch 14 | loss: 0.05038 | train_logloss: 0.19307 | val_logloss: 0.19306 |  0:09:47s\n",
      "epoch 15 | loss: 0.05061 | train_logloss: 0.19471 | val_logloss: 0.19398 |  0:10:26s\n",
      "epoch 16 | loss: 0.05053 | train_logloss: 0.19297 | val_logloss: 0.19287 |  0:11:06s\n",
      "epoch 17 | loss: 0.05037 | train_logloss: 0.19228 | val_logloss: 0.19215 |  0:11:45s\n",
      "epoch 18 | loss: 0.05068 | train_logloss: 0.19372 | val_logloss: 0.19332 |  0:12:24s\n",
      "epoch 19 | loss: 0.05039 | train_logloss: 0.19265 | val_logloss: 0.1925  |  0:13:03s\n",
      "\n",
      "Early stopping occurred at epoch 19 with best_epoch = 9 and best_val_logloss = 0.19205\n",
      "Best weights from best epoch are automatically used!\n",
      "Fitting the test data to the model\n",
      "The Log loss is 0.19453\n"
     ]
    }
   ],
   "source": [
    "#While my gpu was cut to 50% power, it took ~ 40 seconds per epoch\n",
    "mm.run_tabnet(df_1121,device='cuda')"
   ]
  },
  {
   "cell_type": "code",
   "execution_count": 3,
   "id": "c25908f0",
   "metadata": {},
   "outputs": [
    {
     "name": "stdout",
     "output_type": "stream",
     "text": [
      "Device used : cuda\n",
      "Running the TabNet DNN, this could take a while\n",
      "epoch 0  | loss: 0.06018 | train_logloss: 0.21051 | val_logloss: 0.20911 |  0:00:40s\n",
      "epoch 1  | loss: 0.052   | train_logloss: 0.19901 | val_logloss: 0.19896 |  0:01:19s\n",
      "epoch 2  | loss: 0.05158 | train_logloss: 0.19863 | val_logloss: 0.19839 |  0:01:58s\n",
      "epoch 3  | loss: 0.05141 | train_logloss: 0.19849 | val_logloss: 0.19867 |  0:02:38s\n",
      "epoch 4  | loss: 0.05126 | train_logloss: 0.19638 | val_logloss: 0.1964  |  0:03:17s\n",
      "epoch 5  | loss: 0.05116 | train_logloss: 0.19536 | val_logloss: 0.19487 |  0:03:56s\n",
      "epoch 6  | loss: 0.05107 | train_logloss: 0.19471 | val_logloss: 0.19449 |  0:04:35s\n",
      "epoch 7  | loss: 0.05087 | train_logloss: 0.19385 | val_logloss: 0.1931  |  0:05:14s\n",
      "epoch 8  | loss: 0.05063 | train_logloss: 0.19316 | val_logloss: 0.19241 |  0:05:54s\n",
      "epoch 9  | loss: 0.05055 | train_logloss: 0.1924  | val_logloss: 0.19205 |  0:06:33s\n",
      "epoch 10 | loss: 0.05051 | train_logloss: 0.19579 | val_logloss: 0.1953  |  0:07:12s\n",
      "epoch 11 | loss: 0.05047 | train_logloss: 0.19587 | val_logloss: 0.1957  |  0:07:51s\n",
      "epoch 12 | loss: 0.05047 | train_logloss: 0.19288 | val_logloss: 0.19254 |  0:08:30s\n",
      "epoch 13 | loss: 0.05045 | train_logloss: 0.19492 | val_logloss: 0.19519 |  0:09:08s\n",
      "epoch 14 | loss: 0.05038 | train_logloss: 0.19307 | val_logloss: 0.19306 |  0:09:47s\n",
      "epoch 15 | loss: 0.05061 | train_logloss: 0.19471 | val_logloss: 0.19398 |  0:10:27s\n",
      "epoch 16 | loss: 0.05053 | train_logloss: 0.19297 | val_logloss: 0.19287 |  0:11:05s\n",
      "epoch 17 | loss: 0.05037 | train_logloss: 0.19228 | val_logloss: 0.19215 |  0:11:44s\n",
      "epoch 18 | loss: 0.05068 | train_logloss: 0.19372 | val_logloss: 0.19332 |  0:12:23s\n",
      "epoch 19 | loss: 0.05039 | train_logloss: 0.19265 | val_logloss: 0.1925  |  0:13:02s\n",
      "\n",
      "Early stopping occurred at epoch 19 with best_epoch = 9 and best_val_logloss = 0.19205\n",
      "Best weights from best epoch are automatically used!\n",
      "Fitting the test data to the model\n",
      "The Log loss is 0.19453\n"
     ]
    }
   ],
   "source": [
    "#This run is at a slight OC of the graphics card\n",
    "mm.run_tabnet(df_1121,device='cuda')"
   ]
  },
  {
   "cell_type": "code",
   "execution_count": null,
   "id": "523272e5",
   "metadata": {},
   "outputs": [],
   "source": []
  }
 ],
 "metadata": {
  "kernelspec": {
   "display_name": "Python 3.7 (pytorch)",
   "language": "python",
   "name": "pytorch"
  },
  "language_info": {
   "codemirror_mode": {
    "name": "ipython",
    "version": 3
   },
   "file_extension": ".py",
   "mimetype": "text/x-python",
   "name": "python",
   "nbconvert_exporter": "python",
   "pygments_lexer": "ipython3",
   "version": "3.7.11"
  }
 },
 "nbformat": 4,
 "nbformat_minor": 5
}
