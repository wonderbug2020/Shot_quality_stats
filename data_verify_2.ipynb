{
 "cells": [
  {
   "cell_type": "code",
   "execution_count": 79,
   "id": "e6ebcf30",
   "metadata": {},
   "outputs": [],
   "source": [
    "import pandas as pd\n",
    "pd.get_option(\"display.max_columns\",None)\n",
    "pd.options.display.max_seq_items = 2000"
   ]
  },
  {
   "cell_type": "code",
   "execution_count": 23,
   "id": "a974f270",
   "metadata": {},
   "outputs": [],
   "source": [
    "#Imports the data\n",
    "df_mp = pd.read_csv('data\\PBP\\MP_data\\shots_2019.csv')\n",
    "df_eh = pd.read_csv('data\\PBP\\RAW\\pbp_query_20192020.csv',low_memory=False)"
   ]
  },
  {
   "cell_type": "code",
   "execution_count": 52,
   "id": "07e5f07b",
   "metadata": {},
   "outputs": [],
   "source": [
    "#Removes playoff games\n",
    "df_mp = df_mp[df_mp.isPlayoffGame == 0]\n",
    "#Focus on miss, shot, and goal\n",
    "df_eh = df_eh[df_eh.event_type.isin(['GOAL','MISS','SHOT'])]\n",
    "#Grabs the first game\n",
    "eh_first = df_eh[df_eh.game_id == 2019020001]\n",
    "mp_first = df_mp[df_mp.game_id == 20001]"
   ]
  },
  {
   "cell_type": "code",
   "execution_count": 77,
   "id": "3d8ff912",
   "metadata": {
    "scrolled": true
   },
   "outputs": [],
   "source": [
    "mp_lst = df_mp.game_id.unique().tolist()"
   ]
  },
  {
   "cell_type": "code",
   "execution_count": 72,
   "id": "9149124b",
   "metadata": {
    "scrolled": true
   },
   "outputs": [
    {
     "data": {
      "text/plain": [
       "1082"
      ]
     },
     "execution_count": 72,
     "metadata": {},
     "output_type": "execute_result"
    }
   ],
   "source": [
    "len(df_eh.game_id.unique())"
   ]
  },
  {
   "cell_type": "code",
   "execution_count": 84,
   "id": "a0b41d39",
   "metadata": {},
   "outputs": [
    {
     "ename": "IndexError",
     "evalue": "list index out of range",
     "output_type": "error",
     "traceback": [
      "\u001b[1;31m---------------------------------------------------------------------------\u001b[0m",
      "\u001b[1;31mIndexError\u001b[0m                                Traceback (most recent call last)",
      "\u001b[1;32m<ipython-input-84-15929593759e>\u001b[0m in \u001b[0;36m<module>\u001b[1;34m\u001b[0m\n\u001b[1;32m----> 1\u001b[1;33m \u001b[0mmp_lst\u001b[0m\u001b[1;33m[\u001b[0m\u001b[1;36m1082\u001b[0m\u001b[1;33m]\u001b[0m\u001b[1;33m\u001b[0m\u001b[1;33m\u001b[0m\u001b[0m\n\u001b[0m",
      "\u001b[1;31mIndexError\u001b[0m: list index out of range"
     ]
    }
   ],
   "source": [
    "mp_lst[1082]"
   ]
  },
  {
   "cell_type": "code",
   "execution_count": 69,
   "id": "5c33044e",
   "metadata": {},
   "outputs": [
    {
     "data": {
      "text/plain": [
       "Index(['season', 'game_id', 'game_date', 'session', 'event_index',\n",
       "       'game_period', 'game_seconds', 'clock_time', 'event_type',\n",
       "       'event_description', 'event_detail', 'event_zone', 'event_team',\n",
       "       'event_player_1', 'event_player_2', 'event_player_3', 'event_length',\n",
       "       'coords_x', 'coords_y', 'num_on', 'num_off', 'players_on',\n",
       "       'players_off', 'home_on_1', 'home_on_2', 'home_on_3', 'home_on_4',\n",
       "       'home_on_5', 'home_on_6', 'home_on_7', 'away_on_1', 'away_on_2',\n",
       "       'away_on_3', 'away_on_4', 'away_on_5', 'away_on_6', 'away_on_7',\n",
       "       'home_goalie', 'away_goalie', 'home_team', 'away_team', 'home_skaters',\n",
       "       'away_skaters', 'home_score', 'away_score', 'game_score_state',\n",
       "       'game_strength_state', 'home_zone', 'pbp_distance', 'event_distance',\n",
       "       'event_angle', 'home_zonestart', 'face_index', 'pen_index',\n",
       "       'shift_index', 'pred_goal'],\n",
       "      dtype='object')"
      ]
     },
     "execution_count": 69,
     "metadata": {},
     "output_type": "execute_result"
    }
   ],
   "source": [
    "df_eh.columns"
   ]
  },
  {
   "cell_type": "markdown",
   "id": "d391dd06",
   "metadata": {},
   "source": [
    "# Observations\n",
    "1. The first game of the season are the same for both sets, and they have the same number of events\n",
    "2. From the raw data, the shots appear to be correct across multiple periods\n",
    "3. There are the correct amount of games"
   ]
  },
  {
   "cell_type": "code",
   "execution_count": null,
   "id": "1d1619a8",
   "metadata": {},
   "outputs": [],
   "source": [
    "#Operation graveyard\n",
    "#mp_first[['homeTeamCode','awayTeamCode','event','period','xCord','yCord','xCordAdjusted']].head()\n",
    "#eh_first[['home_team','away_team','event_type','game_period','coords_x','coords_y']].head(50)"
   ]
  }
 ],
 "metadata": {
  "kernelspec": {
   "display_name": "Python 3",
   "language": "python",
   "name": "python3"
  },
  "language_info": {
   "codemirror_mode": {
    "name": "ipython",
    "version": 3
   },
   "file_extension": ".py",
   "mimetype": "text/x-python",
   "name": "python",
   "nbconvert_exporter": "python",
   "pygments_lexer": "ipython3",
   "version": "3.8.8"
  }
 },
 "nbformat": 4,
 "nbformat_minor": 5
}
