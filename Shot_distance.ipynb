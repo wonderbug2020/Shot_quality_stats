{
 "cells": [
  {
   "cell_type": "code",
   "execution_count": 1,
   "id": "f4d202dc",
   "metadata": {},
   "outputs": [],
   "source": [
    "import pandas as pd"
   ]
  },
  {
   "cell_type": "code",
   "execution_count": 2,
   "id": "29c1df82",
   "metadata": {},
   "outputs": [],
   "source": [
    "def get_shot_avg(season):\n",
    "    def get_data(season):\n",
    "        ''' User inputs the last 2 numbers of the year the playoffs are in for the season of interest\n",
    "            IE the 2020-2021 season would be 21. \n",
    "            This returns the raw data in a dataframe\n",
    "        '''\n",
    "        sea_1 = str(season-1).zfill(2)\n",
    "        sea_2 = str(season).zfill(2)\n",
    "        df = pd.read_csv(f'data/pbp/raw/pbp_query_20{sea_1}20{sea_2}.csv',low_memory=False) \n",
    "        fen_eve = df[df.event_type.isin(['GOAL','SHOT','MISS'])].shape[0]\n",
    "        print(f'There are {fen_eve} fenwick events in the raw data')\n",
    "\n",
    "        return df\n",
    "\n",
    "    def clean_data(df):\n",
    "        df = df[df.event_type.isin(['SHOT','MISS','GOAL'])].copy()\n",
    "        df['event_distance'] = ((89 - abs(df['coords_x']))**2 + df['coords_y']**2)**(1/2)\n",
    "\n",
    "        return df\n",
    "\n",
    "    def make_table(df):\n",
    "        teams = df.home_team.unique().tolist()\n",
    "        team_lst = []\n",
    "        shot_mean = []\n",
    "        for team in teams:\n",
    "            df_temp = df[df.home_team == team]\n",
    "            team_lst.append(team)\n",
    "            shot_mean.append(round(df_temp.event_distance.mean(),2))\n",
    "        dict = {'team':team_lst,'distance_mean':shot_mean}\n",
    "        shot_avg = pd.DataFrame(dict)\n",
    "        shot_avg.sort_values(by='distance_mean',ascending=True,inplace=True)\n",
    "        print(shot_avg)\n",
    "    \n",
    "    df_whole = get_data(season)\n",
    "    df = clean_data(df_whole)\n",
    "    make_table(df)"
   ]
  },
  {
   "cell_type": "code",
   "execution_count": 3,
   "id": "1caefd6d",
   "metadata": {},
   "outputs": [
    {
     "name": "stdout",
     "output_type": "stream",
     "text": [
      "There are 71759 fenwick events in the raw data\n",
      "   team  distance_mean\n",
      "26  CHI          31.50\n",
      "18  NYI          31.70\n",
      "20  ANA          31.97\n",
      "23  CAR          33.04\n",
      "3   EDM          33.21\n",
      "2   TOR          33.22\n",
      "7   NYR          33.23\n",
      "13  VGK          33.23\n",
      "30  S.J          33.54\n",
      "11  WPG          33.67\n",
      "21  VAN          33.69\n",
      "1   T.B          33.74\n",
      "28  DAL          33.85\n",
      "16  CGY          34.15\n",
      "12  ARI          34.22\n",
      "14  L.A          34.26\n",
      "9   DET          34.36\n",
      "17  PIT          34.59\n",
      "6   N.J          34.90\n",
      "25  WSH          34.90\n",
      "19  STL          35.13\n",
      "24  CBJ          35.13\n",
      "4   COL          35.31\n",
      "10  NSH          35.36\n",
      "29  MTL          35.60\n",
      "15  OTT          35.71\n",
      "8   FLA          35.82\n",
      "5   BUF          35.82\n",
      "22  BOS          35.89\n",
      "0   PHI          36.50\n",
      "27  MIN          36.85\n"
     ]
    }
   ],
   "source": [
    "get_shot_avg(21)"
   ]
  },
  {
   "cell_type": "code",
   "execution_count": 4,
   "id": "c18a9189",
   "metadata": {},
   "outputs": [
    {
     "name": "stdout",
     "output_type": "stream",
     "text": [
      "There are 93761 fenwick events in the raw data\n",
      "   team  distance_mean\n",
      "27  CHI          31.37\n",
      "5   NYR          32.72\n",
      "11  ANA          32.72\n",
      "9   DAL          32.97\n",
      "13  NYI          33.18\n",
      "1   STL          33.63\n",
      "7   CAR          33.68\n",
      "16  S.J          33.70\n",
      "24  VAN          33.93\n",
      "3   VGK          34.04\n",
      "23  DET          34.06\n",
      "20  WSH          34.35\n",
      "22  CGY          34.53\n",
      "19  FLA          34.69\n",
      "6   PIT          34.72\n",
      "2   EDM          34.80\n",
      "18  OTT          34.81\n",
      "28  L.A          34.85\n",
      "0   TOR          34.93\n",
      "12  N.J          35.04\n",
      "8   NSH          35.23\n",
      "21  ARI          35.29\n",
      "17  BUF          35.60\n",
      "26  WPG          35.66\n",
      "4   T.B          35.73\n",
      "10  COL          35.87\n",
      "29  BOS          35.99\n",
      "15  PHI          36.33\n",
      "14  CBJ          36.55\n",
      "25  MTL          37.23\n",
      "30  MIN          38.35\n"
     ]
    }
   ],
   "source": [
    "get_shot_avg(20)"
   ]
  },
  {
   "cell_type": "code",
   "execution_count": 5,
   "id": "5f8fb04c",
   "metadata": {},
   "outputs": [
    {
     "name": "stdout",
     "output_type": "stream",
     "text": [
      "There are 110870 fenwick events in the raw data\n",
      "   team  distance_mean\n",
      "5   NYR          31.32\n",
      "22  CHI          31.53\n",
      "24  ANA          31.86\n",
      "10  STL          32.30\n",
      "18  NYI          32.62\n",
      "30  EDM          32.82\n",
      "6   PIT          32.97\n",
      "11  DAL          32.97\n",
      "9   DET          33.29\n",
      "13  VGK          33.65\n",
      "1   WSH          33.80\n",
      "3   S.J          33.86\n",
      "21  CGY          33.94\n",
      "14  CBJ          34.08\n",
      "7   CAR          34.18\n",
      "26  NSH          34.29\n",
      "0   TOR          34.33\n",
      "2   VAN          34.73\n",
      "15  L.A          34.73\n",
      "17  N.J          35.15\n",
      "16  T.B          35.24\n",
      "12  COL          35.26\n",
      "28  FLA          35.30\n",
      "20  ARI          35.32\n",
      "27  WPG          35.54\n",
      "4   BUF          35.84\n",
      "29  MTL          36.15\n",
      "23  BOS          36.39\n",
      "8   OTT          36.57\n",
      "25  PHI          36.61\n",
      "19  MIN          37.22\n"
     ]
    }
   ],
   "source": [
    "get_shot_avg(19)"
   ]
  },
  {
   "cell_type": "code",
   "execution_count": 6,
   "id": "e79e3017",
   "metadata": {},
   "outputs": [
    {
     "name": "stdout",
     "output_type": "stream",
     "text": [
      "There are 113070 fenwick events in the raw data\n",
      "   team  distance_mean\n",
      "6   NYR          31.12\n",
      "10  ANA          32.14\n",
      "9   CHI          32.36\n",
      "1   PIT          32.66\n",
      "18  NYI          32.80\n",
      "15  TOR          32.99\n",
      "2   EDM          33.00\n",
      "21  STL          33.39\n",
      "8   DET          33.75\n",
      "26  NSH          33.91\n",
      "19  WSH          34.11\n",
      "12  CBJ          34.13\n",
      "3   S.J          34.24\n",
      "20  CAR          34.33\n",
      "11  L.A          34.34\n",
      "24  VAN          34.37\n",
      "14  DAL          34.39\n",
      "17  N.J          34.52\n",
      "22  ARI          34.52\n",
      "27  VGK          34.66\n",
      "23  CGY          34.71\n",
      "25  MTL          34.71\n",
      "16  FLA          35.05\n",
      "4   BOS          35.37\n",
      "13  T.B          36.08\n",
      "28  COL          36.39\n",
      "30  MIN          36.44\n",
      "0   WPG          36.49\n",
      "7   OTT          36.58\n",
      "29  PHI          36.58\n",
      "5   BUF          37.05\n"
     ]
    }
   ],
   "source": [
    "get_shot_avg(18)"
   ]
  }
 ],
 "metadata": {
  "kernelspec": {
   "display_name": "Python 3",
   "language": "python",
   "name": "python3"
  },
  "language_info": {
   "codemirror_mode": {
    "name": "ipython",
    "version": 3
   },
   "file_extension": ".py",
   "mimetype": "text/x-python",
   "name": "python",
   "nbconvert_exporter": "python",
   "pygments_lexer": "ipython3",
   "version": "3.8.8"
  }
 },
 "nbformat": 4,
 "nbformat_minor": 5
}
