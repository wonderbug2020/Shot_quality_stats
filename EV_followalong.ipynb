{
 "cells": [
  {
   "cell_type": "code",
   "execution_count": null,
   "id": "67b972ba",
   "metadata": {},
   "outputs": [],
   "source": [
    "#I am using this notebook as practice to follow along with evolving hockeys tutorial\n",
    "#on how they calculate their expected goal value. link to the tutorial is here\n",
    "#https://evolving-hockey.com/blog/a-new-expected-goals-model-for-predicting-goals-in-the-nhl/"
   ]
  },
  {
   "cell_type": "code",
   "execution_count": 1,
   "id": "e185a9a4",
   "metadata": {},
   "outputs": [],
   "source": [
    "import pandas as pd\n",
    "import numpy as np"
   ]
  },
  {
   "cell_type": "code",
   "execution_count": 2,
   "id": "b56ea7bc",
   "metadata": {},
   "outputs": [],
   "source": [
    "#df_import = pd.read_csv('data/washington_sample.csv')\n",
    "df_import = pd.read_csv('data/march_4th_sample.csv')"
   ]
  },
  {
   "cell_type": "code",
   "execution_count": null,
   "id": "ade281f7",
   "metadata": {},
   "outputs": [],
   "source": [
    "filter_list = ['FAC', 'HIT', 'MISS', 'SHOT', 'BLOCK', 'GIVE', 'TAKE', 'GOAL']\n",
    "df_event_fill = df_import[df_import['event_type'].isin(filter_list)]"
   ]
  },
  {
   "cell_type": "code",
   "execution_count": null,
   "id": "0d859976",
   "metadata": {},
   "outputs": [],
   "source": [
    "df_event_fill.head()"
   ]
  },
  {
   "cell_type": "code",
   "execution_count": 3,
   "id": "369e3bb7",
   "metadata": {},
   "outputs": [],
   "source": [
    "#df = df_event_fill.copy()\n",
    "df = df_import.copy()"
   ]
  },
  {
   "cell_type": "code",
   "execution_count": 4,
   "id": "8be0f6b7",
   "metadata": {},
   "outputs": [],
   "source": [
    "#This page was helpful https://stackoverflow.com/questions/39109045/numpy-where-with-multiple-conditions\n",
    "#Conditions for extracting the zone\n",
    "col = 'event_description'\n",
    "conditions = [df[col].str.contains('Off. Zone', na=False), df[col].str.contains('Def. Zone', na=False), \n",
    "              df[col].str.contains('Neu. Zone', na=False)]\n",
    "choices = ['Off', 'Def','Neu']\n",
    "fenwick = ['SHOT', 'MISS', 'GOAL']\n",
    "corsi = ['SHOT', 'MISS', 'GOAL', 'BLOCK']\n",
    "correction = ['Tip-In', 'Wrap-around', 'Deflected']"
   ]
  },
  {
   "cell_type": "code",
   "execution_count": 5,
   "id": "a62bcd8b",
   "metadata": {},
   "outputs": [],
   "source": [
    "df['event_distance'] = ((89 - abs(df['coords_x']))**2 + df['coords_y']**2)**(1/2)\n",
    "df['event_angle'] = abs(np.arctan(df['coords_y'] / (89 - abs(df['coords_x']))) * (180 / np.pi))\n",
    "df['pre_event_zone'] = np.select(conditions, choices, default=np.nan)\n",
    "df['pre_event_zone_2'] = np.where((df.pre_event_zone == 'Def') & \n",
    "                                  (df.event_type == 'BLOCK'), \n",
    "                                  'Off',df.pre_event_zone)\n",
    "df['pre_event_zone_3'] = np.where((df.event_type.isin(fenwick)) & \n",
    "                                  (df.event_zone == 'Def') & \n",
    "                                  (df.pbp_distance <= 64),\n",
    "                                  'Off',df.pre_event_zone)\n",
    "df['event_distance_long'] = np.where((df.event_type.isin(fenwick)) & \n",
    "                                     (df.pbp_distance > 89) &\n",
    "                                     (df.coords_x < 0) &\n",
    "                                     (~df.event_detail.isin(correction)) &~\n",
    "                                     ((df.pbp_distance > 89) & (df.event_zone == 'Off')),\n",
    "                                     (((abs(df.coords_x)+89)**2) + df.coords_y**2)**(1/2)\n",
    "                                     ,df.event_distance)\n",
    "df['event_distance_long_2'] = np.where((df.event_type.isin(fenwick)) & \n",
    "                                     (df.pbp_distance > 89) &\n",
    "                                     (df.coords_x > 0) &\n",
    "                                     (~df.event_detail.isin(correction)) &~\n",
    "                                     ((df.pbp_distance > 89) & (df.event_zone == 'Off')),\n",
    "                                     (((df.coords_x+89)**2) + df.coords_y**2)**(1/2)\n",
    "                                     ,df.event_distance)\n",
    "df['event_angle_long'] = np.where((df.event_type.isin(fenwick)) & \n",
    "                                     (df.pbp_distance > 89) &\n",
    "                                     (df.coords_x < 0) &\n",
    "                                     (~df.event_detail.isin(correction)) &~\n",
    "                                     ((df.pbp_distance > 89) & (df.event_zone == 'Off')),\n",
    "                                     abs(np.arctan(df['coords_y']/(abs(df['coords_x'])+89))*(180 / np.pi))\n",
    "                                     ,df.event_angle)\n",
    "df['event_angle_long_2'] = np.where((df.event_type.isin(fenwick)) & \n",
    "                                     (df.pbp_distance > 89) &\n",
    "                                     (df.coords_x > 0) &\n",
    "                                     (~df.event_detail.isin(correction)) &~\n",
    "                                     ((df.pbp_distance > 89) & (df.event_zone == 'Off')),\n",
    "                                     abs(np.arctan(df['coords_y']/(df['coords_x']+89))*(180 / np.pi))\n",
    "                                     ,df.event_angle)\n",
    "df['event_zone_long'] = np.where((df.event_type.isin(fenwick)) & \n",
    "                                     (df.event_zone == 'Def') &\n",
    "                                     (df.pbp_distance <= 64),\n",
    "                                     'Off',\n",
    "                                     df.event_zone)\n",
    "df['game_strength_state'] = np.where((df.event_description.str.contains('penalty shot', na=False)) &\n",
    "                                     (df.event_team == df.home_team),\n",
    "                                     'Ev1',\n",
    "                                     df.game_strength_state)\n",
    "df['game_strength_state'] = np.where((df.event_description.str.contains('penalty shot', na=False)) &\n",
    "                                     (df.event_team == df.away_team),\n",
    "                                     '1vE',\n",
    "                                     df.game_strength_state)\n",
    "df['home_skaters'] = np.where((df.event_description.str.contains('penalty shot', na=False)) &\n",
    "                                     (df.event_team == df.home_team),\n",
    "                                     1,\n",
    "                                     df.home_skaters)\n",
    "df['home_skaters'] = np.where((df.event_description.str.contains('penalty shot', na=False)) &\n",
    "                                     (df.event_team == df.away_team),\n",
    "                                     0,\n",
    "                                     df.home_skaters)\n",
    "df['away_skaters'] = np.where((df.event_description.str.contains('penalty shot', na=False)) &\n",
    "                                     (df.event_team == df.home_team),\n",
    "                                     0,\n",
    "                                     df.away_skaters)\n",
    "df['away_skaters'] = np.where((df.event_description.str.contains('penalty shot', na=False)) &\n",
    "                                     (df.event_team == df.away_team),\n",
    "                                     1,\n",
    "                                     df.away_skaters)"
   ]
  },
  {
   "cell_type": "code",
   "execution_count": 6,
   "id": "65ef4770",
   "metadata": {},
   "outputs": [],
   "source": [
    "event_interest = [\"FAC\", \"GOAL\", \"BLOCK\", \"SHOT\", \"MISS\", \"HIT\", \"TAKE\", \"GIVE\"]\n",
    "filter_1 = df.event_type.isin(event_interest)\n",
    "filter_2 = df.game_period < 5\n",
    "filter_3 = ~df.event_description.str.contains('penalty shot', na=False)\n",
    "filter_4 = df.coords_x.isna()\n",
    "filter_5 = df.coords_y.isna()\n",
    "filter_6 = ~((df.coords_x == 0) &\n",
    "             (df.coords_y == 0) &\n",
    "             (df.event_type.isin(corsi)) &\n",
    "             ((df.pbp_distance != 90) & (df.event_type.isin(fenwick))))"
   ]
  },
  {
   "cell_type": "code",
   "execution_count": 7,
   "id": "11bc7be4",
   "metadata": {},
   "outputs": [],
   "source": [
    "#df_2 = df[filter_1 & filter_2 & filter_3 & filter_4 & filter_5 & filter_6].copy()\n",
    "df = df[filter_1 & filter_2 & filter_3 & filter_6].copy()"
   ]
  },
  {
   "cell_type": "code",
   "execution_count": 8,
   "id": "aa93f668",
   "metadata": {},
   "outputs": [],
   "source": [
    "df.dropna(subset=['coords_x','coords_y'],inplace=True)"
   ]
  },
  {
   "cell_type": "code",
   "execution_count": 14,
   "id": "685ee737",
   "metadata": {},
   "outputs": [],
   "source": [
    "df = df.groupby(['season', 'game_id', 'game_period']).apply(lambda x: x.sort_values(['event_index']))"
   ]
  },
  {
   "cell_type": "code",
   "execution_count": 18,
   "id": "f52ae18c",
   "metadata": {},
   "outputs": [],
   "source": [
    "df['seconds_since_last'] = df.game_seconds - df.game_seconds.shift(1)\n",
    "df['event_type_last'] = df.event_type.shift(1)\n",
    "df['event_team_last'] = df.event_team.shift(1)\n",
    "df['event_strength_last'] = df.event_strength.shift(1)\n",
    "df['coords_x_last'] = df.coords_x.shift(1)\n",
    "df['coords_y_last'] = df.coords_y.shift(1)"
   ]
  },
  {
   "cell_type": "code",
   "execution_count": null,
   "id": "3b00aeb0",
   "metadata": {},
   "outputs": [],
   "source": []
  },
  {
   "cell_type": "code",
   "execution_count": null,
   "id": "03d024ef",
   "metadata": {},
   "outputs": [],
   "source": []
  },
  {
   "cell_type": "code",
   "execution_count": 16,
   "id": "9085befb",
   "metadata": {},
   "outputs": [
    {
     "data": {
      "text/plain": [
       "season    game_id     game_period    \n",
       "20202021  2020020163  1            6      NaN\n",
       "                                   7     43.0\n",
       "                                   11    24.0\n",
       "                                   12    11.0\n",
       "                                   15     0.0\n",
       "Name: seconds_since_last, dtype: float64"
      ]
     },
     "execution_count": 16,
     "metadata": {},
     "output_type": "execute_result"
    }
   ],
   "source": [
    "df.seconds_since_last.head()"
   ]
  },
  {
   "cell_type": "code",
   "execution_count": null,
   "id": "6c6491a4",
   "metadata": {},
   "outputs": [],
   "source": [
    "df.head()"
   ]
  },
  {
   "cell_type": "code",
   "execution_count": null,
   "id": "69d626eb",
   "metadata": {},
   "outputs": [],
   "source": [
    "df.columns"
   ]
  },
  {
   "cell_type": "code",
   "execution_count": null,
   "id": "b899c920",
   "metadata": {},
   "outputs": [],
   "source": [
    "df.game_period.head()"
   ]
  },
  {
   "cell_type": "code",
   "execution_count": null,
   "id": "9cfbd6b7",
   "metadata": {},
   "outputs": [],
   "source": []
  }
 ],
 "metadata": {
  "kernelspec": {
   "display_name": "Python 3",
   "language": "python",
   "name": "python3"
  },
  "language_info": {
   "codemirror_mode": {
    "name": "ipython",
    "version": 3
   },
   "file_extension": ".py",
   "mimetype": "text/x-python",
   "name": "python",
   "nbconvert_exporter": "python",
   "pygments_lexer": "ipython3",
   "version": "3.8.8"
  }
 },
 "nbformat": 4,
 "nbformat_minor": 5
}
