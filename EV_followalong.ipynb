{
 "cells": [
  {
   "cell_type": "code",
   "execution_count": null,
   "id": "67b972ba",
   "metadata": {},
   "outputs": [],
   "source": [
    "#I am using this notebook as practice to follow along with evolving hockeys tutorial\n",
    "#on how they calculate their expected goal value. link to the tutorial is here\n",
    "#https://evolving-hockey.com/blog/a-new-expected-goals-model-for-predicting-goals-in-the-nhl/"
   ]
  },
  {
   "cell_type": "code",
   "execution_count": 73,
   "id": "e185a9a4",
   "metadata": {},
   "outputs": [],
   "source": [
    "import pandas as pd\n",
    "import numpy as np"
   ]
  },
  {
   "cell_type": "code",
   "execution_count": 74,
   "id": "b56ea7bc",
   "metadata": {},
   "outputs": [],
   "source": [
    "df_import = pd.read_csv('data/washington_sample.csv')"
   ]
  },
  {
   "cell_type": "code",
   "execution_count": 75,
   "id": "ade281f7",
   "metadata": {},
   "outputs": [],
   "source": [
    "filter_list = ['FAC', 'HIT', 'MISS', 'SHOT', 'BLOCK', 'GIVE', 'TAKE', 'GOAL']\n",
    "df_event_fill = df_import[df_import['event_type'].isin(filter_list)]"
   ]
  },
  {
   "cell_type": "code",
   "execution_count": 8,
   "id": "0d859976",
   "metadata": {},
   "outputs": [
    {
     "data": {
      "text/html": [
       "<div>\n",
       "<style scoped>\n",
       "    .dataframe tbody tr th:only-of-type {\n",
       "        vertical-align: middle;\n",
       "    }\n",
       "\n",
       "    .dataframe tbody tr th {\n",
       "        vertical-align: top;\n",
       "    }\n",
       "\n",
       "    .dataframe thead th {\n",
       "        text-align: right;\n",
       "    }\n",
       "</style>\n",
       "<table border=\"1\" class=\"dataframe\">\n",
       "  <thead>\n",
       "    <tr style=\"text-align: right;\">\n",
       "      <th></th>\n",
       "      <th>season</th>\n",
       "      <th>game_id</th>\n",
       "      <th>game_date</th>\n",
       "      <th>session</th>\n",
       "      <th>event_index</th>\n",
       "      <th>game_period</th>\n",
       "      <th>game_seconds</th>\n",
       "      <th>clock_time</th>\n",
       "      <th>event_type</th>\n",
       "      <th>event_description</th>\n",
       "      <th>...</th>\n",
       "      <th>game_strength_state</th>\n",
       "      <th>home_zone</th>\n",
       "      <th>pbp_distance</th>\n",
       "      <th>event_distance</th>\n",
       "      <th>event_angle</th>\n",
       "      <th>home_zonestart</th>\n",
       "      <th>face_index</th>\n",
       "      <th>pen_index</th>\n",
       "      <th>shift_index</th>\n",
       "      <th>pred_goal</th>\n",
       "    </tr>\n",
       "  </thead>\n",
       "  <tbody>\n",
       "    <tr>\n",
       "      <th>0</th>\n",
       "      <td>20202021</td>\n",
       "      <td>2020020359</td>\n",
       "      <td>2021-03-03</td>\n",
       "      <td>R</td>\n",
       "      <td>7</td>\n",
       "      <td>1</td>\n",
       "      <td>0</td>\n",
       "      <td>20:00</td>\n",
       "      <td>FAC</td>\n",
       "      <td>WSH won Neu. Zone - WSH #26 DOWD vs BOS #52 KU...</td>\n",
       "      <td>...</td>\n",
       "      <td>5v5</td>\n",
       "      <td>Neu</td>\n",
       "      <td>NaN</td>\n",
       "      <td>89.00</td>\n",
       "      <td>0.00</td>\n",
       "      <td>2.0</td>\n",
       "      <td>1</td>\n",
       "      <td>0</td>\n",
       "      <td>2</td>\n",
       "      <td>NaN</td>\n",
       "    </tr>\n",
       "    <tr>\n",
       "      <th>1</th>\n",
       "      <td>20202021</td>\n",
       "      <td>2020020359</td>\n",
       "      <td>2021-03-03</td>\n",
       "      <td>R</td>\n",
       "      <td>8</td>\n",
       "      <td>1</td>\n",
       "      <td>24</td>\n",
       "      <td>19:36</td>\n",
       "      <td>HIT</td>\n",
       "      <td>BOS #10 BJORK HIT WSH #3 JENSEN, Off. Zone</td>\n",
       "      <td>...</td>\n",
       "      <td>5v5</td>\n",
       "      <td>Off</td>\n",
       "      <td>NaN</td>\n",
       "      <td>30.59</td>\n",
       "      <td>78.69</td>\n",
       "      <td>NaN</td>\n",
       "      <td>1</td>\n",
       "      <td>0</td>\n",
       "      <td>2</td>\n",
       "      <td>NaN</td>\n",
       "    </tr>\n",
       "    <tr>\n",
       "      <th>2</th>\n",
       "      <td>20202021</td>\n",
       "      <td>2020020359</td>\n",
       "      <td>2021-03-03</td>\n",
       "      <td>R</td>\n",
       "      <td>10</td>\n",
       "      <td>1</td>\n",
       "      <td>33</td>\n",
       "      <td>19:27</td>\n",
       "      <td>HIT</td>\n",
       "      <td>BOS #75 CLIFTON HIT WSH #26 DOWD, Def. Zone</td>\n",
       "      <td>...</td>\n",
       "      <td>5v5</td>\n",
       "      <td>Def</td>\n",
       "      <td>NaN</td>\n",
       "      <td>21.84</td>\n",
       "      <td>74.05</td>\n",
       "      <td>NaN</td>\n",
       "      <td>1</td>\n",
       "      <td>0</td>\n",
       "      <td>3</td>\n",
       "      <td>NaN</td>\n",
       "    </tr>\n",
       "    <tr>\n",
       "      <th>3</th>\n",
       "      <td>20202021</td>\n",
       "      <td>2020020359</td>\n",
       "      <td>2021-03-03</td>\n",
       "      <td>R</td>\n",
       "      <td>15</td>\n",
       "      <td>1</td>\n",
       "      <td>79</td>\n",
       "      <td>18:41</td>\n",
       "      <td>MISS</td>\n",
       "      <td>WSH #8 OVECHKIN, Slap, Wide of Net, Off. Zone,...</td>\n",
       "      <td>...</td>\n",
       "      <td>5v5</td>\n",
       "      <td>Def</td>\n",
       "      <td>32.0</td>\n",
       "      <td>32.28</td>\n",
       "      <td>16.19</td>\n",
       "      <td>2.0</td>\n",
       "      <td>1</td>\n",
       "      <td>0</td>\n",
       "      <td>7</td>\n",
       "      <td>0.045674</td>\n",
       "    </tr>\n",
       "    <tr>\n",
       "      <th>4</th>\n",
       "      <td>20202021</td>\n",
       "      <td>2020020359</td>\n",
       "      <td>2021-03-03</td>\n",
       "      <td>R</td>\n",
       "      <td>18</td>\n",
       "      <td>1</td>\n",
       "      <td>101</td>\n",
       "      <td>18:19</td>\n",
       "      <td>HIT</td>\n",
       "      <td>WSH #4 DILLON HIT BOS #63 MARCHAND, Def. Zone</td>\n",
       "      <td>...</td>\n",
       "      <td>5v5</td>\n",
       "      <td>Off</td>\n",
       "      <td>NaN</td>\n",
       "      <td>59.03</td>\n",
       "      <td>38.81</td>\n",
       "      <td>NaN</td>\n",
       "      <td>1</td>\n",
       "      <td>0</td>\n",
       "      <td>9</td>\n",
       "      <td>NaN</td>\n",
       "    </tr>\n",
       "  </tbody>\n",
       "</table>\n",
       "<p>5 rows × 56 columns</p>\n",
       "</div>"
      ],
      "text/plain": [
       "     season     game_id   game_date session  event_index  game_period  \\\n",
       "0  20202021  2020020359  2021-03-03       R            7            1   \n",
       "1  20202021  2020020359  2021-03-03       R            8            1   \n",
       "2  20202021  2020020359  2021-03-03       R           10            1   \n",
       "3  20202021  2020020359  2021-03-03       R           15            1   \n",
       "4  20202021  2020020359  2021-03-03       R           18            1   \n",
       "\n",
       "   game_seconds clock_time event_type  \\\n",
       "0             0      20:00        FAC   \n",
       "1            24      19:36        HIT   \n",
       "2            33      19:27        HIT   \n",
       "3            79      18:41       MISS   \n",
       "4           101      18:19        HIT   \n",
       "\n",
       "                                   event_description  ... game_strength_state  \\\n",
       "0  WSH won Neu. Zone - WSH #26 DOWD vs BOS #52 KU...  ...                 5v5   \n",
       "1         BOS #10 BJORK HIT WSH #3 JENSEN, Off. Zone  ...                 5v5   \n",
       "2        BOS #75 CLIFTON HIT WSH #26 DOWD, Def. Zone  ...                 5v5   \n",
       "3  WSH #8 OVECHKIN, Slap, Wide of Net, Off. Zone,...  ...                 5v5   \n",
       "4      WSH #4 DILLON HIT BOS #63 MARCHAND, Def. Zone  ...                 5v5   \n",
       "\n",
       "  home_zone pbp_distance event_distance event_angle home_zonestart  \\\n",
       "0       Neu          NaN          89.00        0.00            2.0   \n",
       "1       Off          NaN          30.59       78.69            NaN   \n",
       "2       Def          NaN          21.84       74.05            NaN   \n",
       "3       Def         32.0          32.28       16.19            2.0   \n",
       "4       Off          NaN          59.03       38.81            NaN   \n",
       "\n",
       "   face_index  pen_index  shift_index  pred_goal  \n",
       "0           1          0            2        NaN  \n",
       "1           1          0            2        NaN  \n",
       "2           1          0            3        NaN  \n",
       "3           1          0            7   0.045674  \n",
       "4           1          0            9        NaN  \n",
       "\n",
       "[5 rows x 56 columns]"
      ]
     },
     "execution_count": 8,
     "metadata": {},
     "output_type": "execute_result"
    }
   ],
   "source": [
    "df_event_fill.head()"
   ]
  },
  {
   "cell_type": "code",
   "execution_count": 76,
   "id": "369e3bb7",
   "metadata": {},
   "outputs": [],
   "source": [
    "df = df_event_fill.copy()"
   ]
  },
  {
   "cell_type": "code",
   "execution_count": 77,
   "id": "8be0f6b7",
   "metadata": {},
   "outputs": [],
   "source": [
    "#This page was helpful https://stackoverflow.com/questions/39109045/numpy-where-with-multiple-conditions\n",
    "#Conditions for extracting the zone\n",
    "col = 'event_description'\n",
    "conditions = [df[col].str.contains('Off. Zone', na=False), df[col].str.contains('Def. Zone', na=False), \n",
    "              df[col].str.contains('Neu. Zone', na=False)]\n",
    "choices = ['Off', 'Def','Neu']\n",
    "fenwick = ['SHOT', 'MISS', 'GOAL']\n",
    "corsi = ['SHOT', 'MISS', 'GOAL', 'BLOCK']\n",
    "correction = ['Tip-In', 'Wrap-around', 'Deflected']"
   ]
  },
  {
   "cell_type": "code",
   "execution_count": 78,
   "id": "a62bcd8b",
   "metadata": {},
   "outputs": [],
   "source": [
    "df['event_distance'] = ((89 - abs(df['coords_x']))**2 + df['coords_y']**2)**(1/2)\n",
    "df['event_angle'] = abs(np.arctan(df['coords_y'] / (89 - abs(df['coords_x']))) * (180 / np.pi))\n",
    "df['pre_event_zone'] = np.select(conditions, choices, default=np.nan)\n",
    "df['pre_event_zone_2'] = np.where((df.pre_event_zone == 'Def') & \n",
    "                                  (df.event_type == 'BLOCK'), \n",
    "                                  'Off',df.pre_event_zone)\n",
    "df['pre_event_zone_3'] = np.where((df.event_type.isin(fenwick)) & \n",
    "                                  (df.event_zone == 'Def') & \n",
    "                                  (df.pbp_distance <= 64),\n",
    "                                  'Off',df.pre_event_zone)\n",
    "df['event_distance_long'] = np.where((df.event_type.isin(fenwick)) & \n",
    "                                     (df.pbp_distance > 89) &\n",
    "                                     (df.coords_x < 0) &\n",
    "                                     (~df.event_detail.isin(correction)) &~\n",
    "                                     ((df.pbp_distance > 89) & (df.event_zone == 'Off')),\n",
    "                                     (((abs(df.coords_x)+89)**2) + df.coords_y**2)**(1/2)\n",
    "                                     ,df.event_distance)\n",
    "df['event_distance_long_2'] = np.where((df.event_type.isin(fenwick)) & \n",
    "                                     (df.pbp_distance > 89) &\n",
    "                                     (df.coords_x > 0) &\n",
    "                                     (~df.event_detail.isin(correction)) &~\n",
    "                                     ((df.pbp_distance > 89) & (df.event_zone == 'Off')),\n",
    "                                     (((df.coords_x+89)**2) + df.coords_y**2)**(1/2)\n",
    "                                     ,df.event_distance)\n",
    "df['event_angle_long'] = np.where((df.event_type.isin(fenwick)) & \n",
    "                                     (df.pbp_distance > 89) &\n",
    "                                     (df.coords_x < 0) &\n",
    "                                     (~df.event_detail.isin(correction)) &~\n",
    "                                     ((df.pbp_distance > 89) & (df.event_zone == 'Off')),\n",
    "                                     abs(np.arctan(df['coords_y']/(abs(df['coords_x'])+89))*(180 / np.pi))\n",
    "                                     ,df.event_angle)\n",
    "df['event_angle_long_2'] = np.where((df.event_type.isin(fenwick)) & \n",
    "                                     (df.pbp_distance > 89) &\n",
    "                                     (df.coords_x > 0) &\n",
    "                                     (~df.event_detail.isin(correction)) &~\n",
    "                                     ((df.pbp_distance > 89) & (df.event_zone == 'Off')),\n",
    "                                     abs(np.arctan(df['coords_y']/(df['coords_x']+89))*(180 / np.pi))\n",
    "                                     ,df.event_angle)\n",
    "df['event_zone_long'] = np.where((df.event_type.isin(fenwick)) & \n",
    "                                     (df.event_zone == 'Def') &\n",
    "                                     (df.pbp_distance <= 64),\n",
    "                                     'Off',\n",
    "                                     df.event_zone)\n",
    "df['game_strength_state'] = np.where((df.event_description.str.contains('penalty shot', na=False)) &\n",
    "                                     (df.event_team == df.home_team),\n",
    "                                     'Ev1',\n",
    "                                     df.game_strength_state)\n",
    "df['game_strength_state'] = np.where((df.event_description.str.contains('penalty shot', na=False)) &\n",
    "                                     (df.event_team == df.away_team),\n",
    "                                     '1vE',\n",
    "                                     df.game_strength_state)\n",
    "df['home_skaters'] = np.where((df.event_description.str.contains('penalty shot', na=False)) &\n",
    "                                     (df.event_team == df.home_team),\n",
    "                                     1,\n",
    "                                     df.home_skaters)\n",
    "df['home_skaters'] = np.where((df.event_description.str.contains('penalty shot', na=False)) &\n",
    "                                     (df.event_team == df.away_team),\n",
    "                                     0,\n",
    "                                     df.home_skaters)\n",
    "df['away_skaters'] = np.where((df.event_description.str.contains('penalty shot', na=False)) &\n",
    "                                     (df.event_team == df.home_team),\n",
    "                                     0,\n",
    "                                     df.away_skaters)\n",
    "df['away_skaters'] = np.where((df.event_description.str.contains('penalty shot', na=False)) &\n",
    "                                     (df.event_team == df.away_team),\n",
    "                                     1,\n",
    "                                     df.away_skaters)"
   ]
  },
  {
   "cell_type": "code",
   "execution_count": 79,
   "id": "65ef4770",
   "metadata": {},
   "outputs": [],
   "source": [
    "event_interest = [\"FAC\", \"GOAL\", \"BLOCK\", \"SHOT\", \"MISS\", \"HIT\", \"TAKE\", \"GIVE\"]\n",
    "filter_1 = df.event_type.isin(event_interest)\n",
    "filter_2 = df.game_period < 5\n",
    "filter_3 = ~df.event_description.str.contains('penalty shot', na=False)\n",
    "filter_4 = df.coords_x.isna()\n",
    "filter_5 = df.coords_y.isna()\n",
    "filter_6 = ~((df.coords_x == 0) &\n",
    "             (df.coords_y == 0) &\n",
    "             (df.event_type.isin(corsi)) &\n",
    "             ((df.pbp_distance != 90) & (df.event_type.isin(fenwick))))"
   ]
  },
  {
   "cell_type": "code",
   "execution_count": 93,
   "id": "11bc7be4",
   "metadata": {},
   "outputs": [],
   "source": [
    "#df_2 = df[filter_1 & filter_2 & filter_3 & filter_4 & filter_5 & filter_6].copy()\n",
    "df_2 = df[filter_1 & filter_2 & filter_3 & filter_6].copy()"
   ]
  },
  {
   "cell_type": "code",
   "execution_count": 96,
   "id": "aa93f668",
   "metadata": {},
   "outputs": [],
   "source": [
    "df_2.dropna(subset=['coords_x','coords_y'],inplace=True)"
   ]
  },
  {
   "cell_type": "code",
   "execution_count": null,
   "id": "685ee737",
   "metadata": {},
   "outputs": [],
   "source": []
  },
  {
   "cell_type": "code",
   "execution_count": 97,
   "id": "7d54ac57",
   "metadata": {},
   "outputs": [
    {
     "data": {
      "text/plain": [
       "234"
      ]
     },
     "execution_count": 97,
     "metadata": {},
     "output_type": "execute_result"
    }
   ],
   "source": [
    "df_2.shape[0]"
   ]
  },
  {
   "cell_type": "code",
   "execution_count": 82,
   "id": "cee32ff7",
   "metadata": {},
   "outputs": [
    {
     "data": {
      "text/plain": [
       "239"
      ]
     },
     "execution_count": 82,
     "metadata": {},
     "output_type": "execute_result"
    }
   ],
   "source": [
    "df.shape[0]"
   ]
  },
  {
   "cell_type": "code",
   "execution_count": 58,
   "id": "69d626eb",
   "metadata": {},
   "outputs": [
    {
     "data": {
      "text/plain": [
       "Index(['season', 'game_id', 'game_date', 'session', 'event_index',\n",
       "       'game_period', 'game_seconds', 'clock_time', 'event_type',\n",
       "       'event_description', 'event_detail', 'event_zone', 'event_team',\n",
       "       'event_player_1', 'event_player_2', 'event_player_3', 'event_length',\n",
       "       'coords_x', 'coords_y', 'num_on', 'num_off', 'players_on',\n",
       "       'players_off', 'home_on_1', 'home_on_2', 'home_on_3', 'home_on_4',\n",
       "       'home_on_5', 'home_on_6', 'home_on_7', 'away_on_1', 'away_on_2',\n",
       "       'away_on_3', 'away_on_4', 'away_on_5', 'away_on_6', 'away_on_7',\n",
       "       'home_goalie', 'away_goalie', 'home_team', 'away_team', 'home_skaters',\n",
       "       'away_skaters', 'home_score', 'away_score', 'game_score_state',\n",
       "       'game_strength_state', 'home_zone', 'pbp_distance', 'event_distance',\n",
       "       'event_angle', 'home_zonestart', 'face_index', 'pen_index',\n",
       "       'shift_index', 'pred_goal', 'pre_event_zone', 'pre_event_zone_2',\n",
       "       'pre_event_zone_3', 'event_distance_long', 'test',\n",
       "       'event_distance_long_2', 'event_angle_long', 'event_angle_long_2'],\n",
       "      dtype='object')"
      ]
     },
     "execution_count": 58,
     "metadata": {},
     "output_type": "execute_result"
    }
   ],
   "source": [
    "df.columns"
   ]
  },
  {
   "cell_type": "code",
   "execution_count": 65,
   "id": "b899c920",
   "metadata": {},
   "outputs": [
    {
     "data": {
      "text/plain": [
       "0    1\n",
       "1    1\n",
       "2    1\n",
       "3    1\n",
       "4    1\n",
       "Name: game_period, dtype: int64"
      ]
     },
     "execution_count": 65,
     "metadata": {},
     "output_type": "execute_result"
    }
   ],
   "source": [
    "df.game_period.head()"
   ]
  },
  {
   "cell_type": "code",
   "execution_count": null,
   "id": "9cfbd6b7",
   "metadata": {},
   "outputs": [],
   "source": []
  }
 ],
 "metadata": {
  "kernelspec": {
   "display_name": "Python 3",
   "language": "python",
   "name": "python3"
  },
  "language_info": {
   "codemirror_mode": {
    "name": "ipython",
    "version": 3
   },
   "file_extension": ".py",
   "mimetype": "text/x-python",
   "name": "python",
   "nbconvert_exporter": "python",
   "pygments_lexer": "ipython3",
   "version": "3.8.8"
  }
 },
 "nbformat": 4,
 "nbformat_minor": 5
}
