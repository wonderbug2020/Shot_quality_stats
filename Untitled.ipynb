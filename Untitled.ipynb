{
 "cells": [
  {
   "cell_type": "code",
   "execution_count": 60,
   "id": "90422d5b",
   "metadata": {},
   "outputs": [],
   "source": [
    "import pandas as pd\n",
    "import matplotlib.pyplot as plt"
   ]
  },
  {
   "cell_type": "code",
   "execution_count": 13,
   "id": "515b8805",
   "metadata": {},
   "outputs": [],
   "source": [
    "df_import = pd.read_csv(\"data/shots_2019.csv\")"
   ]
  },
  {
   "cell_type": "code",
   "execution_count": 14,
   "id": "b10f1748",
   "metadata": {},
   "outputs": [
    {
     "data": {
      "text/html": [
       "<div>\n",
       "<style scoped>\n",
       "    .dataframe tbody tr th:only-of-type {\n",
       "        vertical-align: middle;\n",
       "    }\n",
       "\n",
       "    .dataframe tbody tr th {\n",
       "        vertical-align: top;\n",
       "    }\n",
       "\n",
       "    .dataframe thead th {\n",
       "        text-align: right;\n",
       "    }\n",
       "</style>\n",
       "<table border=\"1\" class=\"dataframe\">\n",
       "  <thead>\n",
       "    <tr style=\"text-align: right;\">\n",
       "      <th></th>\n",
       "      <th>shotID</th>\n",
       "      <th>arenaAdjustedShotDistance</th>\n",
       "      <th>arenaAdjustedXCord</th>\n",
       "      <th>arenaAdjustedXCordABS</th>\n",
       "      <th>arenaAdjustedYCord</th>\n",
       "      <th>arenaAdjustedYCordAbs</th>\n",
       "      <th>averageRestDifference</th>\n",
       "      <th>awayEmptyNet</th>\n",
       "      <th>awayPenalty1Length</th>\n",
       "      <th>awayPenalty1TimeLeft</th>\n",
       "      <th>...</th>\n",
       "      <th>xCordAdjusted</th>\n",
       "      <th>xFroze</th>\n",
       "      <th>xGoal</th>\n",
       "      <th>xPlayContinuedInZone</th>\n",
       "      <th>xPlayContinuedOutsideZone</th>\n",
       "      <th>xPlayStopped</th>\n",
       "      <th>xRebound</th>\n",
       "      <th>xShotWasOnGoal</th>\n",
       "      <th>yCord</th>\n",
       "      <th>yCordAdjusted</th>\n",
       "    </tr>\n",
       "  </thead>\n",
       "  <tbody>\n",
       "    <tr>\n",
       "      <th>0</th>\n",
       "      <td>0</td>\n",
       "      <td>4.123106</td>\n",
       "      <td>85.0</td>\n",
       "      <td>85.0</td>\n",
       "      <td>-1.0</td>\n",
       "      <td>1.0</td>\n",
       "      <td>0.0</td>\n",
       "      <td>0</td>\n",
       "      <td>0</td>\n",
       "      <td>0</td>\n",
       "      <td>...</td>\n",
       "      <td>85</td>\n",
       "      <td>0.155329</td>\n",
       "      <td>0.225045</td>\n",
       "      <td>0.305655</td>\n",
       "      <td>0.228355</td>\n",
       "      <td>0.017224</td>\n",
       "      <td>0.068392</td>\n",
       "      <td>0.869615</td>\n",
       "      <td>-1</td>\n",
       "      <td>-1</td>\n",
       "    </tr>\n",
       "    <tr>\n",
       "      <th>1</th>\n",
       "      <td>1</td>\n",
       "      <td>74.000000</td>\n",
       "      <td>26.0</td>\n",
       "      <td>26.0</td>\n",
       "      <td>-38.0</td>\n",
       "      <td>38.0</td>\n",
       "      <td>0.0</td>\n",
       "      <td>0</td>\n",
       "      <td>0</td>\n",
       "      <td>0</td>\n",
       "      <td>...</td>\n",
       "      <td>28</td>\n",
       "      <td>0.162367</td>\n",
       "      <td>0.007936</td>\n",
       "      <td>0.416544</td>\n",
       "      <td>0.371648</td>\n",
       "      <td>0.022486</td>\n",
       "      <td>0.019018</td>\n",
       "      <td>0.653022</td>\n",
       "      <td>-37</td>\n",
       "      <td>-37</td>\n",
       "    </tr>\n",
       "    <tr>\n",
       "      <th>2</th>\n",
       "      <td>2</td>\n",
       "      <td>59.000000</td>\n",
       "      <td>-30.0</td>\n",
       "      <td>30.0</td>\n",
       "      <td>-2.0</td>\n",
       "      <td>2.0</td>\n",
       "      <td>0.0</td>\n",
       "      <td>0</td>\n",
       "      <td>120</td>\n",
       "      <td>85</td>\n",
       "      <td>...</td>\n",
       "      <td>32</td>\n",
       "      <td>0.193412</td>\n",
       "      <td>0.046601</td>\n",
       "      <td>0.451514</td>\n",
       "      <td>0.221776</td>\n",
       "      <td>0.017057</td>\n",
       "      <td>0.069640</td>\n",
       "      <td>0.689400</td>\n",
       "      <td>-2</td>\n",
       "      <td>2</td>\n",
       "    </tr>\n",
       "    <tr>\n",
       "      <th>3</th>\n",
       "      <td>3</td>\n",
       "      <td>49.000000</td>\n",
       "      <td>-43.0</td>\n",
       "      <td>43.0</td>\n",
       "      <td>-17.0</td>\n",
       "      <td>17.0</td>\n",
       "      <td>0.0</td>\n",
       "      <td>0</td>\n",
       "      <td>120</td>\n",
       "      <td>58</td>\n",
       "      <td>...</td>\n",
       "      <td>46</td>\n",
       "      <td>0.169770</td>\n",
       "      <td>0.030498</td>\n",
       "      <td>0.497843</td>\n",
       "      <td>0.223533</td>\n",
       "      <td>0.019922</td>\n",
       "      <td>0.058434</td>\n",
       "      <td>0.666959</td>\n",
       "      <td>-16</td>\n",
       "      <td>16</td>\n",
       "    </tr>\n",
       "    <tr>\n",
       "      <th>4</th>\n",
       "      <td>4</td>\n",
       "      <td>27.000000</td>\n",
       "      <td>-62.0</td>\n",
       "      <td>62.0</td>\n",
       "      <td>-4.0</td>\n",
       "      <td>4.0</td>\n",
       "      <td>14.6</td>\n",
       "      <td>0</td>\n",
       "      <td>0</td>\n",
       "      <td>0</td>\n",
       "      <td>...</td>\n",
       "      <td>64</td>\n",
       "      <td>0.214152</td>\n",
       "      <td>0.111162</td>\n",
       "      <td>0.344699</td>\n",
       "      <td>0.245832</td>\n",
       "      <td>0.044866</td>\n",
       "      <td>0.039289</td>\n",
       "      <td>0.554216</td>\n",
       "      <td>-4</td>\n",
       "      <td>4</td>\n",
       "    </tr>\n",
       "  </tbody>\n",
       "</table>\n",
       "<p>5 rows × 124 columns</p>\n",
       "</div>"
      ],
      "text/plain": [
       "   shotID  arenaAdjustedShotDistance  arenaAdjustedXCord  \\\n",
       "0       0                   4.123106                85.0   \n",
       "1       1                  74.000000                26.0   \n",
       "2       2                  59.000000               -30.0   \n",
       "3       3                  49.000000               -43.0   \n",
       "4       4                  27.000000               -62.0   \n",
       "\n",
       "   arenaAdjustedXCordABS  arenaAdjustedYCord  arenaAdjustedYCordAbs  \\\n",
       "0                   85.0                -1.0                    1.0   \n",
       "1                   26.0               -38.0                   38.0   \n",
       "2                   30.0                -2.0                    2.0   \n",
       "3                   43.0               -17.0                   17.0   \n",
       "4                   62.0                -4.0                    4.0   \n",
       "\n",
       "   averageRestDifference  awayEmptyNet  awayPenalty1Length  \\\n",
       "0                    0.0             0                   0   \n",
       "1                    0.0             0                   0   \n",
       "2                    0.0             0                 120   \n",
       "3                    0.0             0                 120   \n",
       "4                   14.6             0                   0   \n",
       "\n",
       "   awayPenalty1TimeLeft  ...  xCordAdjusted    xFroze     xGoal  \\\n",
       "0                     0  ...             85  0.155329  0.225045   \n",
       "1                     0  ...             28  0.162367  0.007936   \n",
       "2                    85  ...             32  0.193412  0.046601   \n",
       "3                    58  ...             46  0.169770  0.030498   \n",
       "4                     0  ...             64  0.214152  0.111162   \n",
       "\n",
       "   xPlayContinuedInZone  xPlayContinuedOutsideZone  xPlayStopped  xRebound  \\\n",
       "0              0.305655                   0.228355      0.017224  0.068392   \n",
       "1              0.416544                   0.371648      0.022486  0.019018   \n",
       "2              0.451514                   0.221776      0.017057  0.069640   \n",
       "3              0.497843                   0.223533      0.019922  0.058434   \n",
       "4              0.344699                   0.245832      0.044866  0.039289   \n",
       "\n",
       "   xShotWasOnGoal  yCord  yCordAdjusted  \n",
       "0        0.869615     -1             -1  \n",
       "1        0.653022    -37            -37  \n",
       "2        0.689400     -2              2  \n",
       "3        0.666959    -16             16  \n",
       "4        0.554216     -4              4  \n",
       "\n",
       "[5 rows x 124 columns]"
      ]
     },
     "execution_count": 14,
     "metadata": {},
     "output_type": "execute_result"
    }
   ],
   "source": [
    "df_import.head()"
   ]
  },
  {
   "cell_type": "code",
   "execution_count": 15,
   "id": "8f026852",
   "metadata": {},
   "outputs": [],
   "source": [
    "columns = df_import.columns.to_list()"
   ]
  },
  {
   "cell_type": "code",
   "execution_count": 16,
   "id": "a222c8a3",
   "metadata": {},
   "outputs": [
    {
     "data": {
      "text/plain": [
       "['shotID',\n",
       " 'arenaAdjustedShotDistance',\n",
       " 'arenaAdjustedXCord',\n",
       " 'arenaAdjustedXCordABS',\n",
       " 'arenaAdjustedYCord',\n",
       " 'arenaAdjustedYCordAbs',\n",
       " 'averageRestDifference',\n",
       " 'awayEmptyNet',\n",
       " 'awayPenalty1Length',\n",
       " 'awayPenalty1TimeLeft',\n",
       " 'awaySkatersOnIce',\n",
       " 'awayTeamCode',\n",
       " 'awayTeamGoals',\n",
       " 'defendingTeamAverageTimeOnIce',\n",
       " 'defendingTeamAverageTimeOnIceOfDefencemen',\n",
       " 'defendingTeamAverageTimeOnIceOfDefencemenSinceFaceoff',\n",
       " 'defendingTeamAverageTimeOnIceOfForwards',\n",
       " 'defendingTeamAverageTimeOnIceOfForwardsSinceFaceoff',\n",
       " 'defendingTeamAverageTimeOnIceSinceFaceoff',\n",
       " 'defendingTeamDefencemenOnIce',\n",
       " 'defendingTeamForwardsOnIce',\n",
       " 'defendingTeamMaxTimeOnIce',\n",
       " 'defendingTeamMaxTimeOnIceOfDefencemen',\n",
       " 'defendingTeamMaxTimeOnIceOfDefencemenSinceFaceoff',\n",
       " 'defendingTeamMaxTimeOnIceOfForwards',\n",
       " 'defendingTeamMaxTimeOnIceOfForwardsSinceFaceoff',\n",
       " 'defendingTeamMaxTimeOnIceSinceFaceoff',\n",
       " 'defendingTeamMinTimeOnIce',\n",
       " 'defendingTeamMinTimeOnIceOfDefencemen',\n",
       " 'defendingTeamMinTimeOnIceOfDefencemenSinceFaceoff',\n",
       " 'defendingTeamMinTimeOnIceOfForwards',\n",
       " 'defendingTeamMinTimeOnIceOfForwardsSinceFaceoff',\n",
       " 'defendingTeamMinTimeOnIceSinceFaceoff',\n",
       " 'distanceFromLastEvent',\n",
       " 'event',\n",
       " 'game_id',\n",
       " 'goal',\n",
       " 'goalieIdForShot',\n",
       " 'goalieNameForShot',\n",
       " 'homeEmptyNet',\n",
       " 'homePenalty1Length',\n",
       " 'homePenalty1TimeLeft',\n",
       " 'homeSkatersOnIce',\n",
       " 'homeTeamCode',\n",
       " 'homeTeamGoals',\n",
       " 'homeTeamWon',\n",
       " 'id',\n",
       " 'isHomeTeam',\n",
       " 'isPlayoffGame',\n",
       " 'lastEventCategory',\n",
       " 'lastEventShotAngle',\n",
       " 'lastEventShotDistance',\n",
       " 'lastEventTeam',\n",
       " 'lastEventxCord',\n",
       " 'lastEventxCord_adjusted',\n",
       " 'lastEventyCord',\n",
       " 'lastEventyCord_adjusted',\n",
       " 'location',\n",
       " 'offWing',\n",
       " 'period',\n",
       " 'playerNumThatDidEvent',\n",
       " 'playerNumThatDidLastEvent',\n",
       " 'playerPositionThatDidEvent',\n",
       " 'season',\n",
       " 'shooterLeftRight',\n",
       " 'shooterName',\n",
       " 'shooterPlayerId',\n",
       " 'shooterTimeOnIce',\n",
       " 'shooterTimeOnIceSinceFaceoff',\n",
       " 'shootingTeamAverageTimeOnIce',\n",
       " 'shootingTeamAverageTimeOnIceOfDefencemen',\n",
       " 'shootingTeamAverageTimeOnIceOfDefencemenSinceFaceoff',\n",
       " 'shootingTeamAverageTimeOnIceOfForwards',\n",
       " 'shootingTeamAverageTimeOnIceOfForwardsSinceFaceoff',\n",
       " 'shootingTeamAverageTimeOnIceSinceFaceoff',\n",
       " 'shootingTeamDefencemenOnIce',\n",
       " 'shootingTeamForwardsOnIce',\n",
       " 'shootingTeamMaxTimeOnIce',\n",
       " 'shootingTeamMaxTimeOnIceOfDefencemen',\n",
       " 'shootingTeamMaxTimeOnIceOfDefencemenSinceFaceoff',\n",
       " 'shootingTeamMaxTimeOnIceOfForwards',\n",
       " 'shootingTeamMaxTimeOnIceOfForwardsSinceFaceoff',\n",
       " 'shootingTeamMaxTimeOnIceSinceFaceoff',\n",
       " 'shootingTeamMinTimeOnIce',\n",
       " 'shootingTeamMinTimeOnIceOfDefencemen',\n",
       " 'shootingTeamMinTimeOnIceOfDefencemenSinceFaceoff',\n",
       " 'shootingTeamMinTimeOnIceOfForwards',\n",
       " 'shootingTeamMinTimeOnIceOfForwardsSinceFaceoff',\n",
       " 'shootingTeamMinTimeOnIceSinceFaceoff',\n",
       " 'shotAngle',\n",
       " 'shotAngleAdjusted',\n",
       " 'shotAnglePlusRebound',\n",
       " 'shotAnglePlusReboundSpeed',\n",
       " 'shotAngleReboundRoyalRoad',\n",
       " 'shotDistance',\n",
       " 'shotGeneratedRebound',\n",
       " 'shotGoalieFroze',\n",
       " 'shotOnEmptyNet',\n",
       " 'shotPlayContinuedInZone',\n",
       " 'shotPlayContinuedOutsideZone',\n",
       " 'shotPlayStopped',\n",
       " 'shotRebound',\n",
       " 'shotRush',\n",
       " 'shotType',\n",
       " 'shotWasOnGoal',\n",
       " 'speedFromLastEvent',\n",
       " 'team',\n",
       " 'teamCode',\n",
       " 'time',\n",
       " 'timeDifferenceSinceChange',\n",
       " 'timeSinceFaceoff',\n",
       " 'timeSinceLastEvent',\n",
       " 'timeUntilNextEvent',\n",
       " 'xCord',\n",
       " 'xCordAdjusted',\n",
       " 'xFroze',\n",
       " 'xGoal',\n",
       " 'xPlayContinuedInZone',\n",
       " 'xPlayContinuedOutsideZone',\n",
       " 'xPlayStopped',\n",
       " 'xRebound',\n",
       " 'xShotWasOnGoal',\n",
       " 'yCord',\n",
       " 'yCordAdjusted']"
      ]
     },
     "execution_count": 16,
     "metadata": {},
     "output_type": "execute_result"
    }
   ],
   "source": [
    "columns"
   ]
  },
  {
   "cell_type": "code",
   "execution_count": 19,
   "id": "f728467f",
   "metadata": {},
   "outputs": [
    {
     "name": "stdout",
     "output_type": "stream",
     "text": [
      "104172\n",
      "73071\n"
     ]
    }
   ],
   "source": [
    "filter_1 = df_import['awaySkatersOnIce']==5\n",
    "filter_2 = df_import['homeSkatersOnIce']==5\n",
    "filter_3 = df_import['awayEmptyNet']==0.0\n",
    "filter_4 = df_import['homeEmptyNet']==0.0\n",
    "filter_5 = df_import['isPlayoffGame']==0.0\n",
    "df_filtered = df_import[filter_1 & filter_2 & filter_3 & filter_4 & filter_5]\n",
    "print(df_import.shape[0])\n",
    "print(df_filtered.shape[0])"
   ]
  },
  {
   "cell_type": "code",
   "execution_count": 30,
   "id": "335b27ff",
   "metadata": {},
   "outputs": [
    {
     "data": {
      "text/html": [
       "<div>\n",
       "<style scoped>\n",
       "    .dataframe tbody tr th:only-of-type {\n",
       "        vertical-align: middle;\n",
       "    }\n",
       "\n",
       "    .dataframe tbody tr th {\n",
       "        vertical-align: top;\n",
       "    }\n",
       "\n",
       "    .dataframe thead th {\n",
       "        text-align: right;\n",
       "    }\n",
       "</style>\n",
       "<table border=\"1\" class=\"dataframe\">\n",
       "  <thead>\n",
       "    <tr style=\"text-align: right;\">\n",
       "      <th></th>\n",
       "      <th>arenaAdjustedShotDistance</th>\n",
       "      <th>shotAngle</th>\n",
       "      <th>shotType</th>\n",
       "      <th>goal</th>\n",
       "    </tr>\n",
       "  </thead>\n",
       "  <tbody>\n",
       "    <tr>\n",
       "      <th>0</th>\n",
       "      <td>4.123106</td>\n",
       "      <td>-14.036243</td>\n",
       "      <td>TIP</td>\n",
       "      <td>1</td>\n",
       "    </tr>\n",
       "    <tr>\n",
       "      <th>1</th>\n",
       "      <td>74.000000</td>\n",
       "      <td>-31.239215</td>\n",
       "      <td>SLAP</td>\n",
       "      <td>0</td>\n",
       "    </tr>\n",
       "    <tr>\n",
       "      <th>4</th>\n",
       "      <td>27.000000</td>\n",
       "      <td>9.090277</td>\n",
       "      <td>TIP</td>\n",
       "      <td>0</td>\n",
       "    </tr>\n",
       "    <tr>\n",
       "      <th>5</th>\n",
       "      <td>30.000000</td>\n",
       "      <td>-12.994617</td>\n",
       "      <td>SNAP</td>\n",
       "      <td>0</td>\n",
       "    </tr>\n",
       "    <tr>\n",
       "      <th>6</th>\n",
       "      <td>40.000000</td>\n",
       "      <td>33.690068</td>\n",
       "      <td>WRIST</td>\n",
       "      <td>0</td>\n",
       "    </tr>\n",
       "  </tbody>\n",
       "</table>\n",
       "</div>"
      ],
      "text/plain": [
       "   arenaAdjustedShotDistance  shotAngle shotType  goal\n",
       "0                   4.123106 -14.036243      TIP     1\n",
       "1                  74.000000 -31.239215     SLAP     0\n",
       "4                  27.000000   9.090277      TIP     0\n",
       "5                  30.000000 -12.994617     SNAP     0\n",
       "6                  40.000000  33.690068    WRIST     0"
      ]
     },
     "execution_count": 30,
     "metadata": {},
     "output_type": "execute_result"
    }
   ],
   "source": [
    "new_col = ['arenaAdjustedShotDistance','shotAngle','shotType','goal']\n",
    "df = df_filtered[new_col]\n",
    "df.head()"
   ]
  },
  {
   "cell_type": "code",
   "execution_count": 34,
   "id": "faf8468b",
   "metadata": {},
   "outputs": [
    {
     "name": "stdout",
     "output_type": "stream",
     "text": [
      "<class 'pandas.core.frame.DataFrame'>\n",
      "Int64Index: 73071 entries, 0 to 104097\n",
      "Data columns (total 4 columns):\n",
      " #   Column                     Non-Null Count  Dtype  \n",
      "---  ------                     --------------  -----  \n",
      " 0   arenaAdjustedShotDistance  73071 non-null  float64\n",
      " 1   shotAngle                  73071 non-null  float64\n",
      " 2   shotType                   73071 non-null  object \n",
      " 3   goal                       73071 non-null  int64  \n",
      "dtypes: float64(2), int64(1), object(1)\n",
      "memory usage: 2.8+ MB\n"
     ]
    }
   ],
   "source": [
    "df.info()"
   ]
  },
  {
   "cell_type": "code",
   "execution_count": 35,
   "id": "00e3c0d0",
   "metadata": {},
   "outputs": [
    {
     "data": {
      "text/plain": [
       "WRIST    40382\n",
       "SLAP     10315\n",
       "SNAP      9303\n",
       "BACK      5579\n",
       "TIP       4978\n",
       "DEFL      1777\n",
       "WRAP       737\n",
       "Name: shotType, dtype: int64"
      ]
     },
     "execution_count": 35,
     "metadata": {},
     "output_type": "execute_result"
    }
   ],
   "source": [
    "df.shotType.value_counts()"
   ]
  },
  {
   "cell_type": "code",
   "execution_count": 33,
   "id": "afcccdfe",
   "metadata": {},
   "outputs": [
    {
     "name": "stderr",
     "output_type": "stream",
     "text": [
      "C:\\Users\\Wolgy\\anaconda3\\lib\\site-packages\\pandas\\core\\series.py:4463: SettingWithCopyWarning: \n",
      "A value is trying to be set on a copy of a slice from a DataFrame\n",
      "\n",
      "See the caveats in the documentation: https://pandas.pydata.org/pandas-docs/stable/user_guide/indexing.html#returning-a-view-versus-a-copy\n",
      "  return super().fillna(\n"
     ]
    }
   ],
   "source": [
    "df.shotType.fillna('WRIST',inplace=True)"
   ]
  },
  {
   "cell_type": "code",
   "execution_count": 43,
   "id": "03771695",
   "metadata": {},
   "outputs": [],
   "source": [
    "from sklearn.preprocessing import OneHotEncoder\n",
    "enc = OneHotEncoder(handle_unknown='ignore')"
   ]
  },
  {
   "cell_type": "code",
   "execution_count": 44,
   "id": "a7352306",
   "metadata": {},
   "outputs": [],
   "source": [
    "df_enc = pd.get_dummies(df,prefix=['shotType'], columns = ['shotType'], drop_first=True)"
   ]
  },
  {
   "cell_type": "code",
   "execution_count": 45,
   "id": "d292aab8",
   "metadata": {},
   "outputs": [
    {
     "data": {
      "text/html": [
       "<div>\n",
       "<style scoped>\n",
       "    .dataframe tbody tr th:only-of-type {\n",
       "        vertical-align: middle;\n",
       "    }\n",
       "\n",
       "    .dataframe tbody tr th {\n",
       "        vertical-align: top;\n",
       "    }\n",
       "\n",
       "    .dataframe thead th {\n",
       "        text-align: right;\n",
       "    }\n",
       "</style>\n",
       "<table border=\"1\" class=\"dataframe\">\n",
       "  <thead>\n",
       "    <tr style=\"text-align: right;\">\n",
       "      <th></th>\n",
       "      <th>arenaAdjustedShotDistance</th>\n",
       "      <th>shotAngle</th>\n",
       "      <th>goal</th>\n",
       "      <th>shotType_DEFL</th>\n",
       "      <th>shotType_SLAP</th>\n",
       "      <th>shotType_SNAP</th>\n",
       "      <th>shotType_TIP</th>\n",
       "      <th>shotType_WRAP</th>\n",
       "      <th>shotType_WRIST</th>\n",
       "    </tr>\n",
       "  </thead>\n",
       "  <tbody>\n",
       "    <tr>\n",
       "      <th>0</th>\n",
       "      <td>4.123106</td>\n",
       "      <td>-14.036243</td>\n",
       "      <td>1</td>\n",
       "      <td>0</td>\n",
       "      <td>0</td>\n",
       "      <td>0</td>\n",
       "      <td>1</td>\n",
       "      <td>0</td>\n",
       "      <td>0</td>\n",
       "    </tr>\n",
       "    <tr>\n",
       "      <th>1</th>\n",
       "      <td>74.000000</td>\n",
       "      <td>-31.239215</td>\n",
       "      <td>0</td>\n",
       "      <td>0</td>\n",
       "      <td>1</td>\n",
       "      <td>0</td>\n",
       "      <td>0</td>\n",
       "      <td>0</td>\n",
       "      <td>0</td>\n",
       "    </tr>\n",
       "    <tr>\n",
       "      <th>4</th>\n",
       "      <td>27.000000</td>\n",
       "      <td>9.090277</td>\n",
       "      <td>0</td>\n",
       "      <td>0</td>\n",
       "      <td>0</td>\n",
       "      <td>0</td>\n",
       "      <td>1</td>\n",
       "      <td>0</td>\n",
       "      <td>0</td>\n",
       "    </tr>\n",
       "    <tr>\n",
       "      <th>5</th>\n",
       "      <td>30.000000</td>\n",
       "      <td>-12.994617</td>\n",
       "      <td>0</td>\n",
       "      <td>0</td>\n",
       "      <td>0</td>\n",
       "      <td>1</td>\n",
       "      <td>0</td>\n",
       "      <td>0</td>\n",
       "      <td>0</td>\n",
       "    </tr>\n",
       "    <tr>\n",
       "      <th>6</th>\n",
       "      <td>40.000000</td>\n",
       "      <td>33.690068</td>\n",
       "      <td>0</td>\n",
       "      <td>0</td>\n",
       "      <td>0</td>\n",
       "      <td>0</td>\n",
       "      <td>0</td>\n",
       "      <td>0</td>\n",
       "      <td>1</td>\n",
       "    </tr>\n",
       "  </tbody>\n",
       "</table>\n",
       "</div>"
      ],
      "text/plain": [
       "   arenaAdjustedShotDistance  shotAngle  goal  shotType_DEFL  shotType_SLAP  \\\n",
       "0                   4.123106 -14.036243     1              0              0   \n",
       "1                  74.000000 -31.239215     0              0              1   \n",
       "4                  27.000000   9.090277     0              0              0   \n",
       "5                  30.000000 -12.994617     0              0              0   \n",
       "6                  40.000000  33.690068     0              0              0   \n",
       "\n",
       "   shotType_SNAP  shotType_TIP  shotType_WRAP  shotType_WRIST  \n",
       "0              0             1              0               0  \n",
       "1              0             0              0               0  \n",
       "4              0             1              0               0  \n",
       "5              1             0              0               0  \n",
       "6              0             0              0               1  "
      ]
     },
     "execution_count": 45,
     "metadata": {},
     "output_type": "execute_result"
    }
   ],
   "source": [
    "df_enc.head()"
   ]
  },
  {
   "cell_type": "code",
   "execution_count": 50,
   "id": "4ba6d2dc",
   "metadata": {},
   "outputs": [],
   "source": [
    "X = df_enc.drop(['goal'], axis=1)\n",
    "y = df_enc.goal"
   ]
  },
  {
   "cell_type": "code",
   "execution_count": 51,
   "id": "523cf713",
   "metadata": {},
   "outputs": [],
   "source": [
    "from sklearn.model_selection import train_test_split\n",
    "X_train, X_test, y_train, y_test = train_test_split(X, y, test_size=0.25, random_state=101)"
   ]
  },
  {
   "cell_type": "code",
   "execution_count": 48,
   "id": "d4500197",
   "metadata": {},
   "outputs": [],
   "source": [
    "from sklearn.ensemble import RandomForestRegressor"
   ]
  },
  {
   "cell_type": "code",
   "execution_count": 53,
   "id": "90b795ca",
   "metadata": {},
   "outputs": [
    {
     "data": {
      "text/plain": [
       "RandomForestRegressor(random_state=101)"
      ]
     },
     "execution_count": 53,
     "metadata": {},
     "output_type": "execute_result"
    }
   ],
   "source": [
    "regressor = RandomForestRegressor(n_estimators = 100, random_state = 101)\n",
    "regressor.fit(X_train,y_train)"
   ]
  },
  {
   "cell_type": "code",
   "execution_count": 55,
   "id": "39d9d0cf",
   "metadata": {},
   "outputs": [],
   "source": [
    "y_pred = regressor.predict(X_test)"
   ]
  },
  {
   "cell_type": "code",
   "execution_count": 56,
   "id": "d9a5a9e2",
   "metadata": {},
   "outputs": [
    {
     "data": {
      "text/plain": [
       "0.10664663893123719"
      ]
     },
     "execution_count": 56,
     "metadata": {},
     "output_type": "execute_result"
    }
   ],
   "source": [
    "from sklearn.metrics import mean_absolute_error\n",
    "mean_absolute_error(y_test, y_pred)"
   ]
  },
  {
   "cell_type": "code",
   "execution_count": 57,
   "id": "0d0dbd14",
   "metadata": {},
   "outputs": [
    {
     "data": {
      "text/plain": [
       "0.06430813686619531"
      ]
     },
     "execution_count": 57,
     "metadata": {},
     "output_type": "execute_result"
    }
   ],
   "source": [
    "from sklearn.metrics import mean_squared_error\n",
    "mean_squared_error(y_test, y_pred)"
   ]
  },
  {
   "cell_type": "code",
   "execution_count": 62,
   "id": "ec82e5fe",
   "metadata": {},
   "outputs": [
    {
     "data": {
      "text/plain": [
       "-0.18389322441280775"
      ]
     },
     "execution_count": 62,
     "metadata": {},
     "output_type": "execute_result"
    }
   ],
   "source": [
    "from sklearn.metrics import r2_score\n",
    "r2_score(y_test, y_pred)"
   ]
  },
  {
   "cell_type": "code",
   "execution_count": 64,
   "id": "ee673201",
   "metadata": {},
   "outputs": [
    {
     "data": {
      "text/plain": [
       "0.10762853411790117"
      ]
     },
     "execution_count": 64,
     "metadata": {},
     "output_type": "execute_result"
    }
   ],
   "source": [
    "from sklearn.metrics import mean_absolute_error\n",
    "mean_absolute_error(df_import.goal, df_import.xGoal)"
   ]
  },
  {
   "cell_type": "code",
   "execution_count": 65,
   "id": "2656d13e",
   "metadata": {},
   "outputs": [
    {
     "data": {
      "text/plain": [
       "0.054590182804892605"
      ]
     },
     "execution_count": 65,
     "metadata": {},
     "output_type": "execute_result"
    }
   ],
   "source": [
    "from sklearn.metrics import mean_squared_error\n",
    "mean_squared_error(df_import.goal, df_import.xGoal)"
   ]
  },
  {
   "cell_type": "code",
   "execution_count": 66,
   "id": "85d1e719",
   "metadata": {},
   "outputs": [
    {
     "data": {
      "text/plain": [
       "0.1445936965975827"
      ]
     },
     "execution_count": 66,
     "metadata": {},
     "output_type": "execute_result"
    }
   ],
   "source": [
    "r2_score(df_import.goal, df_import.xGoal)"
   ]
  },
  {
   "cell_type": "code",
   "execution_count": null,
   "id": "858ddcb3",
   "metadata": {},
   "outputs": [],
   "source": []
  }
 ],
 "metadata": {
  "kernelspec": {
   "display_name": "Python 3",
   "language": "python",
   "name": "python3"
  },
  "language_info": {
   "codemirror_mode": {
    "name": "ipython",
    "version": 3
   },
   "file_extension": ".py",
   "mimetype": "text/x-python",
   "name": "python",
   "nbconvert_exporter": "python",
   "pygments_lexer": "ipython3",
   "version": "3.8.8"
  }
 },
 "nbformat": 4,
 "nbformat_minor": 5
}
