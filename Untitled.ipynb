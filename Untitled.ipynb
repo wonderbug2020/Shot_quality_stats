{
 "cells": [
  {
   "cell_type": "code",
   "execution_count": 1,
   "id": "4db5e002",
   "metadata": {},
   "outputs": [],
   "source": [
    "import pandas as pd\n",
    "import ModelMaker as mm"
   ]
  },
  {
   "cell_type": "code",
   "execution_count": 2,
   "id": "692a482e",
   "metadata": {},
   "outputs": [],
   "source": [
    "df_11 = pd.read_csv('data/pbp/ready_to_model/version_4/10_11_pbp_cleaned.csv')\n",
    "df_12 = pd.read_csv('data/pbp/ready_to_model/version_4/11_12_pbp_cleaned.csv')\n",
    "df_13 = pd.read_csv('data/pbp/ready_to_model/version_4/12_13_pbp_cleaned.csv')\n",
    "df_14 = pd.read_csv('data/pbp/ready_to_model/version_4/13_14_pbp_cleaned.csv')\n",
    "df_15 = pd.read_csv('data/pbp/ready_to_model/version_4/14_15_pbp_cleaned.csv')\n",
    "df_16 = pd.read_csv('data/pbp/ready_to_model/version_4/15_16_pbp_cleaned.csv')\n",
    "df_17 = pd.read_csv('data/pbp/ready_to_model/version_4/16_17_pbp_cleaned.csv')\n",
    "df_18 = pd.read_csv('data/pbp/ready_to_model/version_4/17_18_pbp_cleaned.csv')\n",
    "df_19 = pd.read_csv('data/pbp/ready_to_model/version_4/18_19_pbp_cleaned.csv')\n",
    "df_20 = pd.read_csv('data/pbp/ready_to_model/version_4/19_20_pbp_cleaned.csv')\n",
    "df_21 = pd.read_csv('data/pbp/ready_to_model/version_4/20_21_pbp_cleaned.csv')\n",
    "df = pd.concat([df_11,df_12,df_13,df_14,df_15,df_16,df_17])"
   ]
  },
  {
   "cell_type": "code",
   "execution_count": 7,
   "id": "97754a1d",
   "metadata": {},
   "outputs": [],
   "source": [
    "df_2021 = pd.concat([df_21,df_20])\n",
    "df_1921 = pd.concat([df_21,df_20,df_19])\n",
    "df_1821 = pd.concat([df_21,df_20,df_19,df_18])\n",
    "df_1721 = pd.concat([df_21,df_20,df_19,df_18,df_17])\n",
    "df_1621 = pd.concat([df_21,df_20,df_19,df_18,df_17,df_16])\n",
    "df_1521 = pd.concat([df_21,df_20,df_19,df_18,df_17,df_16,df_15])\n",
    "df_1421 = pd.concat([df_21,df_20,df_19,df_18,df_17,df_16,df_15,df_14])\n",
    "df_1321 = pd.concat([df_21,df_20,df_19,df_18,df_17,df_16,df_15,df_14,df_13])\n",
    "df_1221 = pd.concat([df_21,df_20,df_19,df_18,df_17,df_16,df_15,df_14,df_13,df_12])\n",
    "df_1121 = pd.concat([df_21,df_20,df_19,df_18,df_17,df_16,df_15,df_14,df_13,df_12,df_11])"
   ]
  },
  {
   "cell_type": "code",
   "execution_count": 10,
   "id": "91e64d68",
   "metadata": {},
   "outputs": [
    {
     "name": "stdout",
     "output_type": "stream",
     "text": [
      "for year 21\n",
      "Running XGB model, please be patient\n",
      "Fitting the test data to the model\n",
      "The Log loss is 0.19647\n",
      "for year 20\n",
      "Running XGB model, please be patient\n",
      "Fitting the test data to the model\n",
      "The Log loss is 0.19994\n",
      "for year 19\n",
      "Running XGB model, please be patient\n",
      "Fitting the test data to the model\n",
      "The Log loss is 0.19994\n",
      "for year 18\n",
      "Running XGB model, please be patient\n",
      "Fitting the test data to the model\n",
      "The Log loss is 0.19547\n",
      "for year 17\n",
      "Running XGB model, please be patient\n",
      "Fitting the test data to the model\n",
      "The Log loss is 0.19546\n",
      "for year 16\n",
      "Running XGB model, please be patient\n",
      "Fitting the test data to the model\n",
      "The Log loss is 0.19994\n",
      "for year 15\n",
      "Running XGB model, please be patient\n",
      "Fitting the test data to the model\n",
      "The Log loss is 0.19994\n",
      "for year 14\n",
      "Running XGB model, please be patient\n",
      "Fitting the test data to the model\n",
      "The Log loss is 0.19994\n",
      "for year 13\n",
      "Running XGB model, please be patient\n",
      "Fitting the test data to the model\n",
      "The Log loss is 0.19994\n",
      "for year 12\n",
      "Running XGB model, please be patient\n",
      "Fitting the test data to the model\n",
      "The Log loss is 0.19994\n",
      "for year 11\n",
      "Running XGB model, please be patient\n",
      "Fitting the test data to the model\n",
      "The Log loss is 0.19994\n"
     ]
    }
   ],
   "source": [
    "ten_yr = [df_21,df_2021,df_1921,df_1821,df_1721,df_1621,df_1521,df_1421,df_1321,df_1221,df_1121]\n",
    "start_year = 21\n",
    "for df in ten_yr:\n",
    "    print(f'for year {start_year}')\n",
    "    mm.run_XGB(df)    \n",
    "    start_year -= 1"
   ]
  },
  {
   "cell_type": "code",
   "execution_count": null,
   "id": "13d73dce",
   "metadata": {},
   "outputs": [],
   "source": []
  },
  {
   "cell_type": "code",
   "execution_count": 4,
   "id": "c931c69c",
   "metadata": {},
   "outputs": [
    {
     "name": "stdout",
     "output_type": "stream",
     "text": [
      "Running XGB model, please be patient\n",
      "Fitting the test data to the model\n",
      "The Log loss is 0.18822\n"
     ]
    }
   ],
   "source": [
    "mm.run_XGB(df)"
   ]
  },
  {
   "cell_type": "code",
   "execution_count": 3,
   "id": "174d19fd",
   "metadata": {},
   "outputs": [
    {
     "name": "stdout",
     "output_type": "stream",
     "text": [
      "Device used : cpu\n",
      "Running the TabNet DNN, this could take a while\n",
      "epoch 0  | loss: 0.06328 | train_logloss: 0.21154 | val_logloss: 0.21529 |  0:00:33s\n",
      "epoch 1  | loss: 0.052   | train_logloss: 0.20675 | val_logloss: 0.21182 |  0:01:09s\n",
      "epoch 2  | loss: 0.05122 | train_logloss: 0.19965 | val_logloss: 0.2023  |  0:01:44s\n"
     ]
    },
    {
     "name": "stderr",
     "output_type": "stream",
     "text": [
      "C:\\Users\\Wolgy\\anaconda3\\lib\\site-packages\\sklearn\\metrics\\_classification.py:2279: RuntimeWarning: divide by zero encountered in log\n",
      "  loss = -(transformed_labels * np.log(y_pred)).sum(axis=1)\n"
     ]
    },
    {
     "name": "stdout",
     "output_type": "stream",
     "text": [
      "epoch 3  | loss: 0.05081 | train_logloss: inf     | val_logloss: 0.20381 |  0:02:19s\n",
      "epoch 4  | loss: 0.05058 | train_logloss: 0.19483 | val_logloss: 0.19961 |  0:02:54s\n",
      "epoch 5  | loss: 0.05036 | train_logloss: 0.19367 | val_logloss: 0.19837 |  0:03:29s\n",
      "epoch 6  | loss: 0.05027 | train_logloss: 0.19451 | val_logloss: 0.19916 |  0:04:03s\n",
      "epoch 7  | loss: 0.05013 | train_logloss: 0.19393 | val_logloss: 0.19838 |  0:04:44s\n",
      "epoch 8  | loss: 0.05006 | train_logloss: 0.19376 | val_logloss: 0.19815 |  0:05:18s\n",
      "epoch 9  | loss: 0.05003 | train_logloss: 0.19373 | val_logloss: 0.19806 |  0:05:54s\n",
      "epoch 10 | loss: 0.04994 | train_logloss: 0.19521 | val_logloss: 0.1994  |  0:06:28s\n",
      "epoch 11 | loss: 0.04982 | train_logloss: 0.19229 | val_logloss: 0.19701 |  0:07:03s\n",
      "epoch 12 | loss: 0.04975 | train_logloss: 0.19433 | val_logloss: 0.19801 |  0:07:40s\n",
      "epoch 13 | loss: 0.04981 | train_logloss: 0.19334 | val_logloss: 0.19809 |  0:08:13s\n",
      "epoch 14 | loss: 0.04972 | train_logloss: 0.19719 | val_logloss: 0.2013  |  0:08:48s\n",
      "epoch 15 | loss: 0.04965 | train_logloss: 0.19046 | val_logloss: 0.19511 |  0:09:24s\n",
      "epoch 16 | loss: 0.04951 | train_logloss: 0.19066 | val_logloss: 0.19577 |  0:09:57s\n",
      "epoch 17 | loss: 0.0495  | train_logloss: 0.19223 | val_logloss: 0.19707 |  0:10:32s\n",
      "epoch 18 | loss: 0.04949 | train_logloss: 0.19175 | val_logloss: 0.19672 |  0:11:06s\n",
      "epoch 19 | loss: 0.04945 | train_logloss: 0.19349 | val_logloss: 0.19842 |  0:11:46s\n",
      "Stop training because you reached max_epochs = 20 with best_epoch = 15 and best_val_logloss = 0.19511\n",
      "Best weights from best epoch are automatically used!\n",
      "Fitting the test data to the model\n",
      "The Log loss is 0.1883\n"
     ]
    }
   ],
   "source": [
    "mm.run_tabnet(df)"
   ]
  },
  {
   "cell_type": "code",
   "execution_count": null,
   "id": "656140f5",
   "metadata": {},
   "outputs": [],
   "source": []
  }
 ],
 "metadata": {
  "kernelspec": {
   "display_name": "Python 3",
   "language": "python",
   "name": "python3"
  },
  "language_info": {
   "codemirror_mode": {
    "name": "ipython",
    "version": 3
   },
   "file_extension": ".py",
   "mimetype": "text/x-python",
   "name": "python",
   "nbconvert_exporter": "python",
   "pygments_lexer": "ipython3",
   "version": "3.8.8"
  }
 },
 "nbformat": 4,
 "nbformat_minor": 5
}
