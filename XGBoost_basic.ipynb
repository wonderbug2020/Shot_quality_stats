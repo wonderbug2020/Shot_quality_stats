{
 "cells": [
  {
   "cell_type": "code",
   "execution_count": 1,
   "id": "08782e67",
   "metadata": {},
   "outputs": [],
   "source": [
    "import time\n",
    "import pandas as pd\n",
    "import xgboost as xgb\n",
    "from sklearn.model_selection import train_test_split\n",
    "from sklearn.metrics import log_loss"
   ]
  },
  {
   "cell_type": "code",
   "execution_count": 2,
   "id": "cee100e4",
   "metadata": {},
   "outputs": [],
   "source": [
    "df_import = pd.read_csv('data/pbp/ready_to_model/19_20_pbp_cleaned.csv')"
   ]
  },
  {
   "cell_type": "code",
   "execution_count": 3,
   "id": "1e7d8f18",
   "metadata": {},
   "outputs": [],
   "source": [
    "X = df_import.iloc[:,:-1].values\n",
    "y = df_import.iloc[:,-1].values"
   ]
  },
  {
   "cell_type": "code",
   "execution_count": 4,
   "id": "e0f2672d",
   "metadata": {},
   "outputs": [],
   "source": [
    "from sklearn.model_selection import train_test_split\n",
    "X_train, X_test, y_train, y_test = train_test_split(X, y, test_size=0.25, random_state=101)"
   ]
  },
  {
   "cell_type": "code",
   "execution_count": 5,
   "id": "66c9741d",
   "metadata": {},
   "outputs": [],
   "source": [
    "xgb_reg = xgb.XGBRegressor(max_depth=3, n_estimators=100, n_jobs=2,\n",
    "                           objectvie='binary:logistic', booster='gbtree',\n",
    "                           random_state=42, learning_rate=0.05)"
   ]
  },
  {
   "cell_type": "code",
   "execution_count": 18,
   "id": "ccde0565",
   "metadata": {},
   "outputs": [],
   "source": [
    "xgb_reg = xgb.XGBRegressor(objective='binary:logistic',\n",
    "                           gamme = .12, \n",
    "                           eval_metric = 'auc',\n",
    "                           #eval_metric = 'auc', \n",
    "                           eta = .068,\n",
    "                           subsample = .78,\n",
    "                           colsample_bytree = .76,\n",
    "                           min_child_weight = 9,\n",
    "                           max_delta_step = 5,\n",
    "                           nthread = 4)"
   ]
  },
  {
   "cell_type": "code",
   "execution_count": 19,
   "id": "99de6b4b",
   "metadata": {},
   "outputs": [
    {
     "name": "stdout",
     "output_type": "stream",
     "text": [
      "[17:56:51] WARNING: ..\\src\\learner.cc:541: \n",
      "Parameters: { gamme, verbose } might not be used.\n",
      "\n",
      "  This may not be accurate due to some parameters are only used in language bindings but\n",
      "  passed down to XGBoost core.  Or some parameters are not used but slip through this\n",
      "  verification. Please open an issue if you find above cases.\n",
      "\n",
      "\n",
      "-2.1822104454040527\n"
     ]
    }
   ],
   "source": [
    "start = time.time()\n",
    "xgb_reg.fit(X_train, y_train)\n",
    "print(start-time.time())"
   ]
  },
  {
   "cell_type": "code",
   "execution_count": 20,
   "id": "e1756873",
   "metadata": {},
   "outputs": [],
   "source": [
    "y_pred = xgb_reg.predict(X_test)"
   ]
  },
  {
   "cell_type": "code",
   "execution_count": 21,
   "id": "3d125431",
   "metadata": {},
   "outputs": [
    {
     "name": "stdout",
     "output_type": "stream",
     "text": [
      "0.2025059397345484\n"
     ]
    }
   ],
   "source": [
    "from sklearn.metrics import log_loss\n",
    "print(log_loss(y_test, y_pred))"
   ]
  },
  {
   "cell_type": "code",
   "execution_count": 22,
   "id": "26e3a8b6",
   "metadata": {},
   "outputs": [],
   "source": [
    "#Same method but more data"
   ]
  },
  {
   "cell_type": "code",
   "execution_count": 28,
   "id": "8f5033af",
   "metadata": {},
   "outputs": [],
   "source": [
    "df_15_16 = pd.read_csv('data/pbp/ready_to_model/15_16_pbp_cleaned.csv')\n",
    "df_17_18 = pd.read_csv('data/pbp/ready_to_model/17_18_pbp_cleaned.csv')\n",
    "df_18_19 = pd.read_csv('data/pbp/ready_to_model/18_19_pbp_cleaned.csv')\n",
    "df_19_20 = pd.read_csv('data/pbp/ready_to_model/19_20_pbp_cleaned.csv')\n",
    "df_bg = pd.concat([df_15_16,df_17_18,df_18_19,df_19_20])"
   ]
  },
  {
   "cell_type": "code",
   "execution_count": 29,
   "id": "fea3185c",
   "metadata": {},
   "outputs": [],
   "source": [
    "X = df_bg.iloc[:,:-1].values\n",
    "y = df_bg.iloc[:,-1].values"
   ]
  },
  {
   "cell_type": "code",
   "execution_count": 30,
   "id": "5721a1aa",
   "metadata": {},
   "outputs": [],
   "source": [
    "X_train, X_test, y_train, y_test = train_test_split(X, y, test_size=0.25, random_state=101)\n",
    "\n",
    "xgb_reg = xgb.XGBRegressor(objective='binary:logistic',\n",
    "                           gamme = .12, \n",
    "                           eval_metric = 'auc',\n",
    "                           #eval_metric = 'auc', \n",
    "                           eta = .068,\n",
    "                           subsample = .78,\n",
    "                           colsample_bytree = .76,\n",
    "                           min_child_weight = 9,\n",
    "                           max_delta_step = 5,\n",
    "                           nthread = 4)"
   ]
  },
  {
   "cell_type": "code",
   "execution_count": 31,
   "id": "9b5b484e",
   "metadata": {},
   "outputs": [
    {
     "name": "stdout",
     "output_type": "stream",
     "text": [
      "[18:11:31] WARNING: ..\\src\\learner.cc:541: \n",
      "Parameters: { gamme } might not be used.\n",
      "\n",
      "  This may not be accurate due to some parameters are only used in language bindings but\n",
      "  passed down to XGBoost core.  Or some parameters are not used but slip through this\n",
      "  verification. Please open an issue if you find above cases.\n",
      "\n",
      "\n",
      "-9.580221891403198\n"
     ]
    }
   ],
   "source": [
    "start = time.time()\n",
    "xgb_reg.fit(X_train, y_train)\n",
    "print(start-time.time())"
   ]
  },
  {
   "cell_type": "code",
   "execution_count": 32,
   "id": "43a1411f",
   "metadata": {},
   "outputs": [
    {
     "name": "stdout",
     "output_type": "stream",
     "text": [
      "0.1954753770037022\n"
     ]
    }
   ],
   "source": [
    "y_pred = xgb_reg.predict(X_test)\n",
    "print(log_loss(y_test, y_pred))"
   ]
  },
  {
   "cell_type": "code",
   "execution_count": null,
   "id": "f047363e",
   "metadata": {},
   "outputs": [],
   "source": []
  }
 ],
 "metadata": {
  "kernelspec": {
   "display_name": "Python 3",
   "language": "python",
   "name": "python3"
  },
  "language_info": {
   "codemirror_mode": {
    "name": "ipython",
    "version": 3
   },
   "file_extension": ".py",
   "mimetype": "text/x-python",
   "name": "python",
   "nbconvert_exporter": "python",
   "pygments_lexer": "ipython3",
   "version": "3.8.8"
  }
 },
 "nbformat": 4,
 "nbformat_minor": 5
}
